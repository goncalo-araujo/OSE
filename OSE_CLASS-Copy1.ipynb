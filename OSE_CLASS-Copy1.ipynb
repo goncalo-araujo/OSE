{
 "cells": [
  {
   "cell_type": "markdown",
   "id": "0da2e72a",
   "metadata": {},
   "source": [
    "# Import Eppy and Set Work Environment"
   ]
  },
  {
   "cell_type": "markdown",
   "id": "60e44987",
   "metadata": {},
   "source": [
    "In this cell we import the EnergyPlus idd file, building idf file, and materials idf file that contains our material library (which we will require later on)."
   ]
  },
  {
   "cell_type": "code",
   "execution_count": 1,
   "id": "d351114a",
   "metadata": {},
   "outputs": [],
   "source": [
    "import sys\n",
    "from eppy import modeleditor\n",
    "from eppy.modeleditor import IDF\n",
    "iddfile = r\"C:\\EnergyPlusV9-5-0\\Energy+.idd\" #change to your energy+ idd filepath\n",
    "fname1 = r\"C:\\Users\\GRA\\simulation\\Building_1_5569bbdd\\OpenStudio\\run\\in.idf\" #change to your idf file path\n",
    "fname2 = r\"C:\\Users\\GRA\\OneDrive - Universidade de Lisboa\\Desktop\\IN+\\C-Tech\\EPPY\\EPPY_Class\\materials.idf\" #change to your materials idf filepath\n",
    "weather_file = r\"C:\\Users\\GRA\\OneDrive - Universidade de Lisboa\\Desktop\\IN+\\C-Tech\\EPPY\\LISBOA\\PRT_LB_Lisboa.Portela.AP.085360_TMYx.2004-2018.epw\" #change to your weather file path\n"
   ]
  },
  {
   "cell_type": "code",
   "execution_count": 2,
   "id": "f8f4ccf8",
   "metadata": {
    "scrolled": true
   },
   "outputs": [],
   "source": [
    "IDF.setiddname(iddfile)\n",
    "idf1 = IDF(fname1, weather_file)\n",
    "materials = IDF(fname2, weather_file)"
   ]
  },
  {
   "cell_type": "code",
   "execution_count": 3,
   "id": "9838378d",
   "metadata": {},
   "outputs": [],
   "source": [
    "import numpy as np\n",
    "import pandas as pd\n",
    "import matplotlib.pyplot as plt\n",
    "import seaborn as sns"
   ]
  },
  {
   "cell_type": "markdown",
   "id": "9ce15a2c",
   "metadata": {},
   "source": [
    "# Run IDF"
   ]
  },
  {
   "cell_type": "code",
   "execution_count": 4,
   "id": "ef89cbcd",
   "metadata": {},
   "outputs": [
    {
     "name": "stdout",
     "output_type": "stream",
     "text": [
      "\r\n",
      "C:\\EnergyPlusV9-5-0\\energyplus.exe --weather C:\\Users\\GRA\\OneDrive - Universidade de Lisboa\\Desktop\\IN+\\C-Tech\\EPPY\\LISBOA\\PRT_LB_Lisboa.Portela.AP.085360_TMYx.2004-2018.epw --output-directory C:\\Users\\GRA\\OneDrive - Universidade de Lisboa\\Desktop\\PhD\\Courses\\OSE\\OSE_Delivery --idd C:\\EnergyPlusV9-5-0\\Energy+.idd C:\\Users\\GRA\\OneDrive - Universidade de Lisboa\\Desktop\\PhD\\Courses\\OSE\\OSE_Delivery\\in.idf\r\n",
      "\n"
     ]
    }
   ],
   "source": [
    "idf1.run()"
   ]
  },
  {
   "cell_type": "markdown",
   "id": "f453b6c5",
   "metadata": {},
   "source": [
    "# Data Visualization"
   ]
  },
  {
   "cell_type": "markdown",
   "id": "216f23dc",
   "metadata": {},
   "source": [
    "To visualize the data we need to import esoreader, which reads the eso file that is returned by the E+ simulation"
   ]
  },
  {
   "cell_type": "code",
   "execution_count": 5,
   "id": "8d3670ae",
   "metadata": {},
   "outputs": [],
   "source": [
    "import esoreader"
   ]
  },
  {
   "cell_type": "code",
   "execution_count": 6,
   "id": "c0574853",
   "metadata": {},
   "outputs": [],
   "source": [
    "eso = esoreader.read_from_path(r\"C:\\Users\\GRA\\OneDrive - Universidade de Lisboa\\Desktop\\IN+\\C-Tech\\EPPY\\EPPY_Class\\eplusout.eso\")"
   ]
  },
  {
   "cell_type": "markdown",
   "id": "bea97bec",
   "metadata": {},
   "source": [
    "The eso file returns multiple python dictionaries with integer keys as seen above"
   ]
  },
  {
   "cell_type": "code",
   "execution_count": 7,
   "id": "2464fd83",
   "metadata": {},
   "outputs": [
    {
     "data": {
      "text/plain": [
       "{3794: ['Annual',\n",
       "  'FLR1_BUILDING_1_5569BBDD_FLOOR1_ROOM1 IDEAL LOADS AIR SYSTEM',\n",
       "  'Zone Ideal Loads Supply Air Total Heating Energy',\n",
       "  'J'],\n",
       " 3843: ['Annual',\n",
       "  'FLR1_BUILDING_1_5569BBDD_FLOOR1_ROOM1 IDEAL LOADS AIR SYSTEM',\n",
       "  'Zone Ideal Loads Supply Air Total Cooling Energy',\n",
       "  'J'],\n",
       " 3892: ['Annual',\n",
       "  'FLR1_BUILDING_2_BC751240_FLOOR1_ROOM1 IDEAL LOADS AIR SYSTEM',\n",
       "  'Zone Ideal Loads Supply Air Total Heating Energy',\n",
       "  'J'],\n",
       " 3893: ['Annual',\n",
       "  'FLR1_BUILDING_2_BC751240_FLOOR1_ROOM1 IDEAL LOADS AIR SYSTEM',\n",
       "  'Zone Ideal Loads Supply Air Total Cooling Energy',\n",
       "  'J'],\n",
       " 3894: ['Annual',\n",
       "  'FLR1_BUILDING_3_603238D8_FLOOR1_ROOM1 IDEAL LOADS AIR SYSTEM',\n",
       "  'Zone Ideal Loads Supply Air Total Heating Energy',\n",
       "  'J'],\n",
       " 3895: ['Annual',\n",
       "  'FLR1_BUILDING_3_603238D8_FLOOR1_ROOM1 IDEAL LOADS AIR SYSTEM',\n",
       "  'Zone Ideal Loads Supply Air Total Cooling Energy',\n",
       "  'J'],\n",
       " 3896: ['Annual',\n",
       "  'FLR1_BUILDING_3_603238D8_FLOOR2_ROOM1 IDEAL LOADS AIR SYSTEM',\n",
       "  'Zone Ideal Loads Supply Air Total Heating Energy',\n",
       "  'J'],\n",
       " 3897: ['Annual',\n",
       "  'FLR1_BUILDING_3_603238D8_FLOOR2_ROOM1 IDEAL LOADS AIR SYSTEM',\n",
       "  'Zone Ideal Loads Supply Air Total Cooling Energy',\n",
       "  'J'],\n",
       " 3898: ['Annual',\n",
       "  'FLR1_BUILDING_4_BBBF8A30_FLOOR1_ROOM1 IDEAL LOADS AIR SYSTEM',\n",
       "  'Zone Ideal Loads Supply Air Total Heating Energy',\n",
       "  'J'],\n",
       " 3899: ['Annual',\n",
       "  'FLR1_BUILDING_4_BBBF8A30_FLOOR1_ROOM1 IDEAL LOADS AIR SYSTEM',\n",
       "  'Zone Ideal Loads Supply Air Total Cooling Energy',\n",
       "  'J'],\n",
       " 3900: ['Annual',\n",
       "  'FLR1_BUILDING_4_BBBF8A30_FLOOR5_ROOM1 IDEAL LOADS AIR SYSTEM',\n",
       "  'Zone Ideal Loads Supply Air Total Heating Energy',\n",
       "  'J'],\n",
       " 3901: ['Annual',\n",
       "  'FLR1_BUILDING_4_BBBF8A30_FLOOR5_ROOM1 IDEAL LOADS AIR SYSTEM',\n",
       "  'Zone Ideal Loads Supply Air Total Cooling Energy',\n",
       "  'J'],\n",
       " 3902: ['Annual',\n",
       "  'FLR1_BUILDING_5_7A633902_FLOOR1_ROOM1 IDEAL LOADS AIR SYSTEM',\n",
       "  'Zone Ideal Loads Supply Air Total Heating Energy',\n",
       "  'J'],\n",
       " 3903: ['Annual',\n",
       "  'FLR1_BUILDING_5_7A633902_FLOOR1_ROOM1 IDEAL LOADS AIR SYSTEM',\n",
       "  'Zone Ideal Loads Supply Air Total Cooling Energy',\n",
       "  'J'],\n",
       " 3904: ['Annual',\n",
       "  'FLR1_BUILDING_6_BF617F38_FLOOR1_ROOM1 IDEAL LOADS AIR SYSTEM',\n",
       "  'Zone Ideal Loads Supply Air Total Heating Energy',\n",
       "  'J'],\n",
       " 3905: ['Annual',\n",
       "  'FLR1_BUILDING_6_BF617F38_FLOOR1_ROOM1 IDEAL LOADS AIR SYSTEM',\n",
       "  'Zone Ideal Loads Supply Air Total Cooling Energy',\n",
       "  'J'],\n",
       " 3906: ['Annual',\n",
       "  'FLR1_BUILDING_6_BF617F38_FLOOR3_ROOM1 IDEAL LOADS AIR SYSTEM',\n",
       "  'Zone Ideal Loads Supply Air Total Heating Energy',\n",
       "  'J'],\n",
       " 3907: ['Annual',\n",
       "  'FLR1_BUILDING_6_BF617F38_FLOOR3_ROOM1 IDEAL LOADS AIR SYSTEM',\n",
       "  'Zone Ideal Loads Supply Air Total Cooling Energy',\n",
       "  'J'],\n",
       " 3908: ['Annual',\n",
       "  'FLR1_GROUND_BUILDING_1_5569BBDD_FLOOR1_ROOM1 IDEAL LOADS AIR SYSTEM',\n",
       "  'Zone Ideal Loads Supply Air Total Heating Energy',\n",
       "  'J'],\n",
       " 3909: ['Annual',\n",
       "  'FLR1_GROUND_BUILDING_1_5569BBDD_FLOOR1_ROOM1 IDEAL LOADS AIR SYSTEM',\n",
       "  'Zone Ideal Loads Supply Air Total Cooling Energy',\n",
       "  'J'],\n",
       " 3910: ['Annual',\n",
       "  'FLR1_GROUND_BUILDING_2_BC751240_FLOOR1_ROOM1 IDEAL LOADS AIR SYSTEM',\n",
       "  'Zone Ideal Loads Supply Air Total Heating Energy',\n",
       "  'J'],\n",
       " 3911: ['Annual',\n",
       "  'FLR1_GROUND_BUILDING_2_BC751240_FLOOR1_ROOM1 IDEAL LOADS AIR SYSTEM',\n",
       "  'Zone Ideal Loads Supply Air Total Cooling Energy',\n",
       "  'J'],\n",
       " 3912: ['Annual',\n",
       "  'FLR1_GROUND_BUILDING_4_BBBF8A30_FLOOR1_ROOM1 IDEAL LOADS AIR SYSTEM',\n",
       "  'Zone Ideal Loads Supply Air Total Heating Energy',\n",
       "  'J'],\n",
       " 3913: ['Annual',\n",
       "  'FLR1_GROUND_BUILDING_4_BBBF8A30_FLOOR1_ROOM1 IDEAL LOADS AIR SYSTEM',\n",
       "  'Zone Ideal Loads Supply Air Total Cooling Energy',\n",
       "  'J'],\n",
       " 3914: ['Annual',\n",
       "  'FLR1_GROUND_BUILDING_5_7A633902_FLOOR1_ROOM1 IDEAL LOADS AIR SYSTEM',\n",
       "  'Zone Ideal Loads Supply Air Total Heating Energy',\n",
       "  'J'],\n",
       " 3915: ['Annual',\n",
       "  'FLR1_GROUND_BUILDING_5_7A633902_FLOOR1_ROOM1 IDEAL LOADS AIR SYSTEM',\n",
       "  'Zone Ideal Loads Supply Air Total Cooling Energy',\n",
       "  'J'],\n",
       " 3916: ['Annual',\n",
       "  'FLR1_GROUND_BUILDING_6_BF617F38_FLOOR1_ROOM1 IDEAL LOADS AIR SYSTEM',\n",
       "  'Zone Ideal Loads Supply Air Total Heating Energy',\n",
       "  'J'],\n",
       " 3917: ['Annual',\n",
       "  'FLR1_GROUND_BUILDING_6_BF617F38_FLOOR1_ROOM1 IDEAL LOADS AIR SYSTEM',\n",
       "  'Zone Ideal Loads Supply Air Total Cooling Energy',\n",
       "  'J'],\n",
       " 3918: ['Annual',\n",
       "  'FLR1_TOP_BUILDING_1_5569BBDD_FLOOR1_ROOM1 IDEAL LOADS AIR SYSTEM',\n",
       "  'Zone Ideal Loads Supply Air Total Heating Energy',\n",
       "  'J'],\n",
       " 3919: ['Annual',\n",
       "  'FLR1_TOP_BUILDING_1_5569BBDD_FLOOR1_ROOM1 IDEAL LOADS AIR SYSTEM',\n",
       "  'Zone Ideal Loads Supply Air Total Cooling Energy',\n",
       "  'J'],\n",
       " 3920: ['Annual',\n",
       "  'FLR1_TOP_BUILDING_2_BC751240_FLOOR1_ROOM1 IDEAL LOADS AIR SYSTEM',\n",
       "  'Zone Ideal Loads Supply Air Total Heating Energy',\n",
       "  'J'],\n",
       " 3921: ['Annual',\n",
       "  'FLR1_TOP_BUILDING_2_BC751240_FLOOR1_ROOM1 IDEAL LOADS AIR SYSTEM',\n",
       "  'Zone Ideal Loads Supply Air Total Cooling Energy',\n",
       "  'J'],\n",
       " 3922: ['Annual',\n",
       "  'FLR1_TOP_BUILDING_3_603238D8_FLOOR2_ROOM1 IDEAL LOADS AIR SYSTEM',\n",
       "  'Zone Ideal Loads Supply Air Total Heating Energy',\n",
       "  'J'],\n",
       " 3923: ['Annual',\n",
       "  'FLR1_TOP_BUILDING_3_603238D8_FLOOR2_ROOM1 IDEAL LOADS AIR SYSTEM',\n",
       "  'Zone Ideal Loads Supply Air Total Cooling Energy',\n",
       "  'J'],\n",
       " 3924: ['Annual',\n",
       "  'FLR1_TOP_BUILDING_5_7A633902_FLOOR1_ROOM1 IDEAL LOADS AIR SYSTEM',\n",
       "  'Zone Ideal Loads Supply Air Total Heating Energy',\n",
       "  'J'],\n",
       " 3925: ['Annual',\n",
       "  'FLR1_TOP_BUILDING_5_7A633902_FLOOR1_ROOM1 IDEAL LOADS AIR SYSTEM',\n",
       "  'Zone Ideal Loads Supply Air Total Cooling Energy',\n",
       "  'J'],\n",
       " 3926: ['Annual',\n",
       "  'FLR1_TOP_BUILDING_6_BF617F38_FLOOR3_ROOM1 IDEAL LOADS AIR SYSTEM',\n",
       "  'Zone Ideal Loads Supply Air Total Heating Energy',\n",
       "  'J'],\n",
       " 3927: ['Annual',\n",
       "  'FLR1_TOP_BUILDING_6_BF617F38_FLOOR3_ROOM1 IDEAL LOADS AIR SYSTEM',\n",
       "  'Zone Ideal Loads Supply Air Total Cooling Energy',\n",
       "  'J'],\n",
       " 3928: ['Annual',\n",
       "  'FLR2_BUILDING_1_5569BBDD_FLOOR1_ROOM1 IDEAL LOADS AIR SYSTEM',\n",
       "  'Zone Ideal Loads Supply Air Total Heating Energy',\n",
       "  'J'],\n",
       " 3929: ['Annual',\n",
       "  'FLR2_BUILDING_1_5569BBDD_FLOOR1_ROOM1 IDEAL LOADS AIR SYSTEM',\n",
       "  'Zone Ideal Loads Supply Air Total Cooling Energy',\n",
       "  'J'],\n",
       " 3930: ['Annual',\n",
       "  'FLR2_BUILDING_2_BC751240_FLOOR1_ROOM1 IDEAL LOADS AIR SYSTEM',\n",
       "  'Zone Ideal Loads Supply Air Total Heating Energy',\n",
       "  'J'],\n",
       " 3931: ['Annual',\n",
       "  'FLR2_BUILDING_2_BC751240_FLOOR1_ROOM1 IDEAL LOADS AIR SYSTEM',\n",
       "  'Zone Ideal Loads Supply Air Total Cooling Energy',\n",
       "  'J'],\n",
       " 3932: ['Annual',\n",
       "  'FLR2_BUILDING_3_603238D8_FLOOR2_ROOM1 IDEAL LOADS AIR SYSTEM',\n",
       "  'Zone Ideal Loads Supply Air Total Heating Energy',\n",
       "  'J'],\n",
       " 3933: ['Annual',\n",
       "  'FLR2_BUILDING_3_603238D8_FLOOR2_ROOM1 IDEAL LOADS AIR SYSTEM',\n",
       "  'Zone Ideal Loads Supply Air Total Cooling Energy',\n",
       "  'J'],\n",
       " 3934: ['Annual',\n",
       "  'FLR2_BUILDING_4_BBBF8A30_FLOOR1_ROOM1 IDEAL LOADS AIR SYSTEM',\n",
       "  'Zone Ideal Loads Supply Air Total Heating Energy',\n",
       "  'J'],\n",
       " 3935: ['Annual',\n",
       "  'FLR2_BUILDING_4_BBBF8A30_FLOOR1_ROOM1 IDEAL LOADS AIR SYSTEM',\n",
       "  'Zone Ideal Loads Supply Air Total Cooling Energy',\n",
       "  'J'],\n",
       " 3936: ['Annual',\n",
       "  'FLR2_BUILDING_5_7A633902_FLOOR1_ROOM1 IDEAL LOADS AIR SYSTEM',\n",
       "  'Zone Ideal Loads Supply Air Total Heating Energy',\n",
       "  'J'],\n",
       " 3937: ['Annual',\n",
       "  'FLR2_BUILDING_5_7A633902_FLOOR1_ROOM1 IDEAL LOADS AIR SYSTEM',\n",
       "  'Zone Ideal Loads Supply Air Total Cooling Energy',\n",
       "  'J'],\n",
       " 3938: ['Annual',\n",
       "  'FLR2_BUILDING_6_BF617F38_FLOOR3_ROOM1 IDEAL LOADS AIR SYSTEM',\n",
       "  'Zone Ideal Loads Supply Air Total Heating Energy',\n",
       "  'J'],\n",
       " 3939: ['Annual',\n",
       "  'FLR2_BUILDING_6_BF617F38_FLOOR3_ROOM1 IDEAL LOADS AIR SYSTEM',\n",
       "  'Zone Ideal Loads Supply Air Total Cooling Energy',\n",
       "  'J'],\n",
       " 3940: ['Annual',\n",
       "  'FLR3_BUILDING_1_5569BBDD_FLOOR1_ROOM1 IDEAL LOADS AIR SYSTEM',\n",
       "  'Zone Ideal Loads Supply Air Total Heating Energy',\n",
       "  'J'],\n",
       " 3941: ['Annual',\n",
       "  'FLR3_BUILDING_1_5569BBDD_FLOOR1_ROOM1 IDEAL LOADS AIR SYSTEM',\n",
       "  'Zone Ideal Loads Supply Air Total Cooling Energy',\n",
       "  'J'],\n",
       " 3942: ['Annual',\n",
       "  'FLR3_BUILDING_2_BC751240_FLOOR1_ROOM1 IDEAL LOADS AIR SYSTEM',\n",
       "  'Zone Ideal Loads Supply Air Total Heating Energy',\n",
       "  'J'],\n",
       " 3943: ['Annual',\n",
       "  'FLR3_BUILDING_2_BC751240_FLOOR1_ROOM1 IDEAL LOADS AIR SYSTEM',\n",
       "  'Zone Ideal Loads Supply Air Total Cooling Energy',\n",
       "  'J'],\n",
       " 3944: ['Annual',\n",
       "  'FLR3_BUILDING_3_603238D8_FLOOR2_ROOM1 IDEAL LOADS AIR SYSTEM',\n",
       "  'Zone Ideal Loads Supply Air Total Heating Energy',\n",
       "  'J'],\n",
       " 3945: ['Annual',\n",
       "  'FLR3_BUILDING_3_603238D8_FLOOR2_ROOM1 IDEAL LOADS AIR SYSTEM',\n",
       "  'Zone Ideal Loads Supply Air Total Cooling Energy',\n",
       "  'J'],\n",
       " 3946: ['Annual',\n",
       "  'FLR3_BUILDING_4_BBBF8A30_FLOOR1_ROOM1 IDEAL LOADS AIR SYSTEM',\n",
       "  'Zone Ideal Loads Supply Air Total Heating Energy',\n",
       "  'J'],\n",
       " 3947: ['Annual',\n",
       "  'FLR3_BUILDING_4_BBBF8A30_FLOOR1_ROOM1 IDEAL LOADS AIR SYSTEM',\n",
       "  'Zone Ideal Loads Supply Air Total Cooling Energy',\n",
       "  'J'],\n",
       " 3948: ['Annual',\n",
       "  'FLR3_BUILDING_5_7A633902_FLOOR1_ROOM1 IDEAL LOADS AIR SYSTEM',\n",
       "  'Zone Ideal Loads Supply Air Total Heating Energy',\n",
       "  'J'],\n",
       " 3949: ['Annual',\n",
       "  'FLR3_BUILDING_5_7A633902_FLOOR1_ROOM1 IDEAL LOADS AIR SYSTEM',\n",
       "  'Zone Ideal Loads Supply Air Total Cooling Energy',\n",
       "  'J'],\n",
       " 3950: ['Annual',\n",
       "  'FLR3_BUILDING_6_BF617F38_FLOOR3_ROOM1 IDEAL LOADS AIR SYSTEM',\n",
       "  'Zone Ideal Loads Supply Air Total Heating Energy',\n",
       "  'J'],\n",
       " 3951: ['Annual',\n",
       "  'FLR3_BUILDING_6_BF617F38_FLOOR3_ROOM1 IDEAL LOADS AIR SYSTEM',\n",
       "  'Zone Ideal Loads Supply Air Total Cooling Energy',\n",
       "  'J'],\n",
       " 3952: ['Annual',\n",
       "  'FLR4_BUILDING_1_5569BBDD_FLOOR1_ROOM1 IDEAL LOADS AIR SYSTEM',\n",
       "  'Zone Ideal Loads Supply Air Total Heating Energy',\n",
       "  'J'],\n",
       " 3953: ['Annual',\n",
       "  'FLR4_BUILDING_1_5569BBDD_FLOOR1_ROOM1 IDEAL LOADS AIR SYSTEM',\n",
       "  'Zone Ideal Loads Supply Air Total Cooling Energy',\n",
       "  'J'],\n",
       " 3954: ['Annual',\n",
       "  'FLR4_BUILDING_2_BC751240_FLOOR1_ROOM1 IDEAL LOADS AIR SYSTEM',\n",
       "  'Zone Ideal Loads Supply Air Total Heating Energy',\n",
       "  'J'],\n",
       " 3955: ['Annual',\n",
       "  'FLR4_BUILDING_2_BC751240_FLOOR1_ROOM1 IDEAL LOADS AIR SYSTEM',\n",
       "  'Zone Ideal Loads Supply Air Total Cooling Energy',\n",
       "  'J'],\n",
       " 3956: ['Annual',\n",
       "  'FLR4_BUILDING_3_603238D8_FLOOR2_ROOM1 IDEAL LOADS AIR SYSTEM',\n",
       "  'Zone Ideal Loads Supply Air Total Heating Energy',\n",
       "  'J'],\n",
       " 3957: ['Annual',\n",
       "  'FLR4_BUILDING_3_603238D8_FLOOR2_ROOM1 IDEAL LOADS AIR SYSTEM',\n",
       "  'Zone Ideal Loads Supply Air Total Cooling Energy',\n",
       "  'J'],\n",
       " 3958: ['Annual',\n",
       "  'FLR4_BUILDING_5_7A633902_FLOOR1_ROOM1 IDEAL LOADS AIR SYSTEM',\n",
       "  'Zone Ideal Loads Supply Air Total Heating Energy',\n",
       "  'J'],\n",
       " 3959: ['Annual',\n",
       "  'FLR4_BUILDING_5_7A633902_FLOOR1_ROOM1 IDEAL LOADS AIR SYSTEM',\n",
       "  'Zone Ideal Loads Supply Air Total Cooling Energy',\n",
       "  'J'],\n",
       " 3960: ['Annual',\n",
       "  'FLR4_BUILDING_6_BF617F38_FLOOR3_ROOM1 IDEAL LOADS AIR SYSTEM',\n",
       "  'Zone Ideal Loads Supply Air Total Heating Energy',\n",
       "  'J'],\n",
       " 3961: ['Annual',\n",
       "  'FLR4_BUILDING_6_BF617F38_FLOOR3_ROOM1 IDEAL LOADS AIR SYSTEM',\n",
       "  'Zone Ideal Loads Supply Air Total Cooling Energy',\n",
       "  'J'],\n",
       " 3962: ['Annual',\n",
       "  'FLR5_BUILDING_1_5569BBDD_FLOOR1_ROOM1 IDEAL LOADS AIR SYSTEM',\n",
       "  'Zone Ideal Loads Supply Air Total Heating Energy',\n",
       "  'J'],\n",
       " 3963: ['Annual',\n",
       "  'FLR5_BUILDING_1_5569BBDD_FLOOR1_ROOM1 IDEAL LOADS AIR SYSTEM',\n",
       "  'Zone Ideal Loads Supply Air Total Cooling Energy',\n",
       "  'J'],\n",
       " 3964: ['Annual',\n",
       "  'FLR5_BUILDING_2_BC751240_FLOOR1_ROOM1 IDEAL LOADS AIR SYSTEM',\n",
       "  'Zone Ideal Loads Supply Air Total Heating Energy',\n",
       "  'J'],\n",
       " 3965: ['Annual',\n",
       "  'FLR5_BUILDING_2_BC751240_FLOOR1_ROOM1 IDEAL LOADS AIR SYSTEM',\n",
       "  'Zone Ideal Loads Supply Air Total Cooling Energy',\n",
       "  'J'],\n",
       " 3966: ['Annual',\n",
       "  'FLR5_BUILDING_3_603238D8_FLOOR2_ROOM1 IDEAL LOADS AIR SYSTEM',\n",
       "  'Zone Ideal Loads Supply Air Total Heating Energy',\n",
       "  'J'],\n",
       " 3967: ['Annual',\n",
       "  'FLR5_BUILDING_3_603238D8_FLOOR2_ROOM1 IDEAL LOADS AIR SYSTEM',\n",
       "  'Zone Ideal Loads Supply Air Total Cooling Energy',\n",
       "  'J'],\n",
       " 3968: ['Annual',\n",
       "  'FLR5_BUILDING_5_7A633902_FLOOR1_ROOM1 IDEAL LOADS AIR SYSTEM',\n",
       "  'Zone Ideal Loads Supply Air Total Heating Energy',\n",
       "  'J'],\n",
       " 3969: ['Annual',\n",
       "  'FLR5_BUILDING_5_7A633902_FLOOR1_ROOM1 IDEAL LOADS AIR SYSTEM',\n",
       "  'Zone Ideal Loads Supply Air Total Cooling Energy',\n",
       "  'J'],\n",
       " 3970: ['Annual',\n",
       "  'FLR5_BUILDING_6_BF617F38_FLOOR3_ROOM1 IDEAL LOADS AIR SYSTEM',\n",
       "  'Zone Ideal Loads Supply Air Total Heating Energy',\n",
       "  'J'],\n",
       " 3971: ['Annual',\n",
       "  'FLR5_BUILDING_6_BF617F38_FLOOR3_ROOM1 IDEAL LOADS AIR SYSTEM',\n",
       "  'Zone Ideal Loads Supply Air Total Cooling Energy',\n",
       "  'J'],\n",
       " 3972: ['Annual',\n",
       "  'FLR6_BUILDING_5_7A633902_FLOOR1_ROOM1 IDEAL LOADS AIR SYSTEM',\n",
       "  'Zone Ideal Loads Supply Air Total Heating Energy',\n",
       "  'J'],\n",
       " 3973: ['Annual',\n",
       "  'FLR6_BUILDING_5_7A633902_FLOOR1_ROOM1 IDEAL LOADS AIR SYSTEM',\n",
       "  'Zone Ideal Loads Supply Air Total Cooling Energy',\n",
       "  'J'],\n",
       " 3974: ['Annual',\n",
       "  'FLR6_BUILDING_6_BF617F38_FLOOR3_ROOM1 IDEAL LOADS AIR SYSTEM',\n",
       "  'Zone Ideal Loads Supply Air Total Heating Energy',\n",
       "  'J'],\n",
       " 3975: ['Annual',\n",
       "  'FLR6_BUILDING_6_BF617F38_FLOOR3_ROOM1 IDEAL LOADS AIR SYSTEM',\n",
       "  'Zone Ideal Loads Supply Air Total Cooling Energy',\n",
       "  'J'],\n",
       " 3976: ['Annual',\n",
       "  'FLR7_BUILDING_5_7A633902_FLOOR1_ROOM1 IDEAL LOADS AIR SYSTEM',\n",
       "  'Zone Ideal Loads Supply Air Total Heating Energy',\n",
       "  'J'],\n",
       " 3977: ['Annual',\n",
       "  'FLR7_BUILDING_5_7A633902_FLOOR1_ROOM1 IDEAL LOADS AIR SYSTEM',\n",
       "  'Zone Ideal Loads Supply Air Total Cooling Energy',\n",
       "  'J'],\n",
       " 3978: ['Annual',\n",
       "  'FLR7_BUILDING_6_BF617F38_FLOOR3_ROOM1 IDEAL LOADS AIR SYSTEM',\n",
       "  'Zone Ideal Loads Supply Air Total Heating Energy',\n",
       "  'J'],\n",
       " 3979: ['Annual',\n",
       "  'FLR7_BUILDING_6_BF617F38_FLOOR3_ROOM1 IDEAL LOADS AIR SYSTEM',\n",
       "  'Zone Ideal Loads Supply Air Total Cooling Energy',\n",
       "  'J'],\n",
       " 3980: ['Annual',\n",
       "  'FLR8_BUILDING_5_7A633902_FLOOR1_ROOM1 IDEAL LOADS AIR SYSTEM',\n",
       "  'Zone Ideal Loads Supply Air Total Heating Energy',\n",
       "  'J'],\n",
       " 3981: ['Annual',\n",
       "  'FLR8_BUILDING_5_7A633902_FLOOR1_ROOM1 IDEAL LOADS AIR SYSTEM',\n",
       "  'Zone Ideal Loads Supply Air Total Cooling Energy',\n",
       "  'J']}"
      ]
     },
     "execution_count": 7,
     "metadata": {},
     "output_type": "execute_result"
    }
   ],
   "source": [
    "eso.dd.variables"
   ]
  },
  {
   "cell_type": "code",
   "execution_count": 8,
   "id": "6e0525a8",
   "metadata": {
    "scrolled": true
   },
   "outputs": [
    {
     "data": {
      "text/html": [
       "<div>\n",
       "<style scoped>\n",
       "    .dataframe tbody tr th:only-of-type {\n",
       "        vertical-align: middle;\n",
       "    }\n",
       "\n",
       "    .dataframe tbody tr th {\n",
       "        vertical-align: top;\n",
       "    }\n",
       "\n",
       "    .dataframe thead th {\n",
       "        text-align: right;\n",
       "    }\n",
       "</style>\n",
       "<table border=\"1\" class=\"dataframe\">\n",
       "  <thead>\n",
       "    <tr style=\"text-align: right;\">\n",
       "      <th></th>\n",
       "      <th>0</th>\n",
       "    </tr>\n",
       "  </thead>\n",
       "  <tbody>\n",
       "    <tr>\n",
       "      <th>3794</th>\n",
       "      <td>4.614977e+09</td>\n",
       "    </tr>\n",
       "    <tr>\n",
       "      <th>3843</th>\n",
       "      <td>1.552938e+10</td>\n",
       "    </tr>\n",
       "    <tr>\n",
       "      <th>3892</th>\n",
       "      <td>4.618025e+09</td>\n",
       "    </tr>\n",
       "    <tr>\n",
       "      <th>3893</th>\n",
       "      <td>1.476579e+10</td>\n",
       "    </tr>\n",
       "    <tr>\n",
       "      <th>3894</th>\n",
       "      <td>5.834911e+09</td>\n",
       "    </tr>\n",
       "    <tr>\n",
       "      <th>...</th>\n",
       "      <td>...</td>\n",
       "    </tr>\n",
       "    <tr>\n",
       "      <th>3977</th>\n",
       "      <td>1.948732e+10</td>\n",
       "    </tr>\n",
       "    <tr>\n",
       "      <th>3978</th>\n",
       "      <td>2.816721e+09</td>\n",
       "    </tr>\n",
       "    <tr>\n",
       "      <th>3979</th>\n",
       "      <td>1.950125e+10</td>\n",
       "    </tr>\n",
       "    <tr>\n",
       "      <th>3980</th>\n",
       "      <td>2.875565e+09</td>\n",
       "    </tr>\n",
       "    <tr>\n",
       "      <th>3981</th>\n",
       "      <td>1.942350e+10</td>\n",
       "    </tr>\n",
       "  </tbody>\n",
       "</table>\n",
       "<p>92 rows × 1 columns</p>\n",
       "</div>"
      ],
      "text/plain": [
       "                 0\n",
       "3794  4.614977e+09\n",
       "3843  1.552938e+10\n",
       "3892  4.618025e+09\n",
       "3893  1.476579e+10\n",
       "3894  5.834911e+09\n",
       "...            ...\n",
       "3977  1.948732e+10\n",
       "3978  2.816721e+09\n",
       "3979  1.950125e+10\n",
       "3980  2.875565e+09\n",
       "3981  1.942350e+10\n",
       "\n",
       "[92 rows x 1 columns]"
      ]
     },
     "execution_count": 8,
     "metadata": {},
     "output_type": "execute_result"
    }
   ],
   "source": [
    "pd.DataFrame(eso.data).T"
   ]
  },
  {
   "cell_type": "markdown",
   "id": "0dbf85e9",
   "metadata": {},
   "source": [
    "As seen, we have a dictionary that yields the output timestep, building name, and output nme, for each key, and a dictionary that yields each key's respective data. Thus, we can create a dataframe from a dictionary for target keys that we want to visualize or study."
   ]
  },
  {
   "cell_type": "code",
   "execution_count": 9,
   "id": "186eb1c1",
   "metadata": {},
   "outputs": [
    {
     "data": {
      "text/plain": [
       "dict_keys([3794, 3843, 3892, 3893, 3894, 3895, 3896, 3897, 3898, 3899, 3900, 3901, 3902, 3903, 3904, 3905, 3906, 3907, 3908, 3909, 3910, 3911, 3912, 3913, 3914, 3915, 3916, 3917, 3918, 3919, 3920, 3921, 3922, 3923, 3924, 3925, 3926, 3927, 3928, 3929, 3930, 3931, 3932, 3933, 3934, 3935, 3936, 3937, 3938, 3939, 3940, 3941, 3942, 3943, 3944, 3945, 3946, 3947, 3948, 3949, 3950, 3951, 3952, 3953, 3954, 3955, 3956, 3957, 3958, 3959, 3960, 3961, 3962, 3963, 3964, 3965, 3966, 3967, 3968, 3969, 3970, 3971, 3972, 3973, 3974, 3975, 3976, 3977, 3978, 3979, 3980, 3981])"
      ]
     },
     "execution_count": 9,
     "metadata": {},
     "output_type": "execute_result"
    }
   ],
   "source": [
    "eso.dd.variables.keys()"
   ]
  },
  {
   "cell_type": "code",
   "execution_count": 10,
   "id": "b60d60b8",
   "metadata": {},
   "outputs": [],
   "source": [
    "targets = eso.dd.variables.keys()\n",
    "results = pd.DataFrame({eso.dd.variables[key][1] + \" \" + eso.dd.variables[key][2]: eso.data[key] for key in targets}).T"
   ]
  },
  {
   "cell_type": "code",
   "execution_count": 11,
   "id": "b3868e83",
   "metadata": {},
   "outputs": [
    {
     "data": {
      "text/html": [
       "<div>\n",
       "<style scoped>\n",
       "    .dataframe tbody tr th:only-of-type {\n",
       "        vertical-align: middle;\n",
       "    }\n",
       "\n",
       "    .dataframe tbody tr th {\n",
       "        vertical-align: top;\n",
       "    }\n",
       "\n",
       "    .dataframe thead th {\n",
       "        text-align: right;\n",
       "    }\n",
       "</style>\n",
       "<table border=\"1\" class=\"dataframe\">\n",
       "  <thead>\n",
       "    <tr style=\"text-align: right;\">\n",
       "      <th></th>\n",
       "      <th>0</th>\n",
       "    </tr>\n",
       "  </thead>\n",
       "  <tbody>\n",
       "    <tr>\n",
       "      <th>FLR1_BUILDING_1_5569BBDD_FLOOR1_ROOM1 IDEAL LOADS AIR SYSTEM Zone Ideal Loads Supply Air Total Heating Energy</th>\n",
       "      <td>4.614977e+09</td>\n",
       "    </tr>\n",
       "    <tr>\n",
       "      <th>FLR1_BUILDING_1_5569BBDD_FLOOR1_ROOM1 IDEAL LOADS AIR SYSTEM Zone Ideal Loads Supply Air Total Cooling Energy</th>\n",
       "      <td>1.552938e+10</td>\n",
       "    </tr>\n",
       "    <tr>\n",
       "      <th>FLR1_BUILDING_2_BC751240_FLOOR1_ROOM1 IDEAL LOADS AIR SYSTEM Zone Ideal Loads Supply Air Total Heating Energy</th>\n",
       "      <td>4.618025e+09</td>\n",
       "    </tr>\n",
       "    <tr>\n",
       "      <th>FLR1_BUILDING_2_BC751240_FLOOR1_ROOM1 IDEAL LOADS AIR SYSTEM Zone Ideal Loads Supply Air Total Cooling Energy</th>\n",
       "      <td>1.476579e+10</td>\n",
       "    </tr>\n",
       "    <tr>\n",
       "      <th>FLR1_BUILDING_3_603238D8_FLOOR1_ROOM1 IDEAL LOADS AIR SYSTEM Zone Ideal Loads Supply Air Total Heating Energy</th>\n",
       "      <td>5.834911e+09</td>\n",
       "    </tr>\n",
       "    <tr>\n",
       "      <th>...</th>\n",
       "      <td>...</td>\n",
       "    </tr>\n",
       "    <tr>\n",
       "      <th>FLR7_BUILDING_5_7A633902_FLOOR1_ROOM1 IDEAL LOADS AIR SYSTEM Zone Ideal Loads Supply Air Total Cooling Energy</th>\n",
       "      <td>1.948732e+10</td>\n",
       "    </tr>\n",
       "    <tr>\n",
       "      <th>FLR7_BUILDING_6_BF617F38_FLOOR3_ROOM1 IDEAL LOADS AIR SYSTEM Zone Ideal Loads Supply Air Total Heating Energy</th>\n",
       "      <td>2.816721e+09</td>\n",
       "    </tr>\n",
       "    <tr>\n",
       "      <th>FLR7_BUILDING_6_BF617F38_FLOOR3_ROOM1 IDEAL LOADS AIR SYSTEM Zone Ideal Loads Supply Air Total Cooling Energy</th>\n",
       "      <td>1.950125e+10</td>\n",
       "    </tr>\n",
       "    <tr>\n",
       "      <th>FLR8_BUILDING_5_7A633902_FLOOR1_ROOM1 IDEAL LOADS AIR SYSTEM Zone Ideal Loads Supply Air Total Heating Energy</th>\n",
       "      <td>2.875565e+09</td>\n",
       "    </tr>\n",
       "    <tr>\n",
       "      <th>FLR8_BUILDING_5_7A633902_FLOOR1_ROOM1 IDEAL LOADS AIR SYSTEM Zone Ideal Loads Supply Air Total Cooling Energy</th>\n",
       "      <td>1.942350e+10</td>\n",
       "    </tr>\n",
       "  </tbody>\n",
       "</table>\n",
       "<p>92 rows × 1 columns</p>\n",
       "</div>"
      ],
      "text/plain": [
       "                                                               0\n",
       "FLR1_BUILDING_1_5569BBDD_FLOOR1_ROOM1 IDEAL LOA...  4.614977e+09\n",
       "FLR1_BUILDING_1_5569BBDD_FLOOR1_ROOM1 IDEAL LOA...  1.552938e+10\n",
       "FLR1_BUILDING_2_BC751240_FLOOR1_ROOM1 IDEAL LOA...  4.618025e+09\n",
       "FLR1_BUILDING_2_BC751240_FLOOR1_ROOM1 IDEAL LOA...  1.476579e+10\n",
       "FLR1_BUILDING_3_603238D8_FLOOR1_ROOM1 IDEAL LOA...  5.834911e+09\n",
       "...                                                          ...\n",
       "FLR7_BUILDING_5_7A633902_FLOOR1_ROOM1 IDEAL LOA...  1.948732e+10\n",
       "FLR7_BUILDING_6_BF617F38_FLOOR3_ROOM1 IDEAL LOA...  2.816721e+09\n",
       "FLR7_BUILDING_6_BF617F38_FLOOR3_ROOM1 IDEAL LOA...  1.950125e+10\n",
       "FLR8_BUILDING_5_7A633902_FLOOR1_ROOM1 IDEAL LOA...  2.875565e+09\n",
       "FLR8_BUILDING_5_7A633902_FLOOR1_ROOM1 IDEAL LOA...  1.942350e+10\n",
       "\n",
       "[92 rows x 1 columns]"
      ]
     },
     "execution_count": 11,
     "metadata": {},
     "output_type": "execute_result"
    }
   ],
   "source": [
    "results"
   ]
  },
  {
   "cell_type": "code",
   "execution_count": 12,
   "id": "724e2fa0",
   "metadata": {},
   "outputs": [
    {
     "data": {
      "text/plain": [
       "'FLR1_BUILDING_1_5569BBDD_FLOOR1_ROOM1 IDEAL LOADS AIR SYSTEM Zone Ideal Loads Supply Air Total Heating Energy'"
      ]
     },
     "execution_count": 12,
     "metadata": {},
     "output_type": "execute_result"
    }
   ],
   "source": [
    "results.index[0]"
   ]
  },
  {
   "cell_type": "markdown",
   "id": "976bc25e",
   "metadata": {},
   "source": [
    "Now, we split heating and cooling values for the all the building zones"
   ]
  },
  {
   "cell_type": "code",
   "execution_count": 13,
   "id": "f6a8aa01",
   "metadata": {},
   "outputs": [],
   "source": [
    "heating = []\n",
    "for i in enumerate(results.index):\n",
    "    if \"Heating\" in i[1]:\n",
    "        heating.append(results.iloc[i[0]].values)\n"
   ]
  },
  {
   "cell_type": "code",
   "execution_count": 14,
   "id": "7fd2119c",
   "metadata": {},
   "outputs": [
    {
     "data": {
      "text/plain": [
       "46"
      ]
     },
     "execution_count": 14,
     "metadata": {},
     "output_type": "execute_result"
    }
   ],
   "source": [
    "len(heating)"
   ]
  },
  {
   "cell_type": "code",
   "execution_count": 15,
   "id": "396dd666",
   "metadata": {},
   "outputs": [],
   "source": [
    "cooling = []\n",
    "for i in enumerate(results.index):\n",
    "    if \"Cooling\" in i[1]:\n",
    "        cooling.append(results.iloc[i[0]].values)"
   ]
  },
  {
   "cell_type": "code",
   "execution_count": 16,
   "id": "b24bf172",
   "metadata": {},
   "outputs": [
    {
     "data": {
      "text/plain": [
       "46"
      ]
     },
     "execution_count": 16,
     "metadata": {},
     "output_type": "execute_result"
    }
   ],
   "source": [
    "len(cooling)"
   ]
  },
  {
   "cell_type": "code",
   "execution_count": 17,
   "id": "8ea7b545",
   "metadata": {},
   "outputs": [],
   "source": [
    "results_split = pd.DataFrame([heating, cooling]).T\n",
    "results_split.columns = [\"Total heating energy (J)\", \"Total cooling energy (J)\"]"
   ]
  },
  {
   "cell_type": "code",
   "execution_count": 18,
   "id": "67664664",
   "metadata": {},
   "outputs": [
    {
     "data": {
      "text/html": [
       "<div>\n",
       "<style scoped>\n",
       "    .dataframe tbody tr th:only-of-type {\n",
       "        vertical-align: middle;\n",
       "    }\n",
       "\n",
       "    .dataframe tbody tr th {\n",
       "        vertical-align: top;\n",
       "    }\n",
       "\n",
       "    .dataframe thead th {\n",
       "        text-align: right;\n",
       "    }\n",
       "</style>\n",
       "<table border=\"1\" class=\"dataframe\">\n",
       "  <thead>\n",
       "    <tr style=\"text-align: right;\">\n",
       "      <th></th>\n",
       "      <th>Total heating energy (J)</th>\n",
       "      <th>Total cooling energy (J)</th>\n",
       "    </tr>\n",
       "  </thead>\n",
       "  <tbody>\n",
       "    <tr>\n",
       "      <th>0</th>\n",
       "      <td>[4614976783.761764]</td>\n",
       "      <td>[15529378703.55029]</td>\n",
       "    </tr>\n",
       "    <tr>\n",
       "      <th>1</th>\n",
       "      <td>[4618025107.082127]</td>\n",
       "      <td>[14765787012.410763]</td>\n",
       "    </tr>\n",
       "    <tr>\n",
       "      <th>2</th>\n",
       "      <td>[5834910666.691963]</td>\n",
       "      <td>[17862167813.759945]</td>\n",
       "    </tr>\n",
       "    <tr>\n",
       "      <th>3</th>\n",
       "      <td>[3653393974.003675]</td>\n",
       "      <td>[26667892582.80259]</td>\n",
       "    </tr>\n",
       "    <tr>\n",
       "      <th>4</th>\n",
       "      <td>[4182168630.245817]</td>\n",
       "      <td>[15876645458.11516]</td>\n",
       "    </tr>\n",
       "    <tr>\n",
       "      <th>5</th>\n",
       "      <td>[24538896744.508858]</td>\n",
       "      <td>[19532526333.806126]</td>\n",
       "    </tr>\n",
       "    <tr>\n",
       "      <th>6</th>\n",
       "      <td>[3327242074.2722335]</td>\n",
       "      <td>[19320742876.183212]</td>\n",
       "    </tr>\n",
       "    <tr>\n",
       "      <th>7</th>\n",
       "      <td>[2579685424.252854]</td>\n",
       "      <td>[19294827522.5631]</td>\n",
       "    </tr>\n",
       "    <tr>\n",
       "      <th>8</th>\n",
       "      <td>[2636921824.0069942]</td>\n",
       "      <td>[19396687579.797432]</td>\n",
       "    </tr>\n",
       "    <tr>\n",
       "      <th>9</th>\n",
       "      <td>[6095334672.695688]</td>\n",
       "      <td>[10675320295.74842]</td>\n",
       "    </tr>\n",
       "    <tr>\n",
       "      <th>10</th>\n",
       "      <td>[5969915171.07292]</td>\n",
       "      <td>[10323248690.337986]</td>\n",
       "    </tr>\n",
       "    <tr>\n",
       "      <th>11</th>\n",
       "      <td>[5919148214.623505]</td>\n",
       "      <td>[9920660062.933228]</td>\n",
       "    </tr>\n",
       "    <tr>\n",
       "      <th>12</th>\n",
       "      <td>[5085669711.977068]</td>\n",
       "      <td>[12992487117.936367]</td>\n",
       "    </tr>\n",
       "    <tr>\n",
       "      <th>13</th>\n",
       "      <td>[4064295302.1209025]</td>\n",
       "      <td>[13157700599.48076]</td>\n",
       "    </tr>\n",
       "    <tr>\n",
       "      <th>14</th>\n",
       "      <td>[21839751289.223835]</td>\n",
       "      <td>[17495449413.48078]</td>\n",
       "    </tr>\n",
       "    <tr>\n",
       "      <th>15</th>\n",
       "      <td>[21961161803.94769]</td>\n",
       "      <td>[17805877668.710987]</td>\n",
       "    </tr>\n",
       "    <tr>\n",
       "      <th>16</th>\n",
       "      <td>[34111017346.743397]</td>\n",
       "      <td>[29449348045.826855]</td>\n",
       "    </tr>\n",
       "    <tr>\n",
       "      <th>17</th>\n",
       "      <td>[24465018456.27276]</td>\n",
       "      <td>[20124591660.72857]</td>\n",
       "    </tr>\n",
       "    <tr>\n",
       "      <th>18</th>\n",
       "      <td>[24145798215.53538]</td>\n",
       "      <td>[20430188192.922535]</td>\n",
       "    </tr>\n",
       "    <tr>\n",
       "      <th>19</th>\n",
       "      <td>[4506037427.926753]</td>\n",
       "      <td>[15568415728.025126]</td>\n",
       "    </tr>\n",
       "    <tr>\n",
       "      <th>20</th>\n",
       "      <td>[4622376263.944185]</td>\n",
       "      <td>[14740315138.332575]</td>\n",
       "    </tr>\n",
       "    <tr>\n",
       "      <th>21</th>\n",
       "      <td>[3743576565.351892]</td>\n",
       "      <td>[26629908691.31495]</td>\n",
       "    </tr>\n",
       "    <tr>\n",
       "      <th>22</th>\n",
       "      <td>[4100121446.238199]</td>\n",
       "      <td>[16177396762.735125]</td>\n",
       "    </tr>\n",
       "    <tr>\n",
       "      <th>23</th>\n",
       "      <td>[3176958680.9133687]</td>\n",
       "      <td>[19495236283.40998]</td>\n",
       "    </tr>\n",
       "    <tr>\n",
       "      <th>24</th>\n",
       "      <td>[2685064798.7895327]</td>\n",
       "      <td>[19349057888.164433]</td>\n",
       "    </tr>\n",
       "    <tr>\n",
       "      <th>25</th>\n",
       "      <td>[4279838488.402852]</td>\n",
       "      <td>[15667289454.327192]</td>\n",
       "    </tr>\n",
       "    <tr>\n",
       "      <th>26</th>\n",
       "      <td>[4562612571.853579]</td>\n",
       "      <td>[14991720894.104315]</td>\n",
       "    </tr>\n",
       "    <tr>\n",
       "      <th>27</th>\n",
       "      <td>[3809645097.9475083]</td>\n",
       "      <td>[26775582558.183067]</td>\n",
       "    </tr>\n",
       "    <tr>\n",
       "      <th>28</th>\n",
       "      <td>[3864309579.3362045]</td>\n",
       "      <td>[16858815216.693882]</td>\n",
       "    </tr>\n",
       "    <tr>\n",
       "      <th>29</th>\n",
       "      <td>[3003640064.8755674]</td>\n",
       "      <td>[19596135610.419422]</td>\n",
       "    </tr>\n",
       "    <tr>\n",
       "      <th>30</th>\n",
       "      <td>[2722343931.7554646]</td>\n",
       "      <td>[19475960321.37563]</td>\n",
       "    </tr>\n",
       "    <tr>\n",
       "      <th>31</th>\n",
       "      <td>[4120466181.03054]</td>\n",
       "      <td>[15847791981.267792]</td>\n",
       "    </tr>\n",
       "    <tr>\n",
       "      <th>32</th>\n",
       "      <td>[4390281645.184015]</td>\n",
       "      <td>[15428085560.620094]</td>\n",
       "    </tr>\n",
       "    <tr>\n",
       "      <th>33</th>\n",
       "      <td>[3854029916.0338573]</td>\n",
       "      <td>[26795317992.910328]</td>\n",
       "    </tr>\n",
       "    <tr>\n",
       "      <th>34</th>\n",
       "      <td>[2789907374.3596635]</td>\n",
       "      <td>[19649974296.801884]</td>\n",
       "    </tr>\n",
       "    <tr>\n",
       "      <th>35</th>\n",
       "      <td>[2733666299.044489]</td>\n",
       "      <td>[19585172064.53286]</td>\n",
       "    </tr>\n",
       "    <tr>\n",
       "      <th>36</th>\n",
       "      <td>[3928616840.247254]</td>\n",
       "      <td>[16128754172.939476]</td>\n",
       "    </tr>\n",
       "    <tr>\n",
       "      <th>37</th>\n",
       "      <td>[4018395335.028621]</td>\n",
       "      <td>[16139322903.700644]</td>\n",
       "    </tr>\n",
       "    <tr>\n",
       "      <th>38</th>\n",
       "      <td>[3825863821.164373]</td>\n",
       "      <td>[27067882181.94325]</td>\n",
       "    </tr>\n",
       "    <tr>\n",
       "      <th>39</th>\n",
       "      <td>[2776583624.816398]</td>\n",
       "      <td>[19582801510.059986]</td>\n",
       "    </tr>\n",
       "    <tr>\n",
       "      <th>40</th>\n",
       "      <td>[2743337181.1116858]</td>\n",
       "      <td>[19644791986.58342]</td>\n",
       "    </tr>\n",
       "    <tr>\n",
       "      <th>41</th>\n",
       "      <td>[2814043611.6386766]</td>\n",
       "      <td>[19509708031.24313]</td>\n",
       "    </tr>\n",
       "    <tr>\n",
       "      <th>42</th>\n",
       "      <td>[2779566542.8619723]</td>\n",
       "      <td>[19574111931.016594]</td>\n",
       "    </tr>\n",
       "    <tr>\n",
       "      <th>43</th>\n",
       "      <td>[2840437879.185998]</td>\n",
       "      <td>[19487318798.006596]</td>\n",
       "    </tr>\n",
       "    <tr>\n",
       "      <th>44</th>\n",
       "      <td>[2816721195.440668]</td>\n",
       "      <td>[19501249909.10085]</td>\n",
       "    </tr>\n",
       "    <tr>\n",
       "      <th>45</th>\n",
       "      <td>[2875564542.497016]</td>\n",
       "      <td>[19423500397.751778]</td>\n",
       "    </tr>\n",
       "  </tbody>\n",
       "</table>\n",
       "</div>"
      ],
      "text/plain": [
       "   Total heating energy (J) Total cooling energy (J)\n",
       "0       [4614976783.761764]      [15529378703.55029]\n",
       "1       [4618025107.082127]     [14765787012.410763]\n",
       "2       [5834910666.691963]     [17862167813.759945]\n",
       "3       [3653393974.003675]      [26667892582.80259]\n",
       "4       [4182168630.245817]      [15876645458.11516]\n",
       "5      [24538896744.508858]     [19532526333.806126]\n",
       "6      [3327242074.2722335]     [19320742876.183212]\n",
       "7       [2579685424.252854]       [19294827522.5631]\n",
       "8      [2636921824.0069942]     [19396687579.797432]\n",
       "9       [6095334672.695688]      [10675320295.74842]\n",
       "10       [5969915171.07292]     [10323248690.337986]\n",
       "11      [5919148214.623505]      [9920660062.933228]\n",
       "12      [5085669711.977068]     [12992487117.936367]\n",
       "13     [4064295302.1209025]      [13157700599.48076]\n",
       "14     [21839751289.223835]      [17495449413.48078]\n",
       "15      [21961161803.94769]     [17805877668.710987]\n",
       "16     [34111017346.743397]     [29449348045.826855]\n",
       "17      [24465018456.27276]      [20124591660.72857]\n",
       "18      [24145798215.53538]     [20430188192.922535]\n",
       "19      [4506037427.926753]     [15568415728.025126]\n",
       "20      [4622376263.944185]     [14740315138.332575]\n",
       "21      [3743576565.351892]      [26629908691.31495]\n",
       "22      [4100121446.238199]     [16177396762.735125]\n",
       "23     [3176958680.9133687]      [19495236283.40998]\n",
       "24     [2685064798.7895327]     [19349057888.164433]\n",
       "25      [4279838488.402852]     [15667289454.327192]\n",
       "26      [4562612571.853579]     [14991720894.104315]\n",
       "27     [3809645097.9475083]     [26775582558.183067]\n",
       "28     [3864309579.3362045]     [16858815216.693882]\n",
       "29     [3003640064.8755674]     [19596135610.419422]\n",
       "30     [2722343931.7554646]      [19475960321.37563]\n",
       "31       [4120466181.03054]     [15847791981.267792]\n",
       "32      [4390281645.184015]     [15428085560.620094]\n",
       "33     [3854029916.0338573]     [26795317992.910328]\n",
       "34     [2789907374.3596635]     [19649974296.801884]\n",
       "35      [2733666299.044489]      [19585172064.53286]\n",
       "36      [3928616840.247254]     [16128754172.939476]\n",
       "37      [4018395335.028621]     [16139322903.700644]\n",
       "38      [3825863821.164373]      [27067882181.94325]\n",
       "39      [2776583624.816398]     [19582801510.059986]\n",
       "40     [2743337181.1116858]      [19644791986.58342]\n",
       "41     [2814043611.6386766]      [19509708031.24313]\n",
       "42     [2779566542.8619723]     [19574111931.016594]\n",
       "43      [2840437879.185998]     [19487318798.006596]\n",
       "44      [2816721195.440668]      [19501249909.10085]\n",
       "45      [2875564542.497016]     [19423500397.751778]"
      ]
     },
     "execution_count": 18,
     "metadata": {},
     "output_type": "execute_result"
    }
   ],
   "source": [
    "results_split"
   ]
  },
  {
   "cell_type": "code",
   "execution_count": 19,
   "id": "be1818a8",
   "metadata": {},
   "outputs": [],
   "source": [
    "total_energy = results_split[\"Total heating energy (J)\"] + results_split[\"Total cooling energy (J)\"]\n",
    "total_energy = total_energy.sum()"
   ]
  },
  {
   "cell_type": "markdown",
   "id": "d91f1c78",
   "metadata": {},
   "source": [
    "# Creating zone Constructions and applying constructions to surfaces"
   ]
  },
  {
   "cell_type": "code",
   "execution_count": 20,
   "id": "c89bdca6",
   "metadata": {},
   "outputs": [],
   "source": [
    "construction = [\"Reboco-2cm\", \"TijoloFurado_11\", \"XPS_4\", \"TijoloFurado_11\", \"Arg_Cimento_Clara_2.5\", \"Estuque_Claro_1.5\"]"
   ]
  },
  {
   "cell_type": "markdown",
   "id": "1a5b9928",
   "metadata": {},
   "source": [
    "To apply constructions in the idf file we need to provide function arguments. Luckily unpacked dictionaries can work as a way to go around this requirement"
   ]
  },
  {
   "cell_type": "code",
   "execution_count": 21,
   "id": "0d20465d",
   "metadata": {},
   "outputs": [],
   "source": [
    "def layer_from_index(i):\n",
    "    if i == 0:\n",
    "        return \"Outside_Layer\"\n",
    "    else:\n",
    "        return \"Layer_\" + str(i+1)"
   ]
  },
  {
   "cell_type": "code",
   "execution_count": 22,
   "id": "139b7f09",
   "metadata": {},
   "outputs": [],
   "source": [
    "def layers_dict(construction):\n",
    "    return {layer_from_index(i):kind for i, kind in enumerate(construction)}"
   ]
  },
  {
   "cell_type": "code",
   "execution_count": 23,
   "id": "e8d84a8c",
   "metadata": {},
   "outputs": [
    {
     "data": {
      "text/plain": [
       "{'Outside_Layer': 'Reboco-2cm',\n",
       " 'Layer_2': 'TijoloFurado_11',\n",
       " 'Layer_3': 'XPS_4',\n",
       " 'Layer_4': 'TijoloFurado_11',\n",
       " 'Layer_5': 'Arg_Cimento_Clara_2.5',\n",
       " 'Layer_6': 'Estuque_Claro_1.5'}"
      ]
     },
     "execution_count": 23,
     "metadata": {},
     "output_type": "execute_result"
    }
   ],
   "source": [
    "layers_dict(construction)"
   ]
  },
  {
   "cell_type": "markdown",
   "id": "acc5cdfa",
   "metadata": {},
   "source": [
    "We can then unpack the dictionary keys as the newidfobject function arguments, and values as argument values."
   ]
  },
  {
   "cell_type": "code",
   "execution_count": 24,
   "id": "db45e2b6",
   "metadata": {},
   "outputs": [
    {
     "data": {
      "text/plain": [
       "\n",
       "CONSTRUCTION,\n",
       "    New_wall_construction_0,    !- Name\n",
       "    Reboco-2cm,               !- Outside Layer\n",
       "    TijoloFurado_11,          !- Layer 2\n",
       "    XPS_4,                    !- Layer 3\n",
       "    TijoloFurado_11,          !- Layer 4\n",
       "    Arg_Cimento_Clara_2.5,    !- Layer 5\n",
       "    Estuque_Claro_1.5;        !- Layer 6"
      ]
     },
     "execution_count": 24,
     "metadata": {},
     "output_type": "execute_result"
    }
   ],
   "source": [
    "idf1.newidfobject(\"CONSTRUCTION\",\n",
    "                  Name=\"New_wall_construction_0\",\n",
    "                  **layers_dict(construction))"
   ]
  },
  {
   "cell_type": "markdown",
   "id": "57517c15",
   "metadata": {},
   "source": [
    "# Optimization problem"
   ]
  },
  {
   "cell_type": "markdown",
   "id": "721aa7c6",
   "metadata": {},
   "source": [
    "Imagining that we are planning the construction materials for a mixed-use complex of 6 buildings. We want to find the best possible combination of constructions on each surface type that yields the least energy consumption, with the least possible cost. However, if we have $3$ possible constructions for each building exterior wall, roof, floor, and window elements,  we have $3^24$ possible combinations. To model our optimization problem and decision variables, we need to perform some data gathering first. Let's start by resetting our idf file to the original, concatenating our materials library, and copying it to our building IDF."
   ]
  },
  {
   "cell_type": "code",
   "execution_count": 25,
   "id": "1401523d",
   "metadata": {},
   "outputs": [],
   "source": [
    "idf1 = IDF(fname1, weather_file)\n",
    "materials = IDF(fname2, weather_file)\n",
    "mats = materials.idfobjects[\"MATERIAL\"] #Opaque materials\n",
    "window_mats = materials.idfobjects[\"WINDOWMATERIAL:GLAZING\"] #Window materials - Glazings\n",
    "window_airgaps_mats = materials.idfobjects[\"WINDOWMATERIAL:GAS\"] #Window materials - Airgaps\n",
    "airgap_mats = materials.idfobjects[\"MATERIAL:AIRGAP\"] #airgap materials for opaque constructions\n",
    "constructions = idf1.idfobjects[\"CONSTRUCTION\"]\n",
    "full_mats = []\n",
    "for i in [mats, window_mats, window_airgaps_mats, airgap_mats]:\n",
    "    full_mats = np.append(full_mats, i) #appends all mats to a flat array\n",
    "    \n",
    "for mat in full_mats:\n",
    "    mat.Name = mat.Name.replace(\" \", \"\") #replaces spaces\n",
    "    \n",
    "for mat in full_mats:\n",
    "    idf1.copyidfobject(mat) #copy mats to building idf file"
   ]
  },
  {
   "cell_type": "markdown",
   "id": "6b8bb70c",
   "metadata": {},
   "source": [
    "Then we define the possible construction for each element type - walls, floors, and windows, and their respective cost/m2"
   ]
  },
  {
   "cell_type": "code",
   "execution_count": 26,
   "id": "2c957a80",
   "metadata": {},
   "outputs": [],
   "source": [
    "Wmaterials = [[\"Reboco-2cm\", \"TijoloFurado_15\", \"AirGap\", \"TijoloFurado_11\", \"Estuque_Claro_1.5\"],\n",
    "              [\"Reboco-2cm\", \"TijoloFurado_11\", \"AirGap\", \"TijoloFurado_11\", \"Estuque_Claro_1.5\"],\n",
    "              [\"Reboco-2cm\", \"TijoloFurado_15\", \"AirGap\", \"IsolamentoXPS-4cm\", \"TijoloFurado_11\", \"Estuque_Claro_1.5\"]]\n",
    "\n",
    "wall_costs = [25, 20, 45]\n",
    "\n",
    "Fmaterials = [[\"PaineisdeMadeira_12\", \"Estuque_Claro_1.5\"],\n",
    "              [\"Ceramicavidrada-1cm\", \"BetonilhadeAcentamento_8\", \"LajeBetao_15\", \"Estuque_Claro_1.5\"],\n",
    "              [\"Ceramicavidrada-1cm\", \"BetonilhadeAcentamento_8\", \"LajeAligeirada_0.25\", \"Estuque_Claro_1.5\"]]\n",
    "\n",
    "floor_costs = [10, 25, 30]\n",
    "\n",
    "roof_materials = [[\"BetonilhadeAcentamento_8\", \"Telaimpermeabilizacao-2mm\", \"BetonilhadeAcentamento_8\", \"LajeAligeirada_0.25\", \"Estuque_Claro_1.5\"], \n",
    "                  [\"BetonilhadeAcentamento_8\", \"Telaimpermeabilizacao-2mm\", \"IsolamentoXPS-4cm\", \"BetonilhadeAcentamento_8\", \"LajeAligeirada_0.25\", \"Estuque_Claro_1.5\"], \n",
    "                  [\"BetonilhadeAcentamento_8\", \"Telaimpermeabilizacao-2mm\", \"IsolamentoXPS-4cm\", \"BetonilhadeAcentamento_8\", \"LajeBetao_15\", \"Estuque_Claro_1.5\"]]\n",
    "\n",
    "roof_costs = [20, 30, 35]\n",
    "\n",
    "Wndmaterials = [[2.69, 0.75, 0.8], [1.70, 0.38, 0.7], [1.25, 0.2, 0.7]]\n",
    "\n",
    "window_costs = [50, 80, 100]\n"
   ]
  },
  {
   "cell_type": "markdown",
   "id": "cd5888f8",
   "metadata": {},
   "source": [
    "We need to create ceiling materials = to floor materials but in a reverse layer order, for the energy plus tool to identify the adjacency and boundary"
   ]
  },
  {
   "cell_type": "code",
   "execution_count": 27,
   "id": "94921644",
   "metadata": {},
   "outputs": [],
   "source": [
    "Ceilings = []\n",
    "for Fmaterial in Fmaterials:\n",
    "    Ceilings.append(Fmaterial[::-1])"
   ]
  },
  {
   "cell_type": "code",
   "execution_count": 28,
   "id": "4c9fc24f",
   "metadata": {},
   "outputs": [
    {
     "data": {
      "text/plain": [
       "[['Estuque_Claro_1.5', 'PaineisdeMadeira_12'],\n",
       " ['Estuque_Claro_1.5',\n",
       "  'LajeBetao_15',\n",
       "  'BetonilhadeAcentamento_8',\n",
       "  'Ceramicavidrada-1cm'],\n",
       " ['Estuque_Claro_1.5',\n",
       "  'LajeAligeirada_0.25',\n",
       "  'BetonilhadeAcentamento_8',\n",
       "  'Ceramicavidrada-1cm']]"
      ]
     },
     "execution_count": 28,
     "metadata": {},
     "output_type": "execute_result"
    }
   ],
   "source": [
    "Ceilings"
   ]
  },
  {
   "cell_type": "markdown",
   "id": "e63c232b",
   "metadata": {},
   "source": [
    "lets start by inserting these constructions in the new idf. We can start by setting new glazing system materials for each window since we haven't done it yet, and then define our constructions according to the selected materials"
   ]
  },
  {
   "cell_type": "code",
   "execution_count": 29,
   "id": "6dc7fb47",
   "metadata": {},
   "outputs": [],
   "source": [
    "for mat in enumerate(Wndmaterials):\n",
    "    idf1.newidfobject(\"WINDOWMATERIAL:SIMPLEGLAZINGSYSTEM\",\n",
    "                           Name='window_' + str(mat[0]),\n",
    "                           UFactor = float(mat[1][0]),\n",
    "                           Solar_Heat_Gain_Coefficient= float(mat[1][1]),\n",
    "                           Visible_Transmittance = float(mat[1][2]))"
   ]
  },
  {
   "cell_type": "code",
   "execution_count": 30,
   "id": "22b4fe9a",
   "metadata": {},
   "outputs": [],
   "source": [
    "window_mats = idf1.idfobjects[\"WINDOWMATERIAL:SIMPLEGLAZINGSYSTEM\"]"
   ]
  },
  {
   "cell_type": "code",
   "execution_count": 31,
   "id": "af74a579",
   "metadata": {
    "scrolled": true
   },
   "outputs": [
    {
     "data": {
      "text/plain": [
       "[\n",
       "WINDOWMATERIAL:SIMPLEGLAZINGSYSTEM,\n",
       "    window_0,                 !- Name\n",
       "    2.69,                     !- UFactor\n",
       "    0.75,                     !- Solar Heat Gain Coefficient\n",
       "    0.8;                      !- Visible Transmittance\n",
       ", \n",
       "WINDOWMATERIAL:SIMPLEGLAZINGSYSTEM,\n",
       "    window_1,                 !- Name\n",
       "    1.7,                      !- UFactor\n",
       "    0.38,                     !- Solar Heat Gain Coefficient\n",
       "    0.7;                      !- Visible Transmittance\n",
       ", \n",
       "WINDOWMATERIAL:SIMPLEGLAZINGSYSTEM,\n",
       "    window_2,                 !- Name\n",
       "    1.25,                     !- UFactor\n",
       "    0.2,                      !- Solar Heat Gain Coefficient\n",
       "    0.7;                      !- Visible Transmittance\n",
       "]"
      ]
     },
     "execution_count": 31,
     "metadata": {},
     "output_type": "execute_result"
    }
   ],
   "source": [
    "window_mats"
   ]
  },
  {
   "cell_type": "code",
   "execution_count": 32,
   "id": "82fddcd5",
   "metadata": {},
   "outputs": [],
   "source": [
    "for window_mat in enumerate(window_mats):\n",
    "        idf1.newidfobject(\"CONSTRUCTION\",\n",
    "                          Name = window_mat[1].Name,\n",
    "                          Outside_Layer = window_mat[1].Name)"
   ]
  },
  {
   "cell_type": "code",
   "execution_count": 33,
   "id": "45edcdd7",
   "metadata": {
    "scrolled": true
   },
   "outputs": [
    {
     "data": {
      "text/plain": [
       "[\n",
       "Construction,\n",
       "    Generic Context,          !- Name\n",
       "    Material 2;               !- Outside Layer\n",
       ", \n",
       "Construction,\n",
       "    Generic Double Pane,      !- Name\n",
       "    Generic Low-e Glass,      !- Outside Layer\n",
       "    Generic Window Air Gap,    !- Layer 2\n",
       "    Generic Clear Glass;      !- Layer 3\n",
       ", \n",
       "Construction,\n",
       "    Generic Exposed Floor,    !- Name\n",
       "    Generic Painted Metal,    !- Outside Layer\n",
       "    Generic Ceiling Air Gap,    !- Layer 2\n",
       "    Generic 50mm Insulation,    !- Layer 3\n",
       "    Generic LW Concrete;      !- Layer 4\n",
       ", \n",
       "Construction,\n",
       "    Generic Exterior Door,    !- Name\n",
       "    Generic Painted Metal,    !- Outside Layer\n",
       "    Generic 25mm Insulation,    !- Layer 2\n",
       "    Generic Painted Metal;    !- Layer 3\n",
       ", \n",
       "Construction,\n",
       "    Generic Exterior Wall,    !- Name\n",
       "    Generic Brick,            !- Outside Layer\n",
       "    Generic LW Concrete,      !- Layer 2\n",
       "    Generic 50mm Insulation,    !- Layer 3\n",
       "    Generic Wall Air Gap,     !- Layer 4\n",
       "    Generic Gypsum Board;     !- Layer 5\n",
       ", \n",
       "Construction,\n",
       "    Generic Ground Slab,      !- Name\n",
       "    Generic 50mm Insulation,    !- Outside Layer\n",
       "    Generic HW Concrete;      !- Layer 2\n",
       ", \n",
       "Construction,\n",
       "    Generic Interior Ceiling,    !- Name\n",
       "    Generic LW Concrete,      !- Outside Layer\n",
       "    Generic Ceiling Air Gap,    !- Layer 2\n",
       "    Generic Acoustic Tile;    !- Layer 3\n",
       ", \n",
       "Construction,\n",
       "    Generic Interior Door,    !- Name\n",
       "    Generic 25mm Wood;        !- Outside Layer\n",
       ", \n",
       "Construction,\n",
       "    Generic Interior Floor,    !- Name\n",
       "    Generic Acoustic Tile,    !- Outside Layer\n",
       "    Generic Ceiling Air Gap,    !- Layer 2\n",
       "    Generic LW Concrete;      !- Layer 3\n",
       ", \n",
       "Construction,\n",
       "    Generic Interior Wall,    !- Name\n",
       "    Generic Gypsum Board,     !- Outside Layer\n",
       "    Generic Wall Air Gap,     !- Layer 2\n",
       "    Generic Gypsum Board;     !- Layer 3\n",
       ", \n",
       "Construction,\n",
       "    Generic Roof,             !- Name\n",
       "    Generic Roof Membrane,    !- Outside Layer\n",
       "    Generic 50mm Insulation,    !- Layer 2\n",
       "    Generic LW Concrete,      !- Layer 3\n",
       "    Generic Ceiling Air Gap,    !- Layer 4\n",
       "    Generic Acoustic Tile;    !- Layer 5\n",
       ", \n",
       "Construction,\n",
       "    Generic Shade,            !- Name\n",
       "    Material 1;               !- Outside Layer\n",
       ", \n",
       "Construction,\n",
       "    Generic Single Pane,      !- Name\n",
       "    Generic Clear Glass;      !- Outside Layer\n",
       ", \n",
       "Construction,\n",
       "    Generic Underground Roof,    !- Name\n",
       "    Generic 50mm Insulation,    !- Outside Layer\n",
       "    Generic HW Concrete,      !- Layer 2\n",
       "    Generic Ceiling Air Gap,    !- Layer 3\n",
       "    Generic Acoustic Tile;    !- Layer 4\n",
       ", \n",
       "Construction,\n",
       "    Generic Underground Wall,    !- Name\n",
       "    Generic 50mm Insulation,    !- Outside Layer\n",
       "    Generic HW Concrete,      !- Layer 2\n",
       "    Generic Wall Air Gap,     !- Layer 3\n",
       "    Generic Gypsum Board;     !- Layer 4\n",
       ", \n",
       "CONSTRUCTION,\n",
       "    window_0,                 !- Name\n",
       "    window_0;                 !- Outside Layer\n",
       ", \n",
       "CONSTRUCTION,\n",
       "    window_1,                 !- Name\n",
       "    window_1;                 !- Outside Layer\n",
       ", \n",
       "CONSTRUCTION,\n",
       "    window_2,                 !- Name\n",
       "    window_2;                 !- Outside Layer\n",
       "]"
      ]
     },
     "execution_count": 33,
     "metadata": {},
     "output_type": "execute_result"
    }
   ],
   "source": [
    "constructions"
   ]
  },
  {
   "cell_type": "markdown",
   "id": "52cad150",
   "metadata": {},
   "source": [
    "The window constructions are set in the idf, now we can move on to the walls."
   ]
  },
  {
   "cell_type": "code",
   "execution_count": 34,
   "id": "a4b7327f",
   "metadata": {},
   "outputs": [],
   "source": [
    "for construction in enumerate(Wmaterials):\n",
    "     idf1.newidfobject(\"CONSTRUCTION\",\n",
    "                       Name='EXT_WALL' + str(construction[0]),\n",
    "                       **layers_dict(construction[1]))"
   ]
  },
  {
   "cell_type": "code",
   "execution_count": 35,
   "id": "8541819e",
   "metadata": {
    "scrolled": true
   },
   "outputs": [
    {
     "data": {
      "text/plain": [
       "[\n",
       "Construction,\n",
       "    Generic Context,          !- Name\n",
       "    Material 2;               !- Outside Layer\n",
       ", \n",
       "Construction,\n",
       "    Generic Double Pane,      !- Name\n",
       "    Generic Low-e Glass,      !- Outside Layer\n",
       "    Generic Window Air Gap,    !- Layer 2\n",
       "    Generic Clear Glass;      !- Layer 3\n",
       ", \n",
       "Construction,\n",
       "    Generic Exposed Floor,    !- Name\n",
       "    Generic Painted Metal,    !- Outside Layer\n",
       "    Generic Ceiling Air Gap,    !- Layer 2\n",
       "    Generic 50mm Insulation,    !- Layer 3\n",
       "    Generic LW Concrete;      !- Layer 4\n",
       ", \n",
       "Construction,\n",
       "    Generic Exterior Door,    !- Name\n",
       "    Generic Painted Metal,    !- Outside Layer\n",
       "    Generic 25mm Insulation,    !- Layer 2\n",
       "    Generic Painted Metal;    !- Layer 3\n",
       ", \n",
       "Construction,\n",
       "    Generic Exterior Wall,    !- Name\n",
       "    Generic Brick,            !- Outside Layer\n",
       "    Generic LW Concrete,      !- Layer 2\n",
       "    Generic 50mm Insulation,    !- Layer 3\n",
       "    Generic Wall Air Gap,     !- Layer 4\n",
       "    Generic Gypsum Board;     !- Layer 5\n",
       ", \n",
       "Construction,\n",
       "    Generic Ground Slab,      !- Name\n",
       "    Generic 50mm Insulation,    !- Outside Layer\n",
       "    Generic HW Concrete;      !- Layer 2\n",
       ", \n",
       "Construction,\n",
       "    Generic Interior Ceiling,    !- Name\n",
       "    Generic LW Concrete,      !- Outside Layer\n",
       "    Generic Ceiling Air Gap,    !- Layer 2\n",
       "    Generic Acoustic Tile;    !- Layer 3\n",
       ", \n",
       "Construction,\n",
       "    Generic Interior Door,    !- Name\n",
       "    Generic 25mm Wood;        !- Outside Layer\n",
       ", \n",
       "Construction,\n",
       "    Generic Interior Floor,    !- Name\n",
       "    Generic Acoustic Tile,    !- Outside Layer\n",
       "    Generic Ceiling Air Gap,    !- Layer 2\n",
       "    Generic LW Concrete;      !- Layer 3\n",
       ", \n",
       "Construction,\n",
       "    Generic Interior Wall,    !- Name\n",
       "    Generic Gypsum Board,     !- Outside Layer\n",
       "    Generic Wall Air Gap,     !- Layer 2\n",
       "    Generic Gypsum Board;     !- Layer 3\n",
       ", \n",
       "Construction,\n",
       "    Generic Roof,             !- Name\n",
       "    Generic Roof Membrane,    !- Outside Layer\n",
       "    Generic 50mm Insulation,    !- Layer 2\n",
       "    Generic LW Concrete,      !- Layer 3\n",
       "    Generic Ceiling Air Gap,    !- Layer 4\n",
       "    Generic Acoustic Tile;    !- Layer 5\n",
       ", \n",
       "Construction,\n",
       "    Generic Shade,            !- Name\n",
       "    Material 1;               !- Outside Layer\n",
       ", \n",
       "Construction,\n",
       "    Generic Single Pane,      !- Name\n",
       "    Generic Clear Glass;      !- Outside Layer\n",
       ", \n",
       "Construction,\n",
       "    Generic Underground Roof,    !- Name\n",
       "    Generic 50mm Insulation,    !- Outside Layer\n",
       "    Generic HW Concrete,      !- Layer 2\n",
       "    Generic Ceiling Air Gap,    !- Layer 3\n",
       "    Generic Acoustic Tile;    !- Layer 4\n",
       ", \n",
       "Construction,\n",
       "    Generic Underground Wall,    !- Name\n",
       "    Generic 50mm Insulation,    !- Outside Layer\n",
       "    Generic HW Concrete,      !- Layer 2\n",
       "    Generic Wall Air Gap,     !- Layer 3\n",
       "    Generic Gypsum Board;     !- Layer 4\n",
       ", \n",
       "CONSTRUCTION,\n",
       "    window_0,                 !- Name\n",
       "    window_0;                 !- Outside Layer\n",
       ", \n",
       "CONSTRUCTION,\n",
       "    window_1,                 !- Name\n",
       "    window_1;                 !- Outside Layer\n",
       ", \n",
       "CONSTRUCTION,\n",
       "    window_2,                 !- Name\n",
       "    window_2;                 !- Outside Layer\n",
       ", \n",
       "CONSTRUCTION,\n",
       "    EXT_WALL0,                !- Name\n",
       "    Reboco-2cm,               !- Outside Layer\n",
       "    TijoloFurado_15,          !- Layer 2\n",
       "    AirGap,                   !- Layer 3\n",
       "    TijoloFurado_11,          !- Layer 4\n",
       "    Estuque_Claro_1.5;        !- Layer 5\n",
       ", \n",
       "CONSTRUCTION,\n",
       "    EXT_WALL1,                !- Name\n",
       "    Reboco-2cm,               !- Outside Layer\n",
       "    TijoloFurado_11,          !- Layer 2\n",
       "    AirGap,                   !- Layer 3\n",
       "    TijoloFurado_11,          !- Layer 4\n",
       "    Estuque_Claro_1.5;        !- Layer 5\n",
       ", \n",
       "CONSTRUCTION,\n",
       "    EXT_WALL2,                !- Name\n",
       "    Reboco-2cm,               !- Outside Layer\n",
       "    TijoloFurado_15,          !- Layer 2\n",
       "    AirGap,                   !- Layer 3\n",
       "    IsolamentoXPS-4cm,        !- Layer 4\n",
       "    TijoloFurado_11,          !- Layer 5\n",
       "    Estuque_Claro_1.5;        !- Layer 6\n",
       "]"
      ]
     },
     "execution_count": 35,
     "metadata": {},
     "output_type": "execute_result"
    }
   ],
   "source": [
    "constructions"
   ]
  },
  {
   "cell_type": "markdown",
   "id": "64e1c715",
   "metadata": {},
   "source": [
    "Now we do the same for the floor materials"
   ]
  },
  {
   "cell_type": "code",
   "execution_count": 36,
   "id": "ff88afed",
   "metadata": {},
   "outputs": [],
   "source": [
    "for construction in enumerate(Fmaterials):\n",
    "    idf1.newidfobject(\"CONSTRUCTION\",\n",
    "                      Name='floor_' + str(construction[0]),\n",
    "                      **layers_dict(construction[1]))"
   ]
  },
  {
   "cell_type": "code",
   "execution_count": 37,
   "id": "7d3de39d",
   "metadata": {
    "scrolled": true
   },
   "outputs": [
    {
     "data": {
      "text/plain": [
       "[\n",
       "Construction,\n",
       "    Generic Context,          !- Name\n",
       "    Material 2;               !- Outside Layer\n",
       ", \n",
       "Construction,\n",
       "    Generic Double Pane,      !- Name\n",
       "    Generic Low-e Glass,      !- Outside Layer\n",
       "    Generic Window Air Gap,    !- Layer 2\n",
       "    Generic Clear Glass;      !- Layer 3\n",
       ", \n",
       "Construction,\n",
       "    Generic Exposed Floor,    !- Name\n",
       "    Generic Painted Metal,    !- Outside Layer\n",
       "    Generic Ceiling Air Gap,    !- Layer 2\n",
       "    Generic 50mm Insulation,    !- Layer 3\n",
       "    Generic LW Concrete;      !- Layer 4\n",
       ", \n",
       "Construction,\n",
       "    Generic Exterior Door,    !- Name\n",
       "    Generic Painted Metal,    !- Outside Layer\n",
       "    Generic 25mm Insulation,    !- Layer 2\n",
       "    Generic Painted Metal;    !- Layer 3\n",
       ", \n",
       "Construction,\n",
       "    Generic Exterior Wall,    !- Name\n",
       "    Generic Brick,            !- Outside Layer\n",
       "    Generic LW Concrete,      !- Layer 2\n",
       "    Generic 50mm Insulation,    !- Layer 3\n",
       "    Generic Wall Air Gap,     !- Layer 4\n",
       "    Generic Gypsum Board;     !- Layer 5\n",
       ", \n",
       "Construction,\n",
       "    Generic Ground Slab,      !- Name\n",
       "    Generic 50mm Insulation,    !- Outside Layer\n",
       "    Generic HW Concrete;      !- Layer 2\n",
       ", \n",
       "Construction,\n",
       "    Generic Interior Ceiling,    !- Name\n",
       "    Generic LW Concrete,      !- Outside Layer\n",
       "    Generic Ceiling Air Gap,    !- Layer 2\n",
       "    Generic Acoustic Tile;    !- Layer 3\n",
       ", \n",
       "Construction,\n",
       "    Generic Interior Door,    !- Name\n",
       "    Generic 25mm Wood;        !- Outside Layer\n",
       ", \n",
       "Construction,\n",
       "    Generic Interior Floor,    !- Name\n",
       "    Generic Acoustic Tile,    !- Outside Layer\n",
       "    Generic Ceiling Air Gap,    !- Layer 2\n",
       "    Generic LW Concrete;      !- Layer 3\n",
       ", \n",
       "Construction,\n",
       "    Generic Interior Wall,    !- Name\n",
       "    Generic Gypsum Board,     !- Outside Layer\n",
       "    Generic Wall Air Gap,     !- Layer 2\n",
       "    Generic Gypsum Board;     !- Layer 3\n",
       ", \n",
       "Construction,\n",
       "    Generic Roof,             !- Name\n",
       "    Generic Roof Membrane,    !- Outside Layer\n",
       "    Generic 50mm Insulation,    !- Layer 2\n",
       "    Generic LW Concrete,      !- Layer 3\n",
       "    Generic Ceiling Air Gap,    !- Layer 4\n",
       "    Generic Acoustic Tile;    !- Layer 5\n",
       ", \n",
       "Construction,\n",
       "    Generic Shade,            !- Name\n",
       "    Material 1;               !- Outside Layer\n",
       ", \n",
       "Construction,\n",
       "    Generic Single Pane,      !- Name\n",
       "    Generic Clear Glass;      !- Outside Layer\n",
       ", \n",
       "Construction,\n",
       "    Generic Underground Roof,    !- Name\n",
       "    Generic 50mm Insulation,    !- Outside Layer\n",
       "    Generic HW Concrete,      !- Layer 2\n",
       "    Generic Ceiling Air Gap,    !- Layer 3\n",
       "    Generic Acoustic Tile;    !- Layer 4\n",
       ", \n",
       "Construction,\n",
       "    Generic Underground Wall,    !- Name\n",
       "    Generic 50mm Insulation,    !- Outside Layer\n",
       "    Generic HW Concrete,      !- Layer 2\n",
       "    Generic Wall Air Gap,     !- Layer 3\n",
       "    Generic Gypsum Board;     !- Layer 4\n",
       ", \n",
       "CONSTRUCTION,\n",
       "    window_0,                 !- Name\n",
       "    window_0;                 !- Outside Layer\n",
       ", \n",
       "CONSTRUCTION,\n",
       "    window_1,                 !- Name\n",
       "    window_1;                 !- Outside Layer\n",
       ", \n",
       "CONSTRUCTION,\n",
       "    window_2,                 !- Name\n",
       "    window_2;                 !- Outside Layer\n",
       ", \n",
       "CONSTRUCTION,\n",
       "    EXT_WALL0,                !- Name\n",
       "    Reboco-2cm,               !- Outside Layer\n",
       "    TijoloFurado_15,          !- Layer 2\n",
       "    AirGap,                   !- Layer 3\n",
       "    TijoloFurado_11,          !- Layer 4\n",
       "    Estuque_Claro_1.5;        !- Layer 5\n",
       ", \n",
       "CONSTRUCTION,\n",
       "    EXT_WALL1,                !- Name\n",
       "    Reboco-2cm,               !- Outside Layer\n",
       "    TijoloFurado_11,          !- Layer 2\n",
       "    AirGap,                   !- Layer 3\n",
       "    TijoloFurado_11,          !- Layer 4\n",
       "    Estuque_Claro_1.5;        !- Layer 5\n",
       ", \n",
       "CONSTRUCTION,\n",
       "    EXT_WALL2,                !- Name\n",
       "    Reboco-2cm,               !- Outside Layer\n",
       "    TijoloFurado_15,          !- Layer 2\n",
       "    AirGap,                   !- Layer 3\n",
       "    IsolamentoXPS-4cm,        !- Layer 4\n",
       "    TijoloFurado_11,          !- Layer 5\n",
       "    Estuque_Claro_1.5;        !- Layer 6\n",
       ", \n",
       "CONSTRUCTION,\n",
       "    floor_0,                  !- Name\n",
       "    PaineisdeMadeira_12,      !- Outside Layer\n",
       "    Estuque_Claro_1.5;        !- Layer 2\n",
       ", \n",
       "CONSTRUCTION,\n",
       "    floor_1,                  !- Name\n",
       "    Ceramicavidrada-1cm,      !- Outside Layer\n",
       "    BetonilhadeAcentamento_8,    !- Layer 2\n",
       "    LajeBetao_15,             !- Layer 3\n",
       "    Estuque_Claro_1.5;        !- Layer 4\n",
       ", \n",
       "CONSTRUCTION,\n",
       "    floor_2,                  !- Name\n",
       "    Ceramicavidrada-1cm,      !- Outside Layer\n",
       "    BetonilhadeAcentamento_8,    !- Layer 2\n",
       "    LajeAligeirada_0.25,      !- Layer 3\n",
       "    Estuque_Claro_1.5;        !- Layer 4\n",
       "]"
      ]
     },
     "execution_count": 37,
     "metadata": {},
     "output_type": "execute_result"
    }
   ],
   "source": [
    "constructions"
   ]
  },
  {
   "cell_type": "code",
   "execution_count": 38,
   "id": "d79c7277",
   "metadata": {},
   "outputs": [],
   "source": [
    "for construction in enumerate(Ceilings):\n",
    "    idf1.newidfobject(\"CONSTRUCTION\",\n",
    "                      Name='ceiling_' + str(construction[0]),\n",
    "                      **layers_dict(construction[1]))"
   ]
  },
  {
   "cell_type": "code",
   "execution_count": 39,
   "id": "707864cd",
   "metadata": {},
   "outputs": [
    {
     "data": {
      "text/plain": [
       "[\n",
       "Construction,\n",
       "    Generic Context,          !- Name\n",
       "    Material 2;               !- Outside Layer\n",
       ", \n",
       "Construction,\n",
       "    Generic Double Pane,      !- Name\n",
       "    Generic Low-e Glass,      !- Outside Layer\n",
       "    Generic Window Air Gap,    !- Layer 2\n",
       "    Generic Clear Glass;      !- Layer 3\n",
       ", \n",
       "Construction,\n",
       "    Generic Exposed Floor,    !- Name\n",
       "    Generic Painted Metal,    !- Outside Layer\n",
       "    Generic Ceiling Air Gap,    !- Layer 2\n",
       "    Generic 50mm Insulation,    !- Layer 3\n",
       "    Generic LW Concrete;      !- Layer 4\n",
       ", \n",
       "Construction,\n",
       "    Generic Exterior Door,    !- Name\n",
       "    Generic Painted Metal,    !- Outside Layer\n",
       "    Generic 25mm Insulation,    !- Layer 2\n",
       "    Generic Painted Metal;    !- Layer 3\n",
       ", \n",
       "Construction,\n",
       "    Generic Exterior Wall,    !- Name\n",
       "    Generic Brick,            !- Outside Layer\n",
       "    Generic LW Concrete,      !- Layer 2\n",
       "    Generic 50mm Insulation,    !- Layer 3\n",
       "    Generic Wall Air Gap,     !- Layer 4\n",
       "    Generic Gypsum Board;     !- Layer 5\n",
       ", \n",
       "Construction,\n",
       "    Generic Ground Slab,      !- Name\n",
       "    Generic 50mm Insulation,    !- Outside Layer\n",
       "    Generic HW Concrete;      !- Layer 2\n",
       ", \n",
       "Construction,\n",
       "    Generic Interior Ceiling,    !- Name\n",
       "    Generic LW Concrete,      !- Outside Layer\n",
       "    Generic Ceiling Air Gap,    !- Layer 2\n",
       "    Generic Acoustic Tile;    !- Layer 3\n",
       ", \n",
       "Construction,\n",
       "    Generic Interior Door,    !- Name\n",
       "    Generic 25mm Wood;        !- Outside Layer\n",
       ", \n",
       "Construction,\n",
       "    Generic Interior Floor,    !- Name\n",
       "    Generic Acoustic Tile,    !- Outside Layer\n",
       "    Generic Ceiling Air Gap,    !- Layer 2\n",
       "    Generic LW Concrete;      !- Layer 3\n",
       ", \n",
       "Construction,\n",
       "    Generic Interior Wall,    !- Name\n",
       "    Generic Gypsum Board,     !- Outside Layer\n",
       "    Generic Wall Air Gap,     !- Layer 2\n",
       "    Generic Gypsum Board;     !- Layer 3\n",
       ", \n",
       "Construction,\n",
       "    Generic Roof,             !- Name\n",
       "    Generic Roof Membrane,    !- Outside Layer\n",
       "    Generic 50mm Insulation,    !- Layer 2\n",
       "    Generic LW Concrete,      !- Layer 3\n",
       "    Generic Ceiling Air Gap,    !- Layer 4\n",
       "    Generic Acoustic Tile;    !- Layer 5\n",
       ", \n",
       "Construction,\n",
       "    Generic Shade,            !- Name\n",
       "    Material 1;               !- Outside Layer\n",
       ", \n",
       "Construction,\n",
       "    Generic Single Pane,      !- Name\n",
       "    Generic Clear Glass;      !- Outside Layer\n",
       ", \n",
       "Construction,\n",
       "    Generic Underground Roof,    !- Name\n",
       "    Generic 50mm Insulation,    !- Outside Layer\n",
       "    Generic HW Concrete,      !- Layer 2\n",
       "    Generic Ceiling Air Gap,    !- Layer 3\n",
       "    Generic Acoustic Tile;    !- Layer 4\n",
       ", \n",
       "Construction,\n",
       "    Generic Underground Wall,    !- Name\n",
       "    Generic 50mm Insulation,    !- Outside Layer\n",
       "    Generic HW Concrete,      !- Layer 2\n",
       "    Generic Wall Air Gap,     !- Layer 3\n",
       "    Generic Gypsum Board;     !- Layer 4\n",
       ", \n",
       "CONSTRUCTION,\n",
       "    window_0,                 !- Name\n",
       "    window_0;                 !- Outside Layer\n",
       ", \n",
       "CONSTRUCTION,\n",
       "    window_1,                 !- Name\n",
       "    window_1;                 !- Outside Layer\n",
       ", \n",
       "CONSTRUCTION,\n",
       "    window_2,                 !- Name\n",
       "    window_2;                 !- Outside Layer\n",
       ", \n",
       "CONSTRUCTION,\n",
       "    EXT_WALL0,                !- Name\n",
       "    Reboco-2cm,               !- Outside Layer\n",
       "    TijoloFurado_15,          !- Layer 2\n",
       "    AirGap,                   !- Layer 3\n",
       "    TijoloFurado_11,          !- Layer 4\n",
       "    Estuque_Claro_1.5;        !- Layer 5\n",
       ", \n",
       "CONSTRUCTION,\n",
       "    EXT_WALL1,                !- Name\n",
       "    Reboco-2cm,               !- Outside Layer\n",
       "    TijoloFurado_11,          !- Layer 2\n",
       "    AirGap,                   !- Layer 3\n",
       "    TijoloFurado_11,          !- Layer 4\n",
       "    Estuque_Claro_1.5;        !- Layer 5\n",
       ", \n",
       "CONSTRUCTION,\n",
       "    EXT_WALL2,                !- Name\n",
       "    Reboco-2cm,               !- Outside Layer\n",
       "    TijoloFurado_15,          !- Layer 2\n",
       "    AirGap,                   !- Layer 3\n",
       "    IsolamentoXPS-4cm,        !- Layer 4\n",
       "    TijoloFurado_11,          !- Layer 5\n",
       "    Estuque_Claro_1.5;        !- Layer 6\n",
       ", \n",
       "CONSTRUCTION,\n",
       "    floor_0,                  !- Name\n",
       "    PaineisdeMadeira_12,      !- Outside Layer\n",
       "    Estuque_Claro_1.5;        !- Layer 2\n",
       ", \n",
       "CONSTRUCTION,\n",
       "    floor_1,                  !- Name\n",
       "    Ceramicavidrada-1cm,      !- Outside Layer\n",
       "    BetonilhadeAcentamento_8,    !- Layer 2\n",
       "    LajeBetao_15,             !- Layer 3\n",
       "    Estuque_Claro_1.5;        !- Layer 4\n",
       ", \n",
       "CONSTRUCTION,\n",
       "    floor_2,                  !- Name\n",
       "    Ceramicavidrada-1cm,      !- Outside Layer\n",
       "    BetonilhadeAcentamento_8,    !- Layer 2\n",
       "    LajeAligeirada_0.25,      !- Layer 3\n",
       "    Estuque_Claro_1.5;        !- Layer 4\n",
       ", \n",
       "CONSTRUCTION,\n",
       "    ceiling_0,                !- Name\n",
       "    Estuque_Claro_1.5,        !- Outside Layer\n",
       "    PaineisdeMadeira_12;      !- Layer 2\n",
       ", \n",
       "CONSTRUCTION,\n",
       "    ceiling_1,                !- Name\n",
       "    Estuque_Claro_1.5,        !- Outside Layer\n",
       "    LajeBetao_15,             !- Layer 2\n",
       "    BetonilhadeAcentamento_8,    !- Layer 3\n",
       "    Ceramicavidrada-1cm;      !- Layer 4\n",
       ", \n",
       "CONSTRUCTION,\n",
       "    ceiling_2,                !- Name\n",
       "    Estuque_Claro_1.5,        !- Outside Layer\n",
       "    LajeAligeirada_0.25,      !- Layer 2\n",
       "    BetonilhadeAcentamento_8,    !- Layer 3\n",
       "    Ceramicavidrada-1cm;      !- Layer 4\n",
       "]"
      ]
     },
     "execution_count": 39,
     "metadata": {},
     "output_type": "execute_result"
    }
   ],
   "source": [
    "constructions"
   ]
  },
  {
   "cell_type": "code",
   "execution_count": 40,
   "id": "da42a814",
   "metadata": {},
   "outputs": [],
   "source": [
    "#Roof"
   ]
  },
  {
   "cell_type": "code",
   "execution_count": 41,
   "id": "536468f3",
   "metadata": {},
   "outputs": [],
   "source": [
    "for construction in enumerate(roof_materials):\n",
    "    idf1.newidfobject(\"CONSTRUCTION\",\n",
    "                      Name='roof_' + str(construction[0]),\n",
    "                      **layers_dict(construction[1]))"
   ]
  },
  {
   "cell_type": "code",
   "execution_count": 42,
   "id": "233a02d4",
   "metadata": {},
   "outputs": [
    {
     "data": {
      "text/plain": [
       "[\n",
       "Construction,\n",
       "    Generic Context,          !- Name\n",
       "    Material 2;               !- Outside Layer\n",
       ", \n",
       "Construction,\n",
       "    Generic Double Pane,      !- Name\n",
       "    Generic Low-e Glass,      !- Outside Layer\n",
       "    Generic Window Air Gap,    !- Layer 2\n",
       "    Generic Clear Glass;      !- Layer 3\n",
       ", \n",
       "Construction,\n",
       "    Generic Exposed Floor,    !- Name\n",
       "    Generic Painted Metal,    !- Outside Layer\n",
       "    Generic Ceiling Air Gap,    !- Layer 2\n",
       "    Generic 50mm Insulation,    !- Layer 3\n",
       "    Generic LW Concrete;      !- Layer 4\n",
       ", \n",
       "Construction,\n",
       "    Generic Exterior Door,    !- Name\n",
       "    Generic Painted Metal,    !- Outside Layer\n",
       "    Generic 25mm Insulation,    !- Layer 2\n",
       "    Generic Painted Metal;    !- Layer 3\n",
       ", \n",
       "Construction,\n",
       "    Generic Exterior Wall,    !- Name\n",
       "    Generic Brick,            !- Outside Layer\n",
       "    Generic LW Concrete,      !- Layer 2\n",
       "    Generic 50mm Insulation,    !- Layer 3\n",
       "    Generic Wall Air Gap,     !- Layer 4\n",
       "    Generic Gypsum Board;     !- Layer 5\n",
       ", \n",
       "Construction,\n",
       "    Generic Ground Slab,      !- Name\n",
       "    Generic 50mm Insulation,    !- Outside Layer\n",
       "    Generic HW Concrete;      !- Layer 2\n",
       ", \n",
       "Construction,\n",
       "    Generic Interior Ceiling,    !- Name\n",
       "    Generic LW Concrete,      !- Outside Layer\n",
       "    Generic Ceiling Air Gap,    !- Layer 2\n",
       "    Generic Acoustic Tile;    !- Layer 3\n",
       ", \n",
       "Construction,\n",
       "    Generic Interior Door,    !- Name\n",
       "    Generic 25mm Wood;        !- Outside Layer\n",
       ", \n",
       "Construction,\n",
       "    Generic Interior Floor,    !- Name\n",
       "    Generic Acoustic Tile,    !- Outside Layer\n",
       "    Generic Ceiling Air Gap,    !- Layer 2\n",
       "    Generic LW Concrete;      !- Layer 3\n",
       ", \n",
       "Construction,\n",
       "    Generic Interior Wall,    !- Name\n",
       "    Generic Gypsum Board,     !- Outside Layer\n",
       "    Generic Wall Air Gap,     !- Layer 2\n",
       "    Generic Gypsum Board;     !- Layer 3\n",
       ", \n",
       "Construction,\n",
       "    Generic Roof,             !- Name\n",
       "    Generic Roof Membrane,    !- Outside Layer\n",
       "    Generic 50mm Insulation,    !- Layer 2\n",
       "    Generic LW Concrete,      !- Layer 3\n",
       "    Generic Ceiling Air Gap,    !- Layer 4\n",
       "    Generic Acoustic Tile;    !- Layer 5\n",
       ", \n",
       "Construction,\n",
       "    Generic Shade,            !- Name\n",
       "    Material 1;               !- Outside Layer\n",
       ", \n",
       "Construction,\n",
       "    Generic Single Pane,      !- Name\n",
       "    Generic Clear Glass;      !- Outside Layer\n",
       ", \n",
       "Construction,\n",
       "    Generic Underground Roof,    !- Name\n",
       "    Generic 50mm Insulation,    !- Outside Layer\n",
       "    Generic HW Concrete,      !- Layer 2\n",
       "    Generic Ceiling Air Gap,    !- Layer 3\n",
       "    Generic Acoustic Tile;    !- Layer 4\n",
       ", \n",
       "Construction,\n",
       "    Generic Underground Wall,    !- Name\n",
       "    Generic 50mm Insulation,    !- Outside Layer\n",
       "    Generic HW Concrete,      !- Layer 2\n",
       "    Generic Wall Air Gap,     !- Layer 3\n",
       "    Generic Gypsum Board;     !- Layer 4\n",
       ", \n",
       "CONSTRUCTION,\n",
       "    window_0,                 !- Name\n",
       "    window_0;                 !- Outside Layer\n",
       ", \n",
       "CONSTRUCTION,\n",
       "    window_1,                 !- Name\n",
       "    window_1;                 !- Outside Layer\n",
       ", \n",
       "CONSTRUCTION,\n",
       "    window_2,                 !- Name\n",
       "    window_2;                 !- Outside Layer\n",
       ", \n",
       "CONSTRUCTION,\n",
       "    EXT_WALL0,                !- Name\n",
       "    Reboco-2cm,               !- Outside Layer\n",
       "    TijoloFurado_15,          !- Layer 2\n",
       "    AirGap,                   !- Layer 3\n",
       "    TijoloFurado_11,          !- Layer 4\n",
       "    Estuque_Claro_1.5;        !- Layer 5\n",
       ", \n",
       "CONSTRUCTION,\n",
       "    EXT_WALL1,                !- Name\n",
       "    Reboco-2cm,               !- Outside Layer\n",
       "    TijoloFurado_11,          !- Layer 2\n",
       "    AirGap,                   !- Layer 3\n",
       "    TijoloFurado_11,          !- Layer 4\n",
       "    Estuque_Claro_1.5;        !- Layer 5\n",
       ", \n",
       "CONSTRUCTION,\n",
       "    EXT_WALL2,                !- Name\n",
       "    Reboco-2cm,               !- Outside Layer\n",
       "    TijoloFurado_15,          !- Layer 2\n",
       "    AirGap,                   !- Layer 3\n",
       "    IsolamentoXPS-4cm,        !- Layer 4\n",
       "    TijoloFurado_11,          !- Layer 5\n",
       "    Estuque_Claro_1.5;        !- Layer 6\n",
       ", \n",
       "CONSTRUCTION,\n",
       "    floor_0,                  !- Name\n",
       "    PaineisdeMadeira_12,      !- Outside Layer\n",
       "    Estuque_Claro_1.5;        !- Layer 2\n",
       ", \n",
       "CONSTRUCTION,\n",
       "    floor_1,                  !- Name\n",
       "    Ceramicavidrada-1cm,      !- Outside Layer\n",
       "    BetonilhadeAcentamento_8,    !- Layer 2\n",
       "    LajeBetao_15,             !- Layer 3\n",
       "    Estuque_Claro_1.5;        !- Layer 4\n",
       ", \n",
       "CONSTRUCTION,\n",
       "    floor_2,                  !- Name\n",
       "    Ceramicavidrada-1cm,      !- Outside Layer\n",
       "    BetonilhadeAcentamento_8,    !- Layer 2\n",
       "    LajeAligeirada_0.25,      !- Layer 3\n",
       "    Estuque_Claro_1.5;        !- Layer 4\n",
       ", \n",
       "CONSTRUCTION,\n",
       "    ceiling_0,                !- Name\n",
       "    Estuque_Claro_1.5,        !- Outside Layer\n",
       "    PaineisdeMadeira_12;      !- Layer 2\n",
       ", \n",
       "CONSTRUCTION,\n",
       "    ceiling_1,                !- Name\n",
       "    Estuque_Claro_1.5,        !- Outside Layer\n",
       "    LajeBetao_15,             !- Layer 2\n",
       "    BetonilhadeAcentamento_8,    !- Layer 3\n",
       "    Ceramicavidrada-1cm;      !- Layer 4\n",
       ", \n",
       "CONSTRUCTION,\n",
       "    ceiling_2,                !- Name\n",
       "    Estuque_Claro_1.5,        !- Outside Layer\n",
       "    LajeAligeirada_0.25,      !- Layer 2\n",
       "    BetonilhadeAcentamento_8,    !- Layer 3\n",
       "    Ceramicavidrada-1cm;      !- Layer 4\n",
       ", \n",
       "CONSTRUCTION,\n",
       "    roof_0,                   !- Name\n",
       "    BetonilhadeAcentamento_8,    !- Outside Layer\n",
       "    Telaimpermeabilizacao-2mm,    !- Layer 2\n",
       "    BetonilhadeAcentamento_8,    !- Layer 3\n",
       "    LajeAligeirada_0.25,      !- Layer 4\n",
       "    Estuque_Claro_1.5;        !- Layer 5\n",
       ", \n",
       "CONSTRUCTION,\n",
       "    roof_1,                   !- Name\n",
       "    BetonilhadeAcentamento_8,    !- Outside Layer\n",
       "    Telaimpermeabilizacao-2mm,    !- Layer 2\n",
       "    IsolamentoXPS-4cm,        !- Layer 3\n",
       "    BetonilhadeAcentamento_8,    !- Layer 4\n",
       "    LajeAligeirada_0.25,      !- Layer 5\n",
       "    Estuque_Claro_1.5;        !- Layer 6\n",
       ", \n",
       "CONSTRUCTION,\n",
       "    roof_2,                   !- Name\n",
       "    BetonilhadeAcentamento_8,    !- Outside Layer\n",
       "    Telaimpermeabilizacao-2mm,    !- Layer 2\n",
       "    IsolamentoXPS-4cm,        !- Layer 3\n",
       "    BetonilhadeAcentamento_8,    !- Layer 4\n",
       "    LajeBetao_15,             !- Layer 5\n",
       "    Estuque_Claro_1.5;        !- Layer 6\n",
       "]"
      ]
     },
     "execution_count": 42,
     "metadata": {},
     "output_type": "execute_result"
    }
   ],
   "source": [
    "constructions"
   ]
  },
  {
   "cell_type": "markdown",
   "id": "bb79a8b2",
   "metadata": {},
   "source": [
    "Now that we have our constructions all set up, we can start elaborating the optimization function. We want an Energy function, that runs an idf with a specific combination of constructions, one for each surface type. Thus, we need to apply one construction solution, of one construction type to the whole building surfaces of that type. In this case, we want to optimize the exterior walls, floors, and windows. Let's isolate the surface elements we want to iterate constructions on."
   ]
  },
  {
   "cell_type": "code",
   "execution_count": 43,
   "id": "690c9aec",
   "metadata": {},
   "outputs": [],
   "source": [
    "opaque_surfaces = idf1.idfobjects[\"BuildingSurface:Detailed\"]\n",
    "window_surfaces = idf1.idfobjects[\"FenestrationSurface:Detailed\"]"
   ]
  },
  {
   "cell_type": "code",
   "execution_count": 44,
   "id": "0277e34e",
   "metadata": {},
   "outputs": [],
   "source": [
    "buildings_str = []\n",
    "for n in np.linspace(1, 6, 6).astype(\"int\"):\n",
    "    buildings_str = np.append(buildings_str, \"Building_\" + str(n))"
   ]
  },
  {
   "cell_type": "code",
   "execution_count": 45,
   "id": "42b59d66",
   "metadata": {},
   "outputs": [
    {
     "data": {
      "text/plain": [
       "array(['Building_1', 'Building_2', 'Building_3', 'Building_4',\n",
       "       'Building_5', 'Building_6'], dtype='<U32')"
      ]
     },
     "execution_count": 45,
     "metadata": {},
     "output_type": "execute_result"
    }
   ],
   "source": [
    "buildings_str"
   ]
  },
  {
   "cell_type": "code",
   "execution_count": 46,
   "id": "4af1044d",
   "metadata": {},
   "outputs": [],
   "source": [
    "walls_per_building = {}\n",
    "for building in buildings_str:\n",
    "    walls_per_building[building] = []\n",
    "    for opaque_surface in opaque_surfaces:\n",
    "        if building in opaque_surface[\"Name\"] and opaque_surface[\"Surface_Type\"] == \"Wall\" and opaque_surface[\"Outside_Boundary_Condition\"] == \"Outdoors\":\n",
    "            walls_per_building[building].append(opaque_surface)"
   ]
  },
  {
   "cell_type": "code",
   "execution_count": 47,
   "id": "e0c4bf0c",
   "metadata": {},
   "outputs": [
    {
     "name": "stdout",
     "output_type": "stream",
     "text": [
      "Flr1_Building_1_5569bbdd_Floor1_Room1..Face1\n",
      "Flr1_Building_1_5569bbdd_Floor1_Room1..Face2\n",
      "Flr1_Building_1_5569bbdd_Floor1_Room1..Face3\n",
      "Flr1_Building_1_5569bbdd_Floor1_Room1..Face4\n",
      "Flr1_Ground_Building_1_5569bbdd_Floor1_Room1..Face1\n",
      "Flr1_Ground_Building_1_5569bbdd_Floor1_Room1..Face2\n",
      "Flr1_Ground_Building_1_5569bbdd_Floor1_Room1..Face3\n",
      "Flr1_Ground_Building_1_5569bbdd_Floor1_Room1..Face4\n",
      "Flr1_Top_Building_1_5569bbdd_Floor1_Room1..Face1\n",
      "Flr1_Top_Building_1_5569bbdd_Floor1_Room1..Face2\n",
      "Flr1_Top_Building_1_5569bbdd_Floor1_Room1..Face3\n",
      "Flr1_Top_Building_1_5569bbdd_Floor1_Room1..Face4\n",
      "Flr2_Building_1_5569bbdd_Floor1_Room1..Face1\n",
      "Flr2_Building_1_5569bbdd_Floor1_Room1..Face2\n",
      "Flr2_Building_1_5569bbdd_Floor1_Room1..Face3\n",
      "Flr2_Building_1_5569bbdd_Floor1_Room1..Face4\n",
      "Flr3_Building_1_5569bbdd_Floor1_Room1..Face1\n",
      "Flr3_Building_1_5569bbdd_Floor1_Room1..Face2\n",
      "Flr3_Building_1_5569bbdd_Floor1_Room1..Face3\n",
      "Flr3_Building_1_5569bbdd_Floor1_Room1..Face4\n",
      "Flr4_Building_1_5569bbdd_Floor1_Room1..Face1\n",
      "Flr4_Building_1_5569bbdd_Floor1_Room1..Face2\n",
      "Flr4_Building_1_5569bbdd_Floor1_Room1..Face3\n",
      "Flr4_Building_1_5569bbdd_Floor1_Room1..Face4\n",
      "Flr5_Building_1_5569bbdd_Floor1_Room1..Face1\n",
      "Flr5_Building_1_5569bbdd_Floor1_Room1..Face2\n",
      "Flr5_Building_1_5569bbdd_Floor1_Room1..Face3\n",
      "Flr5_Building_1_5569bbdd_Floor1_Room1..Face4\n"
     ]
    }
   ],
   "source": [
    "for surface in walls_per_building[\"Building_1\"]:\n",
    "    print(surface[\"Name\"]) #test"
   ]
  },
  {
   "cell_type": "markdown",
   "id": "7572c807",
   "metadata": {},
   "source": [
    "Now we do the same for the floors, but since we don't have any optional ground floors, we only need to extract all the interior floors, which have a boundary condition of \"Adiabatic\". The ones that have a boundary condition of \"Ground\" are ground floors."
   ]
  },
  {
   "cell_type": "code",
   "execution_count": 48,
   "id": "6ea885c0",
   "metadata": {},
   "outputs": [],
   "source": [
    "floors_per_building = {}\n",
    "for building in buildings_str:\n",
    "    floors_per_building[building] = []\n",
    "    for opaque_surface in opaque_surfaces:\n",
    "        if building in opaque_surface[\"Name\"] and opaque_surface[\"Surface_Type\"] == \"Floor\" and opaque_surface[\"Outside_Boundary_Condition\"] == \"Adiabatic\":\n",
    "            floors_per_building[building].append(opaque_surface)"
   ]
  },
  {
   "cell_type": "code",
   "execution_count": 49,
   "id": "0253eebb",
   "metadata": {},
   "outputs": [
    {
     "name": "stdout",
     "output_type": "stream",
     "text": [
      "Flr1_Building_1_5569bbdd_Floor1_Room1..Face0\n",
      "Flr1_Top_Building_1_5569bbdd_Floor1_Room1..Face0\n",
      "Flr2_Building_1_5569bbdd_Floor1_Room1..Face0\n",
      "Flr3_Building_1_5569bbdd_Floor1_Room1..Face0\n",
      "Flr4_Building_1_5569bbdd_Floor1_Room1..Face0\n",
      "Flr5_Building_1_5569bbdd_Floor1_Room1..Face0\n"
     ]
    }
   ],
   "source": [
    "for surface in floors_per_building[\"Building_1\"]:\n",
    "    print(surface[\"Name\"]) #Test"
   ]
  },
  {
   "cell_type": "markdown",
   "id": "537b65a7",
   "metadata": {},
   "source": [
    "ceilings"
   ]
  },
  {
   "cell_type": "code",
   "execution_count": 50,
   "id": "15433019",
   "metadata": {},
   "outputs": [],
   "source": [
    "ceilings_per_building = {}\n",
    "for building in buildings_str:\n",
    "    ceilings_per_building[building] = []\n",
    "    for opaque_surface in opaque_surfaces:\n",
    "        if building in opaque_surface[\"Name\"] and opaque_surface[\"Surface_Type\"] == \"Ceiling\":\n",
    "            ceilings_per_building[building].append(opaque_surface)"
   ]
  },
  {
   "cell_type": "code",
   "execution_count": 51,
   "id": "083e823c",
   "metadata": {},
   "outputs": [
    {
     "name": "stdout",
     "output_type": "stream",
     "text": [
      "Flr1_Building_1_5569bbdd_Floor1_Room1..Face5\n",
      "Flr1_Ground_Building_1_5569bbdd_Floor1_Room1..Face5\n",
      "Flr2_Building_1_5569bbdd_Floor1_Room1..Face5\n",
      "Flr3_Building_1_5569bbdd_Floor1_Room1..Face5\n",
      "Flr4_Building_1_5569bbdd_Floor1_Room1..Face5\n",
      "Flr5_Building_1_5569bbdd_Floor1_Room1..Face5\n"
     ]
    }
   ],
   "source": [
    "for surface in ceilings_per_building[\"Building_1\"]:\n",
    "    print(surface[\"Name\"]) #Test"
   ]
  },
  {
   "cell_type": "markdown",
   "id": "1d453023",
   "metadata": {},
   "source": [
    "Roofs"
   ]
  },
  {
   "cell_type": "code",
   "execution_count": 52,
   "id": "9fa10389",
   "metadata": {},
   "outputs": [],
   "source": [
    "roofs_per_building = {}\n",
    "for building in buildings_str:\n",
    "    roofs_per_building[building] = []\n",
    "    for opaque_surface in opaque_surfaces:\n",
    "        if building in opaque_surface[\"Name\"] and opaque_surface[\"Surface_Type\"] == \"Roof\":\n",
    "            roofs_per_building[building].append(opaque_surface)"
   ]
  },
  {
   "cell_type": "code",
   "execution_count": 53,
   "id": "961d85a3",
   "metadata": {},
   "outputs": [
    {
     "name": "stdout",
     "output_type": "stream",
     "text": [
      "Flr1_Top_Building_1_5569bbdd_Floor1_Room1..Face5\n"
     ]
    }
   ],
   "source": [
    "for surface in roofs_per_building[\"Building_1\"]:\n",
    "    print(surface[\"Name\"]) #Test"
   ]
  },
  {
   "cell_type": "markdown",
   "id": "3bb50574",
   "metadata": {},
   "source": [
    "Windows"
   ]
  },
  {
   "cell_type": "code",
   "execution_count": 54,
   "id": "6c660f03",
   "metadata": {},
   "outputs": [],
   "source": [
    "windows_per_building = {}\n",
    "for building in buildings_str:\n",
    "    windows_per_building[building] = []\n",
    "    for window_surface in window_surfaces:\n",
    "        if building in window_surface[\"Name\"]:\n",
    "            windows_per_building[building].append(window_surface)"
   ]
  },
  {
   "cell_type": "code",
   "execution_count": 55,
   "id": "b32d4ab1",
   "metadata": {},
   "outputs": [
    {
     "name": "stdout",
     "output_type": "stream",
     "text": [
      "Flr1_Building_1_5569bbdd_Floor1_Room1..Face1_Glz0\n",
      "Flr1_Building_1_5569bbdd_Floor1_Room1..Face1_Glz1\n",
      "Flr1_Building_1_5569bbdd_Floor1_Room1..Face1_Glz2\n",
      "Flr1_Building_1_5569bbdd_Floor1_Room1..Face1_Glz3\n",
      "Flr1_Building_1_5569bbdd_Floor1_Room1..Face1_Glz4\n",
      "Flr1_Building_1_5569bbdd_Floor1_Room1..Face1_Glz5\n",
      "Flr1_Building_1_5569bbdd_Floor1_Room1..Face1_Glz6\n",
      "Flr1_Building_1_5569bbdd_Floor1_Room1..Face2_Glz0\n",
      "Flr1_Building_1_5569bbdd_Floor1_Room1..Face2_Glz1\n",
      "Flr1_Building_1_5569bbdd_Floor1_Room1..Face2_Glz2\n",
      "Flr1_Building_1_5569bbdd_Floor1_Room1..Face3_Glz0\n",
      "Flr1_Building_1_5569bbdd_Floor1_Room1..Face3_Glz1\n",
      "Flr1_Building_1_5569bbdd_Floor1_Room1..Face3_Glz2\n",
      "Flr1_Building_1_5569bbdd_Floor1_Room1..Face3_Glz3\n",
      "Flr1_Building_1_5569bbdd_Floor1_Room1..Face3_Glz4\n",
      "Flr1_Building_1_5569bbdd_Floor1_Room1..Face3_Glz5\n",
      "Flr1_Building_1_5569bbdd_Floor1_Room1..Face3_Glz6\n",
      "Flr1_Building_1_5569bbdd_Floor1_Room1..Face4_Glz0\n",
      "Flr1_Building_1_5569bbdd_Floor1_Room1..Face4_Glz1\n",
      "Flr1_Building_1_5569bbdd_Floor1_Room1..Face4_Glz2\n",
      "Flr1_Ground_Building_1_5569bbdd_Floor1_Room1..Face1_Glz0\n",
      "Flr1_Ground_Building_1_5569bbdd_Floor1_Room1..Face1_Glz1\n",
      "Flr1_Ground_Building_1_5569bbdd_Floor1_Room1..Face1_Glz2\n",
      "Flr1_Ground_Building_1_5569bbdd_Floor1_Room1..Face1_Glz3\n",
      "Flr1_Ground_Building_1_5569bbdd_Floor1_Room1..Face1_Glz4\n",
      "Flr1_Ground_Building_1_5569bbdd_Floor1_Room1..Face1_Glz5\n",
      "Flr1_Ground_Building_1_5569bbdd_Floor1_Room1..Face1_Glz6\n",
      "Flr1_Ground_Building_1_5569bbdd_Floor1_Room1..Face2_Glz0\n",
      "Flr1_Ground_Building_1_5569bbdd_Floor1_Room1..Face2_Glz1\n",
      "Flr1_Ground_Building_1_5569bbdd_Floor1_Room1..Face2_Glz2\n",
      "Flr1_Ground_Building_1_5569bbdd_Floor1_Room1..Face3_Glz0\n",
      "Flr1_Ground_Building_1_5569bbdd_Floor1_Room1..Face3_Glz1\n",
      "Flr1_Ground_Building_1_5569bbdd_Floor1_Room1..Face3_Glz2\n",
      "Flr1_Ground_Building_1_5569bbdd_Floor1_Room1..Face3_Glz3\n",
      "Flr1_Ground_Building_1_5569bbdd_Floor1_Room1..Face3_Glz4\n",
      "Flr1_Ground_Building_1_5569bbdd_Floor1_Room1..Face3_Glz5\n",
      "Flr1_Ground_Building_1_5569bbdd_Floor1_Room1..Face3_Glz6\n",
      "Flr1_Ground_Building_1_5569bbdd_Floor1_Room1..Face4_Glz0\n",
      "Flr1_Ground_Building_1_5569bbdd_Floor1_Room1..Face4_Glz1\n",
      "Flr1_Ground_Building_1_5569bbdd_Floor1_Room1..Face4_Glz2\n",
      "Flr1_Top_Building_1_5569bbdd_Floor1_Room1..Face1_Glz0\n",
      "Flr1_Top_Building_1_5569bbdd_Floor1_Room1..Face1_Glz1\n",
      "Flr1_Top_Building_1_5569bbdd_Floor1_Room1..Face1_Glz2\n",
      "Flr1_Top_Building_1_5569bbdd_Floor1_Room1..Face1_Glz3\n",
      "Flr1_Top_Building_1_5569bbdd_Floor1_Room1..Face1_Glz4\n",
      "Flr1_Top_Building_1_5569bbdd_Floor1_Room1..Face1_Glz5\n",
      "Flr1_Top_Building_1_5569bbdd_Floor1_Room1..Face1_Glz6\n",
      "Flr1_Top_Building_1_5569bbdd_Floor1_Room1..Face2_Glz0\n",
      "Flr1_Top_Building_1_5569bbdd_Floor1_Room1..Face2_Glz1\n",
      "Flr1_Top_Building_1_5569bbdd_Floor1_Room1..Face2_Glz2\n",
      "Flr1_Top_Building_1_5569bbdd_Floor1_Room1..Face3_Glz0\n",
      "Flr1_Top_Building_1_5569bbdd_Floor1_Room1..Face3_Glz1\n",
      "Flr1_Top_Building_1_5569bbdd_Floor1_Room1..Face3_Glz2\n",
      "Flr1_Top_Building_1_5569bbdd_Floor1_Room1..Face3_Glz3\n",
      "Flr1_Top_Building_1_5569bbdd_Floor1_Room1..Face3_Glz4\n",
      "Flr1_Top_Building_1_5569bbdd_Floor1_Room1..Face3_Glz5\n",
      "Flr1_Top_Building_1_5569bbdd_Floor1_Room1..Face3_Glz6\n",
      "Flr1_Top_Building_1_5569bbdd_Floor1_Room1..Face4_Glz0\n",
      "Flr1_Top_Building_1_5569bbdd_Floor1_Room1..Face4_Glz1\n",
      "Flr1_Top_Building_1_5569bbdd_Floor1_Room1..Face4_Glz2\n",
      "Flr2_Building_1_5569bbdd_Floor1_Room1..Face1_Glz0\n",
      "Flr2_Building_1_5569bbdd_Floor1_Room1..Face1_Glz1\n",
      "Flr2_Building_1_5569bbdd_Floor1_Room1..Face1_Glz2\n",
      "Flr2_Building_1_5569bbdd_Floor1_Room1..Face1_Glz3\n",
      "Flr2_Building_1_5569bbdd_Floor1_Room1..Face1_Glz4\n",
      "Flr2_Building_1_5569bbdd_Floor1_Room1..Face1_Glz5\n",
      "Flr2_Building_1_5569bbdd_Floor1_Room1..Face1_Glz6\n",
      "Flr2_Building_1_5569bbdd_Floor1_Room1..Face2_Glz0\n",
      "Flr2_Building_1_5569bbdd_Floor1_Room1..Face2_Glz1\n",
      "Flr2_Building_1_5569bbdd_Floor1_Room1..Face2_Glz2\n",
      "Flr2_Building_1_5569bbdd_Floor1_Room1..Face3_Glz0\n",
      "Flr2_Building_1_5569bbdd_Floor1_Room1..Face3_Glz1\n",
      "Flr2_Building_1_5569bbdd_Floor1_Room1..Face3_Glz2\n",
      "Flr2_Building_1_5569bbdd_Floor1_Room1..Face3_Glz3\n",
      "Flr2_Building_1_5569bbdd_Floor1_Room1..Face3_Glz4\n",
      "Flr2_Building_1_5569bbdd_Floor1_Room1..Face3_Glz5\n",
      "Flr2_Building_1_5569bbdd_Floor1_Room1..Face3_Glz6\n",
      "Flr2_Building_1_5569bbdd_Floor1_Room1..Face4_Glz0\n",
      "Flr2_Building_1_5569bbdd_Floor1_Room1..Face4_Glz1\n",
      "Flr2_Building_1_5569bbdd_Floor1_Room1..Face4_Glz2\n",
      "Flr3_Building_1_5569bbdd_Floor1_Room1..Face1_Glz0\n",
      "Flr3_Building_1_5569bbdd_Floor1_Room1..Face1_Glz1\n",
      "Flr3_Building_1_5569bbdd_Floor1_Room1..Face1_Glz2\n",
      "Flr3_Building_1_5569bbdd_Floor1_Room1..Face1_Glz3\n",
      "Flr3_Building_1_5569bbdd_Floor1_Room1..Face1_Glz4\n",
      "Flr3_Building_1_5569bbdd_Floor1_Room1..Face1_Glz5\n",
      "Flr3_Building_1_5569bbdd_Floor1_Room1..Face1_Glz6\n",
      "Flr3_Building_1_5569bbdd_Floor1_Room1..Face2_Glz0\n",
      "Flr3_Building_1_5569bbdd_Floor1_Room1..Face2_Glz1\n",
      "Flr3_Building_1_5569bbdd_Floor1_Room1..Face2_Glz2\n",
      "Flr3_Building_1_5569bbdd_Floor1_Room1..Face3_Glz0\n",
      "Flr3_Building_1_5569bbdd_Floor1_Room1..Face3_Glz1\n",
      "Flr3_Building_1_5569bbdd_Floor1_Room1..Face3_Glz2\n",
      "Flr3_Building_1_5569bbdd_Floor1_Room1..Face3_Glz3\n",
      "Flr3_Building_1_5569bbdd_Floor1_Room1..Face3_Glz4\n",
      "Flr3_Building_1_5569bbdd_Floor1_Room1..Face3_Glz5\n",
      "Flr3_Building_1_5569bbdd_Floor1_Room1..Face3_Glz6\n",
      "Flr3_Building_1_5569bbdd_Floor1_Room1..Face4_Glz0\n",
      "Flr3_Building_1_5569bbdd_Floor1_Room1..Face4_Glz1\n",
      "Flr3_Building_1_5569bbdd_Floor1_Room1..Face4_Glz2\n",
      "Flr4_Building_1_5569bbdd_Floor1_Room1..Face1_Glz0\n",
      "Flr4_Building_1_5569bbdd_Floor1_Room1..Face1_Glz1\n",
      "Flr4_Building_1_5569bbdd_Floor1_Room1..Face1_Glz2\n",
      "Flr4_Building_1_5569bbdd_Floor1_Room1..Face1_Glz3\n",
      "Flr4_Building_1_5569bbdd_Floor1_Room1..Face1_Glz4\n",
      "Flr4_Building_1_5569bbdd_Floor1_Room1..Face1_Glz5\n",
      "Flr4_Building_1_5569bbdd_Floor1_Room1..Face1_Glz6\n",
      "Flr4_Building_1_5569bbdd_Floor1_Room1..Face2_Glz0\n",
      "Flr4_Building_1_5569bbdd_Floor1_Room1..Face2_Glz1\n",
      "Flr4_Building_1_5569bbdd_Floor1_Room1..Face2_Glz2\n",
      "Flr4_Building_1_5569bbdd_Floor1_Room1..Face3_Glz0\n",
      "Flr4_Building_1_5569bbdd_Floor1_Room1..Face3_Glz1\n",
      "Flr4_Building_1_5569bbdd_Floor1_Room1..Face3_Glz2\n",
      "Flr4_Building_1_5569bbdd_Floor1_Room1..Face3_Glz3\n",
      "Flr4_Building_1_5569bbdd_Floor1_Room1..Face3_Glz4\n",
      "Flr4_Building_1_5569bbdd_Floor1_Room1..Face3_Glz5\n",
      "Flr4_Building_1_5569bbdd_Floor1_Room1..Face3_Glz6\n",
      "Flr4_Building_1_5569bbdd_Floor1_Room1..Face4_Glz0\n",
      "Flr4_Building_1_5569bbdd_Floor1_Room1..Face4_Glz1\n",
      "Flr4_Building_1_5569bbdd_Floor1_Room1..Face4_Glz2\n",
      "Flr5_Building_1_5569bbdd_Floor1_Room1..Face1_Glz0\n",
      "Flr5_Building_1_5569bbdd_Floor1_Room1..Face1_Glz1\n",
      "Flr5_Building_1_5569bbdd_Floor1_Room1..Face1_Glz2\n",
      "Flr5_Building_1_5569bbdd_Floor1_Room1..Face1_Glz3\n",
      "Flr5_Building_1_5569bbdd_Floor1_Room1..Face1_Glz4\n",
      "Flr5_Building_1_5569bbdd_Floor1_Room1..Face1_Glz5\n",
      "Flr5_Building_1_5569bbdd_Floor1_Room1..Face1_Glz6\n",
      "Flr5_Building_1_5569bbdd_Floor1_Room1..Face2_Glz0\n",
      "Flr5_Building_1_5569bbdd_Floor1_Room1..Face2_Glz1\n",
      "Flr5_Building_1_5569bbdd_Floor1_Room1..Face2_Glz2\n",
      "Flr5_Building_1_5569bbdd_Floor1_Room1..Face3_Glz0\n",
      "Flr5_Building_1_5569bbdd_Floor1_Room1..Face3_Glz1\n",
      "Flr5_Building_1_5569bbdd_Floor1_Room1..Face3_Glz2\n",
      "Flr5_Building_1_5569bbdd_Floor1_Room1..Face3_Glz3\n",
      "Flr5_Building_1_5569bbdd_Floor1_Room1..Face3_Glz4\n",
      "Flr5_Building_1_5569bbdd_Floor1_Room1..Face3_Glz5\n",
      "Flr5_Building_1_5569bbdd_Floor1_Room1..Face3_Glz6\n",
      "Flr5_Building_1_5569bbdd_Floor1_Room1..Face4_Glz0\n",
      "Flr5_Building_1_5569bbdd_Floor1_Room1..Face4_Glz1\n",
      "Flr5_Building_1_5569bbdd_Floor1_Room1..Face4_Glz2\n"
     ]
    }
   ],
   "source": [
    "for surface in windows_per_building[\"Building_1\"]:\n",
    "    print(surface[\"Name\"]) #Test"
   ]
  },
  {
   "cell_type": "markdown",
   "id": "2d2e4415",
   "metadata": {},
   "source": [
    "The energy output from the IDF comes in J, which is a hard number to read. However we can create a function that converts J to kWh/m2 based on the floor area of our building."
   ]
  },
  {
   "cell_type": "code",
   "execution_count": 56,
   "id": "9369fe59",
   "metadata": {},
   "outputs": [],
   "source": [
    "full_area = []\n",
    "for opaque_surface in opaque_surfaces:\n",
    "        if opaque_surface[\"Surface_Type\"] == \"Floor\":\n",
    "            full_area = np.append(full_area, opaque_surface.area)"
   ]
  },
  {
   "cell_type": "code",
   "execution_count": 57,
   "id": "131d35a2",
   "metadata": {},
   "outputs": [
    {
     "data": {
      "text/plain": [
       "9327.722380807567"
      ]
     },
     "execution_count": 57,
     "metadata": {},
     "output_type": "execute_result"
    }
   ],
   "source": [
    "full_area.sum()"
   ]
  },
  {
   "cell_type": "code",
   "execution_count": 58,
   "id": "89f11650",
   "metadata": {},
   "outputs": [],
   "source": [
    "def convert_to_kwh(joules):\n",
    "    return joules/(3600 * 1000)"
   ]
  },
  {
   "cell_type": "code",
   "execution_count": 59,
   "id": "e45343d0",
   "metadata": {},
   "outputs": [],
   "source": [
    "def convert_to_kwh_m2(joules, area):\n",
    "    return joules/(3600 * 1000 * area)"
   ]
  },
  {
   "cell_type": "code",
   "execution_count": 60,
   "id": "e902cb5e",
   "metadata": {},
   "outputs": [
    {
     "data": {
      "text/plain": [
       "array([34.34625771])"
      ]
     },
     "execution_count": 60,
     "metadata": {},
     "output_type": "execute_result"
    }
   ],
   "source": [
    "convert_to_kwh_m2(total_energy, full_area.sum())"
   ]
  },
  {
   "cell_type": "markdown",
   "id": "6a7556f0",
   "metadata": {},
   "source": [
    "# Setting  Optimization Function with eppy"
   ]
  },
  {
   "cell_type": "markdown",
   "id": "6644d764",
   "metadata": {},
   "source": [
    "We need to write a function that receives a set with the length of the total number of surface types that vary construction solutions for each building, and returns the total energy consumption of the 6 buildings, construction cost, and standard deviation (to improve fariness of eprformance among buildings). "
   ]
  },
  {
   "cell_type": "markdown",
   "id": "02a81932",
   "metadata": {},
   "source": [
    "If we deconstruct our problem - Each building can have 1 out of 3 surface type constructions - 3 exterior walls, 3 roofs, 3 floors, and 3 windows. So, we have $n$ buildings, each with 3 possible surface types, and each surface type can have 3 possible constructions. We want to find the best combination of constructions for each building's surface type. Thus, our decision variables are $x \\in [x_{0}, ..., x_{n}, ..., x_{n*2}, ..., x_{n*3}, ..., x_{n*4}]$ with $n*4$ decision variables, 4 for each building. <p>\n"
   ]
  },
  {
   "cell_type": "code",
   "execution_count": 61,
   "id": "4c00592b",
   "metadata": {},
   "outputs": [],
   "source": [
    "import time\n",
    "def opt_output(xs):\n",
    "    startTime = time.time()\n",
    "    cost = []\n",
    "    column_names = []\n",
    "    x1 = []\n",
    "    area = full_area.sum()\n",
    "    for x in xs:\n",
    "        x1 = np.append(x1, round(x))\n",
    "    x = x1.astype(\"int\")\n",
    "    for i, kind in enumerate(x):\n",
    "        if i < len(buildings_str):\n",
    "            for wall in walls_per_building[\"Building_\" + str(1 + i)]:\n",
    "                wall[\"Construction_Name\"] = \"EXT_WALL\" + str(kind)\n",
    "                cost = np.append(cost, wall_costs[kind]*wall.area)\n",
    "                #print(wall[\"Construction_Name\"])\n",
    "            column_names = np.append(column_names, \"walls_Building_\" + str(1 + i))\n",
    "            \n",
    "        elif i < len(buildings_str)*2:\n",
    "            for roof in roofs_per_building[\"Building_\" + str(1 + i - len(buildings_str))]:\n",
    "                roof[\"Construction_Name\"] = \"roof_\" + str(kind)\n",
    "                cost = np.append(cost, roof_costs[kind]*roof.area)\n",
    "                #print(roof[\"Construction_Name\"])\n",
    "            column_names = np.append(column_names, \"roofs_Building_\" + str(1 + i - len(buildings_str)))\n",
    "            \n",
    "        elif i < len(buildings_str)*3:\n",
    "            for floor, ceiling in zip(floors_per_building[\"Building_\" + str(1 + i - len(buildings_str)*2)], \n",
    "                                      ceilings_per_building[\"Building_\" + str(1 + i - len(buildings_str)*2)]):\n",
    "                floor[\"Construction_Name\"] = \"floor_\" + str(kind)\n",
    "                ceiling[\"Construction_Name\"] = \"ceiling_\" + str(kind)\n",
    "                cost = np.append(cost, floor_costs[kind]*floor.area)\n",
    "                #print(floor[\"Construction_Name\"])\n",
    "            column_names = np.append(column_names, \"floors_Building_\" + str(1 + i - len(buildings_str)*2))\n",
    "            \n",
    "        elif i < len(buildings_str)*4:\n",
    "            for window in windows_per_building[\"Building_\" + str(1 + i - len(buildings_str)*3)]:\n",
    "                window[\"Construction_Name\"] = \"window_\" + str(kind)\n",
    "                cost = np.append(cost, window_costs[kind]*window.area)\n",
    "                #print(window[\"Construction_Name\"])\n",
    "            column_names = np.append(column_names, \"windows_Building_\" + str(1 + i - len(buildings_str)*3))\n",
    "            \n",
    "\n",
    "    #Running the IDF and obtain inputs\n",
    "\n",
    "    idf1.run() #run new idf\n",
    "    eso = esoreader.read_from_path(r\"C:\\Users\\GRA\\OneDrive - Universidade de Lisboa\\Desktop\\IN+\\C-Tech\\EPPY\\EPPY_Class\\eplusout.eso\")#Read result file\n",
    "    data = pd.DataFrame(eso.data) #convert dict to dataframe\n",
    "    data.columns = [eso.dd.variables[i][2] for i in data.columns]#set the column names from dict\n",
    "    \n",
    "    heating = []\n",
    "    for i in enumerate(data.T.index):\n",
    "        if \"Heating\" in i[1]:\n",
    "            heating.append(data.T.iloc[i[0]].values)\n",
    "    \n",
    "    cooling = []\n",
    "    for i in enumerate(data.T.index):\n",
    "        if \"Cooling\" in i[1]:\n",
    "            cooling.append(data.T.iloc[i[0]].values)\n",
    "    \n",
    "    results = pd.DataFrame([heating, cooling]).T\n",
    "    loads = results[0] + results[1]        \n",
    "    energy = convert_to_kwh_m2(loads.sum(), area) #Retrieve Annual heating energy and converts the total sum to Euro\n",
    "    std = np.std(convert_to_kwh_m2(loads, area))\n",
    "    executionTime = time.time() - startTime #finish counting computing time\n",
    "    df = pd.DataFrame(np.hstack([executionTime, x, energy, std, np.sum(cost)])).T\n",
    "    df.columns = np.hstack((\"time\", column_names, \"energy (€)\", \"standard deviation (kWh)\", \"cost (€)\"))\n",
    "    #df\n",
    "    df.to_csv(fname, mode='a', index=False, header=False) #write_to_file\n",
    "    return [energy, std, np.sum(cost)]\n"
   ]
  },
  {
   "cell_type": "code",
   "execution_count": 62,
   "id": "ae568a5a",
   "metadata": {},
   "outputs": [],
   "source": [
    "import datetime\n",
    "def time_str():\n",
    "    now = datetime.datetime.now()\n",
    "    now_str = str(now.year) + \"_\" + str(now.month) + \"_\" + str(now.day) + \"_\" + str(now.hour) + \"_\" + str(now.minute)\n",
    "    return now_str"
   ]
  },
  {
   "cell_type": "code",
   "execution_count": null,
   "id": "319d1f98",
   "metadata": {},
   "outputs": [],
   "source": [
    "fname = \"test\" + time_str() + \".csv\""
   ]
  },
  {
   "cell_type": "code",
   "execution_count": null,
   "id": "7f70bfd5",
   "metadata": {},
   "outputs": [],
   "source": [
    "opt_output(np.repeat(0, 24))"
   ]
  },
  {
   "cell_type": "markdown",
   "id": "4f1cc1b7",
   "metadata": {},
   "source": [
    "# Setting Model Based problem"
   ]
  },
  {
   "cell_type": "code",
   "execution_count": 63,
   "id": "ad4a2e51",
   "metadata": {},
   "outputs": [],
   "source": [
    "from platypus import NSGAII, Problem, Integer, Hypervolume, Real\n",
    "\n",
    "nvars = len(buildings_str)*4\n",
    "\n",
    "problem_types = []\n",
    "for i in range(nvars):\n",
    "    problem_types = np.append(problem_types, Real(0, 2))"
   ]
  },
  {
   "cell_type": "code",
   "execution_count": 64,
   "id": "a2d96f59",
   "metadata": {
    "scrolled": true
   },
   "outputs": [
    {
     "data": {
      "text/plain": [
       "array([<platypus.types.Real object at 0x0000018CDBA70280>,\n",
       "       <platypus.types.Real object at 0x0000018CDBA702B0>,\n",
       "       <platypus.types.Real object at 0x0000018CDBA70460>,\n",
       "       <platypus.types.Real object at 0x0000018CDBA48CA0>,\n",
       "       <platypus.types.Real object at 0x0000018CDBA48610>,\n",
       "       <platypus.types.Real object at 0x0000018CDBAC0CD0>,\n",
       "       <platypus.types.Real object at 0x0000018CDBAC0F40>,\n",
       "       <platypus.types.Real object at 0x0000018CDBAC9F10>,\n",
       "       <platypus.types.Real object at 0x0000018CDBAD0250>,\n",
       "       <platypus.types.Real object at 0x0000018CDBAD04F0>,\n",
       "       <platypus.types.Real object at 0x0000018CDBAD0790>,\n",
       "       <platypus.types.Real object at 0x0000018CDBAD0A30>,\n",
       "       <platypus.types.Real object at 0x0000018CDBAD0C10>,\n",
       "       <platypus.types.Real object at 0x0000018CDBAD0D30>,\n",
       "       <platypus.types.Real object at 0x0000018CDBAD0E50>,\n",
       "       <platypus.types.Real object at 0x0000018CDBAD0F70>,\n",
       "       <platypus.types.Real object at 0x0000018CDBAD80D0>,\n",
       "       <platypus.types.Real object at 0x0000018CDBAD83A0>,\n",
       "       <platypus.types.Real object at 0x0000018CDBAD84C0>,\n",
       "       <platypus.types.Real object at 0x0000018CDBAD85E0>,\n",
       "       <platypus.types.Real object at 0x0000018CDBAD8700>,\n",
       "       <platypus.types.Real object at 0x0000018CDBAD8820>,\n",
       "       <platypus.types.Real object at 0x0000018CDBAD8940>,\n",
       "       <platypus.types.Real object at 0x0000018CDBAD8A30>], dtype=object)"
      ]
     },
     "execution_count": 64,
     "metadata": {},
     "output_type": "execute_result"
    }
   ],
   "source": [
    "problem_types"
   ]
  },
  {
   "cell_type": "code",
   "execution_count": 65,
   "id": "0adc5a3d",
   "metadata": {},
   "outputs": [],
   "source": [
    "from platypus.operators import PM, CompoundOperator, SBX"
   ]
  },
  {
   "cell_type": "code",
   "execution_count": 66,
   "id": "918bd842",
   "metadata": {},
   "outputs": [],
   "source": [
    "operators = CompoundOperator(SBX(),PM())"
   ]
  },
  {
   "cell_type": "code",
   "execution_count": 67,
   "id": "9b269be2",
   "metadata": {},
   "outputs": [
    {
     "data": {
      "text/plain": [
       "24"
      ]
     },
     "execution_count": 67,
     "metadata": {},
     "output_type": "execute_result"
    }
   ],
   "source": [
    "nvars"
   ]
  },
  {
   "cell_type": "markdown",
   "id": "e9277ddb",
   "metadata": {},
   "source": [
    "# Running Model-Based Optimization with NSGAII"
   ]
  },
  {
   "cell_type": "code",
   "execution_count": null,
   "id": "a1d81ea1",
   "metadata": {},
   "outputs": [],
   "source": [
    "#\"NSGA2022_6_13_11_44.csv\""
   ]
  },
  {
   "cell_type": "code",
   "execution_count": null,
   "id": "a2d42210",
   "metadata": {
    "scrolled": true
   },
   "outputs": [],
   "source": [
    "n_evals = 500\n",
    "problem = Problem(nvars, 3)\n",
    "problem.types[:] = problem_types\n",
    "problem.function = opt_output\n",
    "\n",
    "fname = \"NSGA\" + time_str() + '.csv'\n",
    "\n",
    "with open(fname, 'a') as my_new_csv_file:\n",
    "    algorithm = NSGAII(problem,\n",
    "                       population_size= 500,\n",
    "                       variator = operators)\n",
    "    algorithm.run(n_evals)"
   ]
  },
  {
   "cell_type": "code",
   "execution_count": null,
   "id": "48e56786",
   "metadata": {},
   "outputs": [],
   "source": [
    "x = [s.objectives[0] for s in algorithm.result]\n",
    "y = [s.objectives[1] for s in algorithm.result]\n",
    "z = [s.objectives[2] for s in algorithm.result]\n",
    "\n",
    "df_NSGAIII = pd.DataFrame([x, y, z]).transpose()\n",
    "df_NSGAIII.columns = [\"heating & cooling\", \"std\", \"total cost €\"]"
   ]
  },
  {
   "cell_type": "code",
   "execution_count": null,
   "id": "b77325a7",
   "metadata": {},
   "outputs": [],
   "source": []
  },
  {
   "cell_type": "code",
   "execution_count": null,
   "id": "9fd83227",
   "metadata": {
    "scrolled": true
   },
   "outputs": [],
   "source": [
    "hyp = Hypervolume(minimum=[30, \n",
    "                           0.25,\n",
    "                           400000],\n",
    "                  maximum=[61, \n",
    "                           0.5,\n",
    "                           900000])"
   ]
  },
  {
   "cell_type": "code",
   "execution_count": null,
   "id": "e9ac8d16",
   "metadata": {},
   "outputs": [],
   "source": [
    "hyp.calculate(algorithm.result)"
   ]
  },
  {
   "cell_type": "markdown",
   "id": "eaf34f70",
   "metadata": {},
   "source": [
    "# Read Results \n",
    "    "
   ]
  },
  {
   "cell_type": "code",
   "execution_count": 68,
   "id": "28f68663",
   "metadata": {},
   "outputs": [],
   "source": [
    "x2 = np.repeat(2, 24)#maximum costs result\n",
    "x1 = np.repeat(1, 24)#medium expensive result\n",
    "x0 = np.repeat(0, 24)# least expensive result"
   ]
  },
  {
   "cell_type": "code",
   "execution_count": 69,
   "id": "db9cd840",
   "metadata": {},
   "outputs": [],
   "source": [
    "fname = \"NSGA2022_6_13_11_44.csv\""
   ]
  },
  {
   "cell_type": "code",
   "execution_count": 70,
   "id": "9407638d",
   "metadata": {
    "scrolled": true
   },
   "outputs": [],
   "source": [
    "surr = pd.read_csv(fname, header=None).drop(0, axis=1)"
   ]
  },
  {
   "cell_type": "markdown",
   "id": "d8f484b9",
   "metadata": {},
   "source": [
    "# Build Surrogate CNN"
   ]
  },
  {
   "cell_type": "code",
   "execution_count": 71,
   "id": "b266dd47",
   "metadata": {},
   "outputs": [
    {
     "data": {
      "text/html": [
       "<div>\n",
       "<style scoped>\n",
       "    .dataframe tbody tr th:only-of-type {\n",
       "        vertical-align: middle;\n",
       "    }\n",
       "\n",
       "    .dataframe tbody tr th {\n",
       "        vertical-align: top;\n",
       "    }\n",
       "\n",
       "    .dataframe thead th {\n",
       "        text-align: right;\n",
       "    }\n",
       "</style>\n",
       "<table border=\"1\" class=\"dataframe\">\n",
       "  <thead>\n",
       "    <tr style=\"text-align: right;\">\n",
       "      <th></th>\n",
       "      <th>1</th>\n",
       "      <th>2</th>\n",
       "      <th>3</th>\n",
       "      <th>4</th>\n",
       "      <th>5</th>\n",
       "      <th>6</th>\n",
       "      <th>7</th>\n",
       "      <th>8</th>\n",
       "      <th>9</th>\n",
       "      <th>10</th>\n",
       "      <th>...</th>\n",
       "      <th>18</th>\n",
       "      <th>19</th>\n",
       "      <th>20</th>\n",
       "      <th>21</th>\n",
       "      <th>22</th>\n",
       "      <th>23</th>\n",
       "      <th>24</th>\n",
       "      <th>25</th>\n",
       "      <th>26</th>\n",
       "      <th>27</th>\n",
       "    </tr>\n",
       "  </thead>\n",
       "  <tbody>\n",
       "    <tr>\n",
       "      <th>0</th>\n",
       "      <td>0.0</td>\n",
       "      <td>1.0</td>\n",
       "      <td>2.0</td>\n",
       "      <td>0.0</td>\n",
       "      <td>1.0</td>\n",
       "      <td>2.0</td>\n",
       "      <td>1.0</td>\n",
       "      <td>2.0</td>\n",
       "      <td>1.0</td>\n",
       "      <td>0.0</td>\n",
       "      <td>...</td>\n",
       "      <td>2.0</td>\n",
       "      <td>2.0</td>\n",
       "      <td>1.0</td>\n",
       "      <td>1.0</td>\n",
       "      <td>1.0</td>\n",
       "      <td>1.0</td>\n",
       "      <td>0.0</td>\n",
       "      <td>47.156448</td>\n",
       "      <td>0.382304</td>\n",
       "      <td>693921.708215</td>\n",
       "    </tr>\n",
       "    <tr>\n",
       "      <th>1</th>\n",
       "      <td>1.0</td>\n",
       "      <td>2.0</td>\n",
       "      <td>2.0</td>\n",
       "      <td>2.0</td>\n",
       "      <td>2.0</td>\n",
       "      <td>1.0</td>\n",
       "      <td>2.0</td>\n",
       "      <td>1.0</td>\n",
       "      <td>2.0</td>\n",
       "      <td>1.0</td>\n",
       "      <td>...</td>\n",
       "      <td>2.0</td>\n",
       "      <td>1.0</td>\n",
       "      <td>1.0</td>\n",
       "      <td>0.0</td>\n",
       "      <td>2.0</td>\n",
       "      <td>1.0</td>\n",
       "      <td>1.0</td>\n",
       "      <td>44.535422</td>\n",
       "      <td>0.359508</td>\n",
       "      <td>719523.008035</td>\n",
       "    </tr>\n",
       "    <tr>\n",
       "      <th>2</th>\n",
       "      <td>1.0</td>\n",
       "      <td>1.0</td>\n",
       "      <td>2.0</td>\n",
       "      <td>1.0</td>\n",
       "      <td>1.0</td>\n",
       "      <td>1.0</td>\n",
       "      <td>1.0</td>\n",
       "      <td>1.0</td>\n",
       "      <td>0.0</td>\n",
       "      <td>1.0</td>\n",
       "      <td>...</td>\n",
       "      <td>0.0</td>\n",
       "      <td>0.0</td>\n",
       "      <td>1.0</td>\n",
       "      <td>2.0</td>\n",
       "      <td>2.0</td>\n",
       "      <td>1.0</td>\n",
       "      <td>1.0</td>\n",
       "      <td>47.013214</td>\n",
       "      <td>0.394850</td>\n",
       "      <td>610967.914117</td>\n",
       "    </tr>\n",
       "    <tr>\n",
       "      <th>3</th>\n",
       "      <td>1.0</td>\n",
       "      <td>1.0</td>\n",
       "      <td>0.0</td>\n",
       "      <td>0.0</td>\n",
       "      <td>0.0</td>\n",
       "      <td>0.0</td>\n",
       "      <td>1.0</td>\n",
       "      <td>1.0</td>\n",
       "      <td>1.0</td>\n",
       "      <td>0.0</td>\n",
       "      <td>...</td>\n",
       "      <td>0.0</td>\n",
       "      <td>2.0</td>\n",
       "      <td>1.0</td>\n",
       "      <td>1.0</td>\n",
       "      <td>2.0</td>\n",
       "      <td>1.0</td>\n",
       "      <td>2.0</td>\n",
       "      <td>44.253767</td>\n",
       "      <td>0.330932</td>\n",
       "      <td>582717.970231</td>\n",
       "    </tr>\n",
       "    <tr>\n",
       "      <th>4</th>\n",
       "      <td>1.0</td>\n",
       "      <td>2.0</td>\n",
       "      <td>2.0</td>\n",
       "      <td>0.0</td>\n",
       "      <td>2.0</td>\n",
       "      <td>2.0</td>\n",
       "      <td>0.0</td>\n",
       "      <td>0.0</td>\n",
       "      <td>0.0</td>\n",
       "      <td>1.0</td>\n",
       "      <td>...</td>\n",
       "      <td>2.0</td>\n",
       "      <td>1.0</td>\n",
       "      <td>0.0</td>\n",
       "      <td>2.0</td>\n",
       "      <td>2.0</td>\n",
       "      <td>1.0</td>\n",
       "      <td>0.0</td>\n",
       "      <td>46.460667</td>\n",
       "      <td>0.404142</td>\n",
       "      <td>729794.862402</td>\n",
       "    </tr>\n",
       "    <tr>\n",
       "      <th>...</th>\n",
       "      <td>...</td>\n",
       "      <td>...</td>\n",
       "      <td>...</td>\n",
       "      <td>...</td>\n",
       "      <td>...</td>\n",
       "      <td>...</td>\n",
       "      <td>...</td>\n",
       "      <td>...</td>\n",
       "      <td>...</td>\n",
       "      <td>...</td>\n",
       "      <td>...</td>\n",
       "      <td>...</td>\n",
       "      <td>...</td>\n",
       "      <td>...</td>\n",
       "      <td>...</td>\n",
       "      <td>...</td>\n",
       "      <td>...</td>\n",
       "      <td>...</td>\n",
       "      <td>...</td>\n",
       "      <td>...</td>\n",
       "      <td>...</td>\n",
       "    </tr>\n",
       "    <tr>\n",
       "      <th>995</th>\n",
       "      <td>1.0</td>\n",
       "      <td>2.0</td>\n",
       "      <td>0.0</td>\n",
       "      <td>0.0</td>\n",
       "      <td>2.0</td>\n",
       "      <td>1.0</td>\n",
       "      <td>2.0</td>\n",
       "      <td>1.0</td>\n",
       "      <td>0.0</td>\n",
       "      <td>1.0</td>\n",
       "      <td>...</td>\n",
       "      <td>1.0</td>\n",
       "      <td>2.0</td>\n",
       "      <td>1.0</td>\n",
       "      <td>1.0</td>\n",
       "      <td>0.0</td>\n",
       "      <td>0.0</td>\n",
       "      <td>2.0</td>\n",
       "      <td>48.123596</td>\n",
       "      <td>0.457785</td>\n",
       "      <td>651734.918011</td>\n",
       "    </tr>\n",
       "    <tr>\n",
       "      <th>996</th>\n",
       "      <td>1.0</td>\n",
       "      <td>1.0</td>\n",
       "      <td>1.0</td>\n",
       "      <td>0.0</td>\n",
       "      <td>2.0</td>\n",
       "      <td>2.0</td>\n",
       "      <td>1.0</td>\n",
       "      <td>1.0</td>\n",
       "      <td>2.0</td>\n",
       "      <td>1.0</td>\n",
       "      <td>...</td>\n",
       "      <td>0.0</td>\n",
       "      <td>1.0</td>\n",
       "      <td>1.0</td>\n",
       "      <td>1.0</td>\n",
       "      <td>1.0</td>\n",
       "      <td>2.0</td>\n",
       "      <td>1.0</td>\n",
       "      <td>43.736135</td>\n",
       "      <td>0.307297</td>\n",
       "      <td>625436.740544</td>\n",
       "    </tr>\n",
       "    <tr>\n",
       "      <th>997</th>\n",
       "      <td>0.0</td>\n",
       "      <td>2.0</td>\n",
       "      <td>1.0</td>\n",
       "      <td>2.0</td>\n",
       "      <td>1.0</td>\n",
       "      <td>2.0</td>\n",
       "      <td>1.0</td>\n",
       "      <td>1.0</td>\n",
       "      <td>1.0</td>\n",
       "      <td>1.0</td>\n",
       "      <td>...</td>\n",
       "      <td>1.0</td>\n",
       "      <td>1.0</td>\n",
       "      <td>1.0</td>\n",
       "      <td>0.0</td>\n",
       "      <td>0.0</td>\n",
       "      <td>2.0</td>\n",
       "      <td>2.0</td>\n",
       "      <td>43.189069</td>\n",
       "      <td>0.363063</td>\n",
       "      <td>665578.028957</td>\n",
       "    </tr>\n",
       "    <tr>\n",
       "      <th>998</th>\n",
       "      <td>0.0</td>\n",
       "      <td>2.0</td>\n",
       "      <td>0.0</td>\n",
       "      <td>0.0</td>\n",
       "      <td>1.0</td>\n",
       "      <td>0.0</td>\n",
       "      <td>1.0</td>\n",
       "      <td>1.0</td>\n",
       "      <td>1.0</td>\n",
       "      <td>1.0</td>\n",
       "      <td>...</td>\n",
       "      <td>0.0</td>\n",
       "      <td>0.0</td>\n",
       "      <td>2.0</td>\n",
       "      <td>1.0</td>\n",
       "      <td>2.0</td>\n",
       "      <td>1.0</td>\n",
       "      <td>1.0</td>\n",
       "      <td>45.206661</td>\n",
       "      <td>0.313691</td>\n",
       "      <td>587079.432543</td>\n",
       "    </tr>\n",
       "    <tr>\n",
       "      <th>999</th>\n",
       "      <td>1.0</td>\n",
       "      <td>1.0</td>\n",
       "      <td>1.0</td>\n",
       "      <td>2.0</td>\n",
       "      <td>1.0</td>\n",
       "      <td>1.0</td>\n",
       "      <td>0.0</td>\n",
       "      <td>1.0</td>\n",
       "      <td>1.0</td>\n",
       "      <td>1.0</td>\n",
       "      <td>...</td>\n",
       "      <td>1.0</td>\n",
       "      <td>1.0</td>\n",
       "      <td>2.0</td>\n",
       "      <td>0.0</td>\n",
       "      <td>1.0</td>\n",
       "      <td>1.0</td>\n",
       "      <td>1.0</td>\n",
       "      <td>47.280586</td>\n",
       "      <td>0.359296</td>\n",
       "      <td>608102.234478</td>\n",
       "    </tr>\n",
       "  </tbody>\n",
       "</table>\n",
       "<p>1000 rows × 27 columns</p>\n",
       "</div>"
      ],
      "text/plain": [
       "      1    2    3    4    5    6    7    8    9    10  ...   18   19   20  \\\n",
       "0    0.0  1.0  2.0  0.0  1.0  2.0  1.0  2.0  1.0  0.0  ...  2.0  2.0  1.0   \n",
       "1    1.0  2.0  2.0  2.0  2.0  1.0  2.0  1.0  2.0  1.0  ...  2.0  1.0  1.0   \n",
       "2    1.0  1.0  2.0  1.0  1.0  1.0  1.0  1.0  0.0  1.0  ...  0.0  0.0  1.0   \n",
       "3    1.0  1.0  0.0  0.0  0.0  0.0  1.0  1.0  1.0  0.0  ...  0.0  2.0  1.0   \n",
       "4    1.0  2.0  2.0  0.0  2.0  2.0  0.0  0.0  0.0  1.0  ...  2.0  1.0  0.0   \n",
       "..   ...  ...  ...  ...  ...  ...  ...  ...  ...  ...  ...  ...  ...  ...   \n",
       "995  1.0  2.0  0.0  0.0  2.0  1.0  2.0  1.0  0.0  1.0  ...  1.0  2.0  1.0   \n",
       "996  1.0  1.0  1.0  0.0  2.0  2.0  1.0  1.0  2.0  1.0  ...  0.0  1.0  1.0   \n",
       "997  0.0  2.0  1.0  2.0  1.0  2.0  1.0  1.0  1.0  1.0  ...  1.0  1.0  1.0   \n",
       "998  0.0  2.0  0.0  0.0  1.0  0.0  1.0  1.0  1.0  1.0  ...  0.0  0.0  2.0   \n",
       "999  1.0  1.0  1.0  2.0  1.0  1.0  0.0  1.0  1.0  1.0  ...  1.0  1.0  2.0   \n",
       "\n",
       "      21   22   23   24         25        26             27  \n",
       "0    1.0  1.0  1.0  0.0  47.156448  0.382304  693921.708215  \n",
       "1    0.0  2.0  1.0  1.0  44.535422  0.359508  719523.008035  \n",
       "2    2.0  2.0  1.0  1.0  47.013214  0.394850  610967.914117  \n",
       "3    1.0  2.0  1.0  2.0  44.253767  0.330932  582717.970231  \n",
       "4    2.0  2.0  1.0  0.0  46.460667  0.404142  729794.862402  \n",
       "..   ...  ...  ...  ...        ...       ...            ...  \n",
       "995  1.0  0.0  0.0  2.0  48.123596  0.457785  651734.918011  \n",
       "996  1.0  1.0  2.0  1.0  43.736135  0.307297  625436.740544  \n",
       "997  0.0  0.0  2.0  2.0  43.189069  0.363063  665578.028957  \n",
       "998  1.0  2.0  1.0  1.0  45.206661  0.313691  587079.432543  \n",
       "999  0.0  1.0  1.0  1.0  47.280586  0.359296  608102.234478  \n",
       "\n",
       "[1000 rows x 27 columns]"
      ]
     },
     "execution_count": 71,
     "metadata": {},
     "output_type": "execute_result"
    }
   ],
   "source": [
    "surr"
   ]
  },
  {
   "cell_type": "code",
   "execution_count": 72,
   "id": "5dc08ad3",
   "metadata": {},
   "outputs": [],
   "source": [
    "X = surr.drop([25, 26, 27], axis=1)"
   ]
  },
  {
   "cell_type": "code",
   "execution_count": 73,
   "id": "38ba5018",
   "metadata": {},
   "outputs": [],
   "source": [
    "y1 = surr[25]"
   ]
  },
  {
   "cell_type": "code",
   "execution_count": 74,
   "id": "23366749",
   "metadata": {},
   "outputs": [],
   "source": [
    "y2 = surr[26]"
   ]
  },
  {
   "cell_type": "code",
   "execution_count": 75,
   "id": "84267ef0",
   "metadata": {},
   "outputs": [
    {
     "data": {
      "text/plain": [
       "(1000, 24)"
      ]
     },
     "execution_count": 75,
     "metadata": {},
     "output_type": "execute_result"
    }
   ],
   "source": [
    "X.values.shape"
   ]
  },
  {
   "cell_type": "code",
   "execution_count": 76,
   "id": "ad8e7448",
   "metadata": {},
   "outputs": [],
   "source": [
    "X = X.values.reshape(1000, 4, 6)"
   ]
  },
  {
   "cell_type": "code",
   "execution_count": 77,
   "id": "37c80430",
   "metadata": {},
   "outputs": [
    {
     "data": {
      "text/plain": [
       "(1000, 4, 6)"
      ]
     },
     "execution_count": 77,
     "metadata": {},
     "output_type": "execute_result"
    }
   ],
   "source": [
    "X.shape"
   ]
  },
  {
   "cell_type": "markdown",
   "id": "b805dc67",
   "metadata": {},
   "source": [
    "# Build CNN for energy prediction"
   ]
  },
  {
   "cell_type": "markdown",
   "id": "a510861f",
   "metadata": {},
   "source": [
    "We build a 1 dimensional convolutional neural network with 4 convolutional layers with different nodes. We train the model, and compare the results with 100 random simulated samples. We measure the surrogate model R2 score and RMSE."
   ]
  },
  {
   "cell_type": "code",
   "execution_count": 78,
   "id": "3f6a91ac",
   "metadata": {},
   "outputs": [],
   "source": [
    "from sklearn.metrics import r2_score, mean_squared_error\n"
   ]
  },
  {
   "cell_type": "code",
   "execution_count": 79,
   "id": "3016db13",
   "metadata": {},
   "outputs": [
    {
     "name": "stdout",
     "output_type": "stream",
     "text": [
      "Couldn't import dot_parser, loading of dot files will not be possible.\n"
     ]
    }
   ],
   "source": [
    "from sklearn.model_selection import train_test_split\n",
    "from tensorflow.keras.models import Model, Sequential\n",
    "from tensorflow.keras.layers import Dense, Dropout, LSTM, Conv1D\n",
    "from tensorflow.keras.utils import set_random_seed\n",
    "import tensorflow as tf\n",
    "import random"
   ]
  },
  {
   "cell_type": "code",
   "execution_count": 80,
   "id": "c4ec2ffb",
   "metadata": {},
   "outputs": [],
   "source": [
    "np.random.seed(1)\n",
    "random.seed(1)\n",
    "set_random_seed(1)"
   ]
  },
  {
   "cell_type": "code",
   "execution_count": 81,
   "id": "7e62eb81",
   "metadata": {},
   "outputs": [],
   "source": [
    "X_train, X_test, y_train, y_test = train_test_split(X, y1, test_size=0.33)"
   ]
  },
  {
   "cell_type": "code",
   "execution_count": 82,
   "id": "daa26375",
   "metadata": {},
   "outputs": [
    {
     "data": {
      "text/plain": [
       "[300, 157, 6, 290, 70]"
      ]
     },
     "execution_count": 82,
     "metadata": {},
     "output_type": "execute_result"
    }
   ],
   "source": [
    "[300, 157, 6, 290, 70] #Optimal solution from bayesian optimization at the end of the notebook."
   ]
  },
  {
   "cell_type": "code",
   "execution_count": 83,
   "id": "ed93d15b",
   "metadata": {},
   "outputs": [],
   "source": [
    "model = Sequential()\n",
    "\n",
    "model.add(Dense(300, activation=\"relu\"))\n",
    "model.add(Conv1D(157, 2, activation=\"relu\")) # 157 - numero de filtros, 2 kernel size\n",
    "model.add(Conv1D(6, 2, activation=\"relu\"))\n",
    "model.add(Conv1D(290, 2, activation=\"relu\"))\n",
    "model.add(Conv1D(70, 1, activation=\"relu\"))\n",
    "\n",
    "model.add(Dense(1))\n",
    "\n",
    "\n",
    "model.compile(loss=\"mse\", optimizer=\"adam\")\n",
    "\n",
    "early_stopping = tf.keras.callbacks.EarlyStopping(patience=20, restore_best_weights=True)"
   ]
  },
  {
   "cell_type": "code",
   "execution_count": 84,
   "id": "ee4bba9c",
   "metadata": {
    "scrolled": true
   },
   "outputs": [
    {
     "name": "stdout",
     "output_type": "stream",
     "text": [
      "Epoch 1/150\n",
      "21/21 [==============================] - 1s 8ms/step - loss: 1568.6582 - val_loss: 59.4731\n",
      "Epoch 2/150\n",
      "21/21 [==============================] - 0s 3ms/step - loss: 153.9736 - val_loss: 54.9763\n",
      "Epoch 3/150\n",
      "21/21 [==============================] - 0s 2ms/step - loss: 75.2253 - val_loss: 48.3302\n",
      "Epoch 4/150\n",
      "21/21 [==============================] - 0s 2ms/step - loss: 55.4542 - val_loss: 38.6435\n",
      "Epoch 5/150\n",
      "21/21 [==============================] - 0s 2ms/step - loss: 40.1143 - val_loss: 34.2573\n",
      "Epoch 6/150\n",
      "21/21 [==============================] - 0s 2ms/step - loss: 31.4157 - val_loss: 24.4813\n",
      "Epoch 7/150\n",
      "21/21 [==============================] - 0s 2ms/step - loss: 24.5910 - val_loss: 18.7626\n",
      "Epoch 8/150\n",
      "21/21 [==============================] - 0s 2ms/step - loss: 19.3033 - val_loss: 16.4041\n",
      "Epoch 9/150\n",
      "21/21 [==============================] - 0s 2ms/step - loss: 15.9738 - val_loss: 14.5682\n",
      "Epoch 10/150\n",
      "21/21 [==============================] - 0s 2ms/step - loss: 14.1911 - val_loss: 12.4949\n",
      "Epoch 11/150\n",
      "21/21 [==============================] - 0s 2ms/step - loss: 12.5269 - val_loss: 13.1018\n",
      "Epoch 12/150\n",
      "21/21 [==============================] - 0s 2ms/step - loss: 11.6967 - val_loss: 10.6923\n",
      "Epoch 13/150\n",
      "21/21 [==============================] - 0s 2ms/step - loss: 10.2803 - val_loss: 9.7657\n",
      "Epoch 14/150\n",
      "21/21 [==============================] - 0s 2ms/step - loss: 8.5979 - val_loss: 8.3820\n",
      "Epoch 15/150\n",
      "21/21 [==============================] - 0s 2ms/step - loss: 7.6186 - val_loss: 7.4589\n",
      "Epoch 16/150\n",
      "21/21 [==============================] - 0s 2ms/step - loss: 7.1291 - val_loss: 8.3532\n",
      "Epoch 17/150\n",
      "21/21 [==============================] - 0s 2ms/step - loss: 6.6492 - val_loss: 6.3513\n",
      "Epoch 18/150\n",
      "21/21 [==============================] - 0s 2ms/step - loss: 5.3245 - val_loss: 6.4139\n",
      "Epoch 19/150\n",
      "21/21 [==============================] - 0s 2ms/step - loss: 4.8958 - val_loss: 5.8681\n",
      "Epoch 20/150\n",
      "21/21 [==============================] - 0s 2ms/step - loss: 4.4835 - val_loss: 4.8617\n",
      "Epoch 21/150\n",
      "21/21 [==============================] - 0s 2ms/step - loss: 4.1774 - val_loss: 4.4816\n",
      "Epoch 22/150\n",
      "21/21 [==============================] - 0s 2ms/step - loss: 3.6361 - val_loss: 4.2719\n",
      "Epoch 23/150\n",
      "21/21 [==============================] - 0s 2ms/step - loss: 3.2966 - val_loss: 3.7252\n",
      "Epoch 24/150\n",
      "21/21 [==============================] - 0s 2ms/step - loss: 2.9310 - val_loss: 3.4635\n",
      "Epoch 25/150\n",
      "21/21 [==============================] - 0s 2ms/step - loss: 2.7531 - val_loss: 3.3867\n",
      "Epoch 26/150\n",
      "21/21 [==============================] - 0s 2ms/step - loss: 2.4489 - val_loss: 3.0433\n",
      "Epoch 27/150\n",
      "21/21 [==============================] - 0s 3ms/step - loss: 2.2788 - val_loss: 2.8692\n",
      "Epoch 28/150\n",
      "21/21 [==============================] - 0s 2ms/step - loss: 2.1074 - val_loss: 2.7093\n",
      "Epoch 29/150\n",
      "21/21 [==============================] - 0s 2ms/step - loss: 2.0207 - val_loss: 2.5987\n",
      "Epoch 30/150\n",
      "21/21 [==============================] - 0s 2ms/step - loss: 1.8052 - val_loss: 2.4987\n",
      "Epoch 31/150\n",
      "21/21 [==============================] - 0s 2ms/step - loss: 1.6865 - val_loss: 2.4038\n",
      "Epoch 32/150\n",
      "21/21 [==============================] - 0s 2ms/step - loss: 1.8513 - val_loss: 2.9152\n",
      "Epoch 33/150\n",
      "21/21 [==============================] - 0s 2ms/step - loss: 1.7513 - val_loss: 2.2405\n",
      "Epoch 34/150\n",
      "21/21 [==============================] - 0s 2ms/step - loss: 1.6813 - val_loss: 2.1952\n",
      "Epoch 35/150\n",
      "21/21 [==============================] - 0s 2ms/step - loss: 1.5464 - val_loss: 2.1839\n",
      "Epoch 36/150\n",
      "21/21 [==============================] - 0s 2ms/step - loss: 1.3818 - val_loss: 2.0101\n",
      "Epoch 37/150\n",
      "21/21 [==============================] - 0s 3ms/step - loss: 1.3744 - val_loss: 2.2017\n",
      "Epoch 38/150\n",
      "21/21 [==============================] - 0s 2ms/step - loss: 1.3110 - val_loss: 1.9828\n",
      "Epoch 39/150\n",
      "21/21 [==============================] - 0s 2ms/step - loss: 1.2332 - val_loss: 2.0589\n",
      "Epoch 40/150\n",
      "21/21 [==============================] - 0s 2ms/step - loss: 1.1958 - val_loss: 1.8067\n",
      "Epoch 41/150\n",
      "21/21 [==============================] - 0s 2ms/step - loss: 1.1491 - val_loss: 1.9478\n",
      "Epoch 42/150\n",
      "21/21 [==============================] - 0s 2ms/step - loss: 1.5011 - val_loss: 2.1751\n",
      "Epoch 43/150\n",
      "21/21 [==============================] - 0s 2ms/step - loss: 1.4317 - val_loss: 1.8048\n",
      "Epoch 44/150\n",
      "21/21 [==============================] - 0s 2ms/step - loss: 1.1626 - val_loss: 1.6894\n",
      "Epoch 45/150\n",
      "21/21 [==============================] - 0s 2ms/step - loss: 1.1601 - val_loss: 2.2635\n",
      "Epoch 46/150\n",
      "21/21 [==============================] - 0s 2ms/step - loss: 1.2259 - val_loss: 1.6308\n",
      "Epoch 47/150\n",
      "21/21 [==============================] - 0s 2ms/step - loss: 1.0522 - val_loss: 2.2783\n",
      "Epoch 48/150\n",
      "21/21 [==============================] - 0s 2ms/step - loss: 1.1615 - val_loss: 1.5832\n",
      "Epoch 49/150\n",
      "21/21 [==============================] - 0s 2ms/step - loss: 1.0218 - val_loss: 1.5279\n",
      "Epoch 50/150\n",
      "21/21 [==============================] - 0s 2ms/step - loss: 0.9327 - val_loss: 1.5125\n",
      "Epoch 51/150\n",
      "21/21 [==============================] - 0s 2ms/step - loss: 0.9335 - val_loss: 1.4942\n",
      "Epoch 52/150\n",
      "21/21 [==============================] - 0s 2ms/step - loss: 1.0178 - val_loss: 1.5448\n",
      "Epoch 53/150\n",
      "21/21 [==============================] - 0s 2ms/step - loss: 1.3755 - val_loss: 1.6543\n",
      "Epoch 54/150\n",
      "21/21 [==============================] - 0s 2ms/step - loss: 1.0267 - val_loss: 1.4792\n",
      "Epoch 55/150\n",
      "21/21 [==============================] - 0s 2ms/step - loss: 0.9071 - val_loss: 1.5821\n",
      "Epoch 56/150\n",
      "21/21 [==============================] - 0s 2ms/step - loss: 0.9211 - val_loss: 1.4319\n",
      "Epoch 57/150\n",
      "21/21 [==============================] - 0s 3ms/step - loss: 0.8345 - val_loss: 1.4780\n",
      "Epoch 58/150\n",
      "21/21 [==============================] - 0s 2ms/step - loss: 0.8770 - val_loss: 1.3926\n",
      "Epoch 59/150\n",
      "21/21 [==============================] - 0s 2ms/step - loss: 0.8724 - val_loss: 1.4423\n",
      "Epoch 60/150\n",
      "21/21 [==============================] - 0s 2ms/step - loss: 1.0149 - val_loss: 1.9072\n",
      "Epoch 61/150\n",
      "21/21 [==============================] - 0s 2ms/step - loss: 0.8483 - val_loss: 1.5367\n",
      "Epoch 62/150\n",
      "21/21 [==============================] - 0s 3ms/step - loss: 0.8703 - val_loss: 1.4117\n",
      "Epoch 63/150\n",
      "21/21 [==============================] - 0s 3ms/step - loss: 0.7580 - val_loss: 1.4238\n",
      "Epoch 64/150\n",
      "21/21 [==============================] - 0s 2ms/step - loss: 0.7654 - val_loss: 1.2960\n",
      "Epoch 65/150\n",
      "21/21 [==============================] - 0s 2ms/step - loss: 0.7325 - val_loss: 1.2860\n",
      "Epoch 66/150\n",
      "21/21 [==============================] - 0s 2ms/step - loss: 0.6933 - val_loss: 1.2676\n",
      "Epoch 67/150\n",
      "21/21 [==============================] - 0s 2ms/step - loss: 0.6627 - val_loss: 1.3224\n",
      "Epoch 68/150\n",
      "21/21 [==============================] - 0s 2ms/step - loss: 0.6670 - val_loss: 1.2740\n",
      "Epoch 69/150\n",
      "21/21 [==============================] - 0s 2ms/step - loss: 0.8499 - val_loss: 1.2998\n",
      "Epoch 70/150\n",
      "21/21 [==============================] - 0s 2ms/step - loss: 0.8176 - val_loss: 1.4115\n",
      "Epoch 71/150\n",
      "21/21 [==============================] - 0s 2ms/step - loss: 0.7274 - val_loss: 1.2209\n",
      "Epoch 72/150\n",
      "21/21 [==============================] - 0s 2ms/step - loss: 0.6733 - val_loss: 1.2098\n",
      "Epoch 73/150\n",
      "21/21 [==============================] - 0s 2ms/step - loss: 0.6013 - val_loss: 1.3180\n",
      "Epoch 74/150\n",
      "21/21 [==============================] - 0s 2ms/step - loss: 0.6840 - val_loss: 1.3398\n",
      "Epoch 75/150\n",
      "21/21 [==============================] - 0s 2ms/step - loss: 0.6454 - val_loss: 1.3340\n",
      "Epoch 76/150\n",
      "21/21 [==============================] - 0s 2ms/step - loss: 0.6441 - val_loss: 1.4792\n",
      "Epoch 77/150\n",
      "21/21 [==============================] - 0s 2ms/step - loss: 0.6214 - val_loss: 1.3667\n",
      "Epoch 78/150\n",
      "21/21 [==============================] - 0s 2ms/step - loss: 0.7397 - val_loss: 1.1765\n",
      "Epoch 79/150\n",
      "21/21 [==============================] - 0s 2ms/step - loss: 0.5647 - val_loss: 1.2880\n",
      "Epoch 80/150\n",
      "21/21 [==============================] - 0s 2ms/step - loss: 0.6225 - val_loss: 1.2089\n",
      "Epoch 81/150\n",
      "21/21 [==============================] - 0s 3ms/step - loss: 0.6765 - val_loss: 2.2663\n",
      "Epoch 82/150\n",
      "21/21 [==============================] - 0s 2ms/step - loss: 0.6984 - val_loss: 1.1203\n",
      "Epoch 83/150\n",
      "21/21 [==============================] - 0s 2ms/step - loss: 0.5914 - val_loss: 1.3020\n",
      "Epoch 84/150\n",
      "21/21 [==============================] - 0s 2ms/step - loss: 0.5631 - val_loss: 1.1542\n",
      "Epoch 85/150\n",
      "21/21 [==============================] - 0s 2ms/step - loss: 0.5721 - val_loss: 1.0883\n",
      "Epoch 86/150\n",
      "21/21 [==============================] - 0s 2ms/step - loss: 0.6510 - val_loss: 1.0759\n",
      "Epoch 87/150\n",
      "21/21 [==============================] - 0s 3ms/step - loss: 0.5346 - val_loss: 1.2628\n",
      "Epoch 88/150\n",
      "21/21 [==============================] - 0s 2ms/step - loss: 0.6008 - val_loss: 1.1023\n",
      "Epoch 89/150\n",
      "21/21 [==============================] - 0s 2ms/step - loss: 0.5152 - val_loss: 1.1611\n",
      "Epoch 90/150\n",
      "21/21 [==============================] - 0s 2ms/step - loss: 0.6188 - val_loss: 1.9861\n",
      "Epoch 91/150\n",
      "21/21 [==============================] - 0s 2ms/step - loss: 0.5741 - val_loss: 1.0266\n",
      "Epoch 92/150\n",
      "21/21 [==============================] - 0s 2ms/step - loss: 0.4855 - val_loss: 1.1615\n",
      "Epoch 93/150\n",
      "21/21 [==============================] - 0s 2ms/step - loss: 0.5100 - val_loss: 1.1887\n",
      "Epoch 94/150\n",
      "21/21 [==============================] - 0s 2ms/step - loss: 0.5220 - val_loss: 1.0200\n",
      "Epoch 95/150\n",
      "21/21 [==============================] - 0s 2ms/step - loss: 0.5669 - val_loss: 0.9786\n",
      "Epoch 96/150\n",
      "21/21 [==============================] - 0s 2ms/step - loss: 0.4681 - val_loss: 1.0031\n",
      "Epoch 97/150\n",
      "21/21 [==============================] - 0s 2ms/step - loss: 0.6002 - val_loss: 1.4922\n",
      "Epoch 98/150\n",
      "21/21 [==============================] - 0s 2ms/step - loss: 0.5521 - val_loss: 1.1782\n",
      "Epoch 99/150\n",
      "21/21 [==============================] - 0s 2ms/step - loss: 0.6394 - val_loss: 1.4373\n",
      "Epoch 100/150\n",
      "21/21 [==============================] - 0s 2ms/step - loss: 0.4281 - val_loss: 1.0101\n",
      "Epoch 101/150\n",
      "21/21 [==============================] - 0s 2ms/step - loss: 0.6444 - val_loss: 1.0612\n",
      "Epoch 102/150\n",
      "21/21 [==============================] - 0s 2ms/step - loss: 0.4851 - val_loss: 0.8916\n",
      "Epoch 103/150\n",
      "21/21 [==============================] - 0s 2ms/step - loss: 0.4527 - val_loss: 0.8987\n",
      "Epoch 104/150\n",
      "21/21 [==============================] - 0s 2ms/step - loss: 0.4504 - val_loss: 1.1142\n",
      "Epoch 105/150\n",
      "21/21 [==============================] - 0s 2ms/step - loss: 0.4966 - val_loss: 0.8905\n",
      "Epoch 106/150\n",
      "21/21 [==============================] - 0s 2ms/step - loss: 0.3577 - val_loss: 0.8609\n",
      "Epoch 107/150\n",
      "21/21 [==============================] - 0s 2ms/step - loss: 0.3974 - val_loss: 1.0956\n",
      "Epoch 108/150\n",
      "21/21 [==============================] - 0s 3ms/step - loss: 0.4340 - val_loss: 0.9263\n",
      "Epoch 109/150\n",
      "21/21 [==============================] - 0s 2ms/step - loss: 0.3378 - val_loss: 0.8268\n",
      "Epoch 110/150\n",
      "21/21 [==============================] - 0s 2ms/step - loss: 0.3517 - val_loss: 0.9227\n",
      "Epoch 111/150\n",
      "21/21 [==============================] - 0s 2ms/step - loss: 0.3420 - val_loss: 0.8186\n",
      "Epoch 112/150\n",
      "21/21 [==============================] - 0s 2ms/step - loss: 0.3655 - val_loss: 0.7788\n",
      "Epoch 113/150\n",
      "21/21 [==============================] - 0s 2ms/step - loss: 0.3712 - val_loss: 0.7804\n",
      "Epoch 114/150\n",
      "21/21 [==============================] - 0s 2ms/step - loss: 0.3411 - val_loss: 0.8783\n",
      "Epoch 115/150\n",
      "21/21 [==============================] - 0s 2ms/step - loss: 0.3055 - val_loss: 0.7545\n",
      "Epoch 116/150\n",
      "21/21 [==============================] - 0s 2ms/step - loss: 0.3341 - val_loss: 0.9086\n",
      "Epoch 117/150\n",
      "21/21 [==============================] - 0s 2ms/step - loss: 0.3732 - val_loss: 0.7061\n",
      "Epoch 118/150\n",
      "21/21 [==============================] - 0s 2ms/step - loss: 0.3708 - val_loss: 0.7791\n",
      "Epoch 119/150\n",
      "21/21 [==============================] - 0s 2ms/step - loss: 0.2914 - val_loss: 0.7228\n",
      "Epoch 120/150\n",
      "21/21 [==============================] - 0s 2ms/step - loss: 0.2567 - val_loss: 0.6725\n",
      "Epoch 121/150\n",
      "21/21 [==============================] - 0s 2ms/step - loss: 0.2602 - val_loss: 0.8494\n",
      "Epoch 122/150\n",
      "21/21 [==============================] - 0s 2ms/step - loss: 0.3223 - val_loss: 0.6663\n",
      "Epoch 123/150\n",
      "21/21 [==============================] - 0s 2ms/step - loss: 0.2475 - val_loss: 0.6294\n",
      "Epoch 124/150\n",
      "21/21 [==============================] - 0s 2ms/step - loss: 0.2548 - val_loss: 0.6347\n",
      "Epoch 125/150\n",
      "21/21 [==============================] - 0s 2ms/step - loss: 0.2575 - val_loss: 0.6177\n",
      "Epoch 126/150\n",
      "21/21 [==============================] - 0s 2ms/step - loss: 0.3404 - val_loss: 0.7301\n",
      "Epoch 127/150\n",
      "21/21 [==============================] - 0s 2ms/step - loss: 0.2203 - val_loss: 0.6029\n",
      "Epoch 128/150\n",
      "21/21 [==============================] - 0s 3ms/step - loss: 0.2866 - val_loss: 0.8229\n",
      "Epoch 129/150\n",
      "21/21 [==============================] - 0s 2ms/step - loss: 0.3619 - val_loss: 0.5735\n",
      "Epoch 130/150\n",
      "21/21 [==============================] - 0s 2ms/step - loss: 0.2282 - val_loss: 0.5623\n",
      "Epoch 131/150\n",
      "21/21 [==============================] - 0s 2ms/step - loss: 0.2013 - val_loss: 0.5770\n",
      "Epoch 132/150\n",
      "21/21 [==============================] - 0s 2ms/step - loss: 0.1865 - val_loss: 0.6691\n",
      "Epoch 133/150\n",
      "21/21 [==============================] - 0s 2ms/step - loss: 0.1985 - val_loss: 0.5396\n",
      "Epoch 134/150\n",
      "21/21 [==============================] - 0s 3ms/step - loss: 0.2532 - val_loss: 0.6537\n",
      "Epoch 135/150\n",
      "21/21 [==============================] - 0s 2ms/step - loss: 0.2071 - val_loss: 0.5259\n",
      "Epoch 136/150\n",
      "21/21 [==============================] - 0s 2ms/step - loss: 0.2817 - val_loss: 0.8126\n",
      "Epoch 137/150\n",
      "21/21 [==============================] - 0s 2ms/step - loss: 0.2790 - val_loss: 0.5566\n",
      "Epoch 138/150\n",
      "21/21 [==============================] - 0s 2ms/step - loss: 0.1917 - val_loss: 0.4976\n",
      "Epoch 139/150\n",
      "21/21 [==============================] - 0s 2ms/step - loss: 0.2205 - val_loss: 0.6083\n",
      "Epoch 140/150\n",
      "21/21 [==============================] - 0s 2ms/step - loss: 0.2415 - val_loss: 0.6222\n",
      "Epoch 141/150\n",
      "21/21 [==============================] - 0s 2ms/step - loss: 0.5115 - val_loss: 0.5377\n",
      "Epoch 142/150\n",
      "21/21 [==============================] - 0s 2ms/step - loss: 0.2948 - val_loss: 0.7057\n",
      "Epoch 143/150\n",
      "21/21 [==============================] - 0s 2ms/step - loss: 0.2105 - val_loss: 0.5108\n",
      "Epoch 144/150\n",
      "21/21 [==============================] - 0s 2ms/step - loss: 0.2326 - val_loss: 0.8047\n",
      "Epoch 145/150\n",
      "21/21 [==============================] - 0s 2ms/step - loss: 0.2831 - val_loss: 0.4681\n",
      "Epoch 146/150\n",
      "21/21 [==============================] - 0s 2ms/step - loss: 0.1559 - val_loss: 0.5257\n",
      "Epoch 147/150\n",
      "21/21 [==============================] - 0s 2ms/step - loss: 0.1765 - val_loss: 0.4874\n",
      "Epoch 148/150\n",
      "21/21 [==============================] - 0s 2ms/step - loss: 0.2319 - val_loss: 0.4388\n",
      "Epoch 149/150\n",
      "21/21 [==============================] - 0s 2ms/step - loss: 0.1332 - val_loss: 0.4444\n",
      "Epoch 150/150\n",
      "21/21 [==============================] - 0s 2ms/step - loss: 0.1848 - val_loss: 0.4800\n"
     ]
    },
    {
     "data": {
      "text/plain": [
       "<keras.callbacks.History at 0x18ce408deb0>"
      ]
     },
     "execution_count": 84,
     "metadata": {},
     "output_type": "execute_result"
    }
   ],
   "source": [
    "model.fit(X_train, y_train, epochs=150, validation_data=(X_test, y_test), batch_size=32, verbose=1, callbacks= [early_stopping])"
   ]
  },
  {
   "cell_type": "code",
   "execution_count": 85,
   "id": "25809316",
   "metadata": {},
   "outputs": [
    {
     "name": "stdout",
     "output_type": "stream",
     "text": [
      "Model: \"sequential\"\n",
      "_________________________________________________________________\n",
      " Layer (type)                Output Shape              Param #   \n",
      "=================================================================\n",
      " dense (Dense)               (None, 4, 300)            2100      \n",
      "                                                                 \n",
      " conv1d (Conv1D)             (None, 3, 157)            94357     \n",
      "                                                                 \n",
      " conv1d_1 (Conv1D)           (None, 2, 6)              1890      \n",
      "                                                                 \n",
      " conv1d_2 (Conv1D)           (None, 1, 290)            3770      \n",
      "                                                                 \n",
      " conv1d_3 (Conv1D)           (None, 1, 70)             20370     \n",
      "                                                                 \n",
      " dense_1 (Dense)             (None, 1, 1)              71        \n",
      "                                                                 \n",
      "=================================================================\n",
      "Total params: 122,558\n",
      "Trainable params: 122,558\n",
      "Non-trainable params: 0\n",
      "_________________________________________________________________\n"
     ]
    }
   ],
   "source": [
    "model.summary()"
   ]
  },
  {
   "cell_type": "code",
   "execution_count": 86,
   "id": "da778d17",
   "metadata": {},
   "outputs": [],
   "source": [
    "#11/11 [==============================] - 0s 4ms/step - loss: 1.4006 - val_loss: 1.5410"
   ]
  },
  {
   "cell_type": "code",
   "execution_count": 87,
   "id": "57ed04cd",
   "metadata": {
    "scrolled": true
   },
   "outputs": [
    {
     "data": {
      "text/plain": [
       "<AxesSubplot:>"
      ]
     },
     "execution_count": 87,
     "metadata": {},
     "output_type": "execute_result"
    },
    {
     "data": {
      "image/png": "[encoded data removed]",
      "text/plain": [
       "<Figure size 432x288 with 1 Axes>"
      ]
     },
     "metadata": {
      "needs_background": "light"
     },
     "output_type": "display_data"
    }
   ],
   "source": [
    "pd.DataFrame(model.history.history).plot()"
   ]
  },
  {
   "cell_type": "code",
   "execution_count": 88,
   "id": "a4a01579",
   "metadata": {},
   "outputs": [
    {
     "data": {
      "text/plain": [
       "0.9382292771888601"
      ]
     },
     "execution_count": 88,
     "metadata": {},
     "output_type": "execute_result"
    }
   ],
   "source": [
    "preds = model.predict(X_test).ravel()\n",
    "r2_score(y_test, preds)"
   ]
  },
  {
   "cell_type": "code",
   "execution_count": 89,
   "id": "d476851f",
   "metadata": {},
   "outputs": [
    {
     "data": {
      "text/plain": [
       "0.6927911352633767"
      ]
     },
     "execution_count": 89,
     "metadata": {},
     "output_type": "execute_result"
    }
   ],
   "source": [
    "np.sqrt(mean_squared_error(y_test, preds))"
   ]
  },
  {
   "cell_type": "code",
   "execution_count": 90,
   "id": "35508da9",
   "metadata": {},
   "outputs": [],
   "source": [
    "def predictor_energy(x):\n",
    "    prediction = model.predict(x.reshape(1, 4, 6))\n",
    "    return prediction.ravel()[0]\n",
    "    "
   ]
  },
  {
   "cell_type": "code",
   "execution_count": 91,
   "id": "d65110ce",
   "metadata": {},
   "outputs": [
    {
     "data": {
      "text/plain": [
       "64.36179"
      ]
     },
     "execution_count": 91,
     "metadata": {},
     "output_type": "execute_result"
    }
   ],
   "source": [
    "predictor_energy(np.repeat(0, 24))"
   ]
  },
  {
   "cell_type": "markdown",
   "id": "1fbee359",
   "metadata": {},
   "source": [
    "# Build CNN for STD prediction"
   ]
  },
  {
   "cell_type": "markdown",
   "id": "65852c0c",
   "metadata": {},
   "source": [
    "We build a 1 dimensional convolutional neural network with 4 convolutional layers with different nodes. We train the model, and test its accuracy with a train test split function from sklearn. We measure the surrogate model R2 score and RMSE."
   ]
  },
  {
   "cell_type": "code",
   "execution_count": 92,
   "id": "e4abaa8e",
   "metadata": {},
   "outputs": [],
   "source": [
    "X_train1, X_test1, y_train1, y_test1 = train_test_split(X, y2, test_size=0.33)"
   ]
  },
  {
   "cell_type": "code",
   "execution_count": 93,
   "id": "4b86d96c",
   "metadata": {},
   "outputs": [
    {
     "data": {
      "text/plain": [
       "[300, 300, 300, 6, 100]"
      ]
     },
     "execution_count": 93,
     "metadata": {},
     "output_type": "execute_result"
    }
   ],
   "source": [
    "[300, 300, 300, 6, 100] #Optimal solution from bayesian optimization at the end of the notebook."
   ]
  },
  {
   "cell_type": "code",
   "execution_count": 94,
   "id": "929ee157",
   "metadata": {},
   "outputs": [],
   "source": [
    "model1 = Sequential()\n",
    "\n",
    "model1.add(Dense(300, activation=\"relu\"))\n",
    "model1.add(Conv1D(300, 2, activation=\"relu\"))\n",
    "model1.add(Conv1D(300, 2, activation=\"relu\"))\n",
    "model1.add(Conv1D(6, 2, activation=\"relu\"))\n",
    "model1.add(Conv1D(100, 1, activation=\"relu\"))\n",
    "\n",
    "model1.add(Dense(1))\n",
    "\n",
    "\n",
    "model1.compile(loss=\"mse\", optimizer=\"adam\")"
   ]
  },
  {
   "cell_type": "code",
   "execution_count": 95,
   "id": "b3beefb8",
   "metadata": {
    "scrolled": true
   },
   "outputs": [
    {
     "name": "stdout",
     "output_type": "stream",
     "text": [
      "Epoch 1/150\n",
      "21/21 [==============================] - 1s 9ms/step - loss: 0.0277 - val_loss: 0.0085\n",
      "Epoch 2/150\n",
      "21/21 [==============================] - 0s 4ms/step - loss: 0.0050 - val_loss: 0.0031\n",
      "Epoch 3/150\n",
      "21/21 [==============================] - 0s 4ms/step - loss: 0.0020 - val_loss: 0.0015\n",
      "Epoch 4/150\n",
      "21/21 [==============================] - 0s 4ms/step - loss: 0.0011 - val_loss: 0.0013\n",
      "Epoch 5/150\n",
      "21/21 [==============================] - 0s 4ms/step - loss: 8.3769e-04 - val_loss: 9.5876e-04\n",
      "Epoch 6/150\n",
      "21/21 [==============================] - 0s 4ms/step - loss: 6.2770e-04 - val_loss: 9.0053e-04\n",
      "Epoch 7/150\n",
      "21/21 [==============================] - 0s 4ms/step - loss: 5.0035e-04 - val_loss: 8.0354e-04\n",
      "Epoch 8/150\n",
      "21/21 [==============================] - 0s 4ms/step - loss: 4.1822e-04 - val_loss: 6.8380e-04\n",
      "Epoch 9/150\n",
      "21/21 [==============================] - 0s 4ms/step - loss: 3.1820e-04 - val_loss: 6.4480e-04\n",
      "Epoch 10/150\n",
      "21/21 [==============================] - 0s 3ms/step - loss: 2.8780e-04 - val_loss: 6.3943e-04\n",
      "Epoch 11/150\n",
      "21/21 [==============================] - 0s 4ms/step - loss: 2.0991e-04 - val_loss: 5.3830e-04\n",
      "Epoch 12/150\n",
      "21/21 [==============================] - 0s 3ms/step - loss: 1.8485e-04 - val_loss: 5.9676e-04\n",
      "Epoch 13/150\n",
      "21/21 [==============================] - 0s 3ms/step - loss: 1.7311e-04 - val_loss: 5.2177e-04\n",
      "Epoch 14/150\n",
      "21/21 [==============================] - 0s 3ms/step - loss: 1.5789e-04 - val_loss: 4.6504e-04\n",
      "Epoch 15/150\n",
      "21/21 [==============================] - 0s 4ms/step - loss: 1.2791e-04 - val_loss: 4.4901e-04\n",
      "Epoch 16/150\n",
      "21/21 [==============================] - 0s 3ms/step - loss: 1.0554e-04 - val_loss: 4.4333e-04\n",
      "Epoch 17/150\n",
      "21/21 [==============================] - 0s 3ms/step - loss: 8.4273e-05 - val_loss: 3.9503e-04\n",
      "Epoch 18/150\n",
      "21/21 [==============================] - 0s 3ms/step - loss: 7.3413e-05 - val_loss: 4.1122e-04\n",
      "Epoch 19/150\n",
      "21/21 [==============================] - 0s 4ms/step - loss: 7.0502e-05 - val_loss: 3.7010e-04\n",
      "Epoch 20/150\n",
      "21/21 [==============================] - 0s 3ms/step - loss: 6.9424e-05 - val_loss: 3.5751e-04\n",
      "Epoch 21/150\n",
      "21/21 [==============================] - 0s 3ms/step - loss: 5.4650e-05 - val_loss: 3.7141e-04\n",
      "Epoch 22/150\n",
      "21/21 [==============================] - 0s 3ms/step - loss: 6.2609e-05 - val_loss: 3.4945e-04\n",
      "Epoch 23/150\n",
      "21/21 [==============================] - 0s 3ms/step - loss: 6.2115e-05 - val_loss: 3.3609e-04\n",
      "Epoch 24/150\n",
      "21/21 [==============================] - 0s 3ms/step - loss: 4.9785e-05 - val_loss: 3.1320e-04\n",
      "Epoch 25/150\n",
      "21/21 [==============================] - 0s 3ms/step - loss: 3.6948e-05 - val_loss: 3.2123e-04\n",
      "Epoch 26/150\n",
      "21/21 [==============================] - 0s 3ms/step - loss: 3.4914e-05 - val_loss: 2.9927e-04\n",
      "Epoch 27/150\n",
      "21/21 [==============================] - 0s 3ms/step - loss: 3.1862e-05 - val_loss: 3.3867e-04\n",
      "Epoch 28/150\n",
      "21/21 [==============================] - 0s 3ms/step - loss: 3.4348e-05 - val_loss: 3.2622e-04\n",
      "Epoch 29/150\n",
      "21/21 [==============================] - 0s 3ms/step - loss: 4.4189e-05 - val_loss: 3.2352e-04\n",
      "Epoch 30/150\n",
      "21/21 [==============================] - 0s 4ms/step - loss: 3.9175e-05 - val_loss: 2.8789e-04\n",
      "Epoch 31/150\n",
      "21/21 [==============================] - 0s 3ms/step - loss: 2.2597e-05 - val_loss: 2.8081e-04\n",
      "Epoch 32/150\n",
      "21/21 [==============================] - 0s 3ms/step - loss: 1.8805e-05 - val_loss: 2.8693e-04\n",
      "Epoch 33/150\n",
      "21/21 [==============================] - 0s 3ms/step - loss: 1.6452e-05 - val_loss: 2.8348e-04\n",
      "Epoch 34/150\n",
      "21/21 [==============================] - 0s 3ms/step - loss: 1.6088e-05 - val_loss: 2.7378e-04\n",
      "Epoch 35/150\n",
      "21/21 [==============================] - 0s 3ms/step - loss: 2.3168e-05 - val_loss: 2.7402e-04\n",
      "Epoch 36/150\n",
      "21/21 [==============================] - 0s 3ms/step - loss: 1.8073e-05 - val_loss: 2.6448e-04\n",
      "Epoch 37/150\n",
      "21/21 [==============================] - 0s 3ms/step - loss: 1.9061e-05 - val_loss: 2.5802e-04\n",
      "Epoch 38/150\n",
      "21/21 [==============================] - 0s 3ms/step - loss: 1.5453e-05 - val_loss: 2.5547e-04\n",
      "Epoch 39/150\n",
      "21/21 [==============================] - 0s 3ms/step - loss: 1.4803e-05 - val_loss: 2.6712e-04\n",
      "Epoch 40/150\n",
      "21/21 [==============================] - 0s 3ms/step - loss: 1.3920e-05 - val_loss: 2.7031e-04\n",
      "Epoch 41/150\n",
      "21/21 [==============================] - 0s 3ms/step - loss: 1.2527e-05 - val_loss: 2.5639e-04\n",
      "Epoch 42/150\n",
      "21/21 [==============================] - 0s 3ms/step - loss: 1.0919e-05 - val_loss: 2.5762e-04\n",
      "Epoch 43/150\n",
      "21/21 [==============================] - 0s 3ms/step - loss: 1.1043e-05 - val_loss: 2.5048e-04\n",
      "Epoch 44/150\n",
      "21/21 [==============================] - 0s 3ms/step - loss: 1.0004e-05 - val_loss: 2.6412e-04\n",
      "Epoch 45/150\n",
      "21/21 [==============================] - 0s 4ms/step - loss: 1.0707e-05 - val_loss: 2.4887e-04\n",
      "Epoch 46/150\n",
      "21/21 [==============================] - 0s 3ms/step - loss: 7.5354e-06 - val_loss: 2.4730e-04\n",
      "Epoch 47/150\n",
      "21/21 [==============================] - 0s 3ms/step - loss: 8.2274e-06 - val_loss: 2.5335e-04\n",
      "Epoch 48/150\n",
      "21/21 [==============================] - 0s 3ms/step - loss: 7.4266e-06 - val_loss: 2.4742e-04\n",
      "Epoch 49/150\n",
      "21/21 [==============================] - 0s 3ms/step - loss: 7.8698e-06 - val_loss: 2.5549e-04\n",
      "Epoch 50/150\n",
      "21/21 [==============================] - 0s 3ms/step - loss: 5.7813e-06 - val_loss: 2.4725e-04\n",
      "Epoch 51/150\n",
      "21/21 [==============================] - 0s 3ms/step - loss: 5.9544e-06 - val_loss: 2.4168e-04\n",
      "Epoch 52/150\n",
      "21/21 [==============================] - 0s 3ms/step - loss: 7.2188e-06 - val_loss: 2.3982e-04\n",
      "Epoch 53/150\n",
      "21/21 [==============================] - 0s 3ms/step - loss: 6.4777e-06 - val_loss: 2.4121e-04\n",
      "Epoch 54/150\n",
      "21/21 [==============================] - 0s 3ms/step - loss: 5.7526e-06 - val_loss: 2.3671e-04\n",
      "Epoch 55/150\n",
      "21/21 [==============================] - 0s 3ms/step - loss: 5.2667e-06 - val_loss: 2.4974e-04\n",
      "Epoch 56/150\n",
      "21/21 [==============================] - 0s 4ms/step - loss: 7.0674e-06 - val_loss: 2.3512e-04\n",
      "Epoch 57/150\n",
      "21/21 [==============================] - 0s 3ms/step - loss: 5.9137e-06 - val_loss: 2.3696e-04\n",
      "Epoch 58/150\n",
      "21/21 [==============================] - 0s 3ms/step - loss: 7.7908e-06 - val_loss: 2.4328e-04\n",
      "Epoch 59/150\n",
      "21/21 [==============================] - 0s 3ms/step - loss: 8.9459e-06 - val_loss: 2.5664e-04\n",
      "Epoch 60/150\n",
      "21/21 [==============================] - 0s 4ms/step - loss: 8.9868e-06 - val_loss: 2.4346e-04\n",
      "Epoch 61/150\n",
      "21/21 [==============================] - 0s 4ms/step - loss: 7.1211e-06 - val_loss: 2.3979e-04\n",
      "Epoch 62/150\n",
      "21/21 [==============================] - 0s 3ms/step - loss: 6.2170e-06 - val_loss: 2.3085e-04\n",
      "Epoch 63/150\n",
      "21/21 [==============================] - 0s 3ms/step - loss: 5.0859e-06 - val_loss: 2.3712e-04\n",
      "Epoch 64/150\n",
      "21/21 [==============================] - 0s 3ms/step - loss: 6.1937e-06 - val_loss: 2.3890e-04\n",
      "Epoch 65/150\n",
      "21/21 [==============================] - 0s 4ms/step - loss: 9.2590e-06 - val_loss: 2.3526e-04\n",
      "Epoch 66/150\n",
      "21/21 [==============================] - 0s 3ms/step - loss: 1.3071e-05 - val_loss: 2.3539e-04\n",
      "Epoch 67/150\n",
      "21/21 [==============================] - 0s 3ms/step - loss: 1.1863e-05 - val_loss: 2.4128e-04\n",
      "Epoch 68/150\n",
      "21/21 [==============================] - 0s 3ms/step - loss: 1.4580e-05 - val_loss: 2.3793e-04\n",
      "Epoch 69/150\n",
      "21/21 [==============================] - 0s 3ms/step - loss: 1.1314e-05 - val_loss: 2.4589e-04\n",
      "Epoch 70/150\n",
      "21/21 [==============================] - 0s 3ms/step - loss: 1.2075e-05 - val_loss: 2.6116e-04\n",
      "Epoch 71/150\n",
      "21/21 [==============================] - 0s 3ms/step - loss: 1.2232e-05 - val_loss: 2.3792e-04\n",
      "Epoch 72/150\n",
      "21/21 [==============================] - 0s 3ms/step - loss: 7.4034e-06 - val_loss: 2.3710e-04\n",
      "Epoch 73/150\n",
      "21/21 [==============================] - 0s 3ms/step - loss: 6.0392e-06 - val_loss: 2.3436e-04\n",
      "Epoch 74/150\n",
      "21/21 [==============================] - 0s 4ms/step - loss: 5.4401e-06 - val_loss: 2.3090e-04\n",
      "Epoch 75/150\n",
      "21/21 [==============================] - 0s 3ms/step - loss: 7.8188e-06 - val_loss: 2.3241e-04\n",
      "Epoch 76/150\n",
      "21/21 [==============================] - 0s 3ms/step - loss: 1.0099e-05 - val_loss: 2.4629e-04\n",
      "Epoch 77/150\n",
      "21/21 [==============================] - 0s 3ms/step - loss: 9.8032e-06 - val_loss: 2.3560e-04\n",
      "Epoch 78/150\n",
      "21/21 [==============================] - 0s 3ms/step - loss: 9.0105e-06 - val_loss: 2.3749e-04\n",
      "Epoch 79/150\n",
      "21/21 [==============================] - 0s 3ms/step - loss: 6.5942e-06 - val_loss: 2.3370e-04\n",
      "Epoch 80/150\n",
      "21/21 [==============================] - 0s 3ms/step - loss: 7.6562e-06 - val_loss: 2.2929e-04\n",
      "Epoch 81/150\n",
      "21/21 [==============================] - 0s 3ms/step - loss: 6.0326e-06 - val_loss: 2.2880e-04\n",
      "Epoch 82/150\n",
      "21/21 [==============================] - 0s 3ms/step - loss: 5.9273e-06 - val_loss: 2.3838e-04\n",
      "Epoch 83/150\n",
      "21/21 [==============================] - 0s 3ms/step - loss: 9.9685e-06 - val_loss: 2.3437e-04\n",
      "Epoch 84/150\n",
      "21/21 [==============================] - 0s 3ms/step - loss: 4.0194e-05 - val_loss: 2.3731e-04\n",
      "Epoch 85/150\n",
      "21/21 [==============================] - 0s 3ms/step - loss: 4.7601e-05 - val_loss: 2.7544e-04\n",
      "Epoch 86/150\n",
      "21/21 [==============================] - 0s 3ms/step - loss: 4.8925e-05 - val_loss: 2.3330e-04\n",
      "Epoch 87/150\n",
      "21/21 [==============================] - 0s 3ms/step - loss: 2.4618e-05 - val_loss: 2.6105e-04\n",
      "Epoch 88/150\n",
      "21/21 [==============================] - 0s 3ms/step - loss: 1.6942e-05 - val_loss: 2.2568e-04\n",
      "Epoch 89/150\n",
      "21/21 [==============================] - 0s 3ms/step - loss: 3.3368e-05 - val_loss: 2.9256e-04\n",
      "Epoch 90/150\n",
      "21/21 [==============================] - 0s 4ms/step - loss: 9.3178e-05 - val_loss: 2.9242e-04\n",
      "Epoch 91/150\n",
      "21/21 [==============================] - 0s 3ms/step - loss: 5.8925e-05 - val_loss: 2.2960e-04\n",
      "Epoch 92/150\n",
      "21/21 [==============================] - 0s 3ms/step - loss: 3.3507e-05 - val_loss: 2.1699e-04\n",
      "Epoch 93/150\n",
      "21/21 [==============================] - 0s 3ms/step - loss: 1.8329e-05 - val_loss: 2.0422e-04\n",
      "Epoch 94/150\n",
      "21/21 [==============================] - 0s 3ms/step - loss: 1.6629e-05 - val_loss: 1.9945e-04\n",
      "Epoch 95/150\n",
      "21/21 [==============================] - 0s 3ms/step - loss: 1.5787e-05 - val_loss: 2.0625e-04\n",
      "Epoch 96/150\n",
      "21/21 [==============================] - 0s 3ms/step - loss: 1.3088e-05 - val_loss: 1.9579e-04\n",
      "Epoch 97/150\n",
      "21/21 [==============================] - 0s 3ms/step - loss: 1.6773e-05 - val_loss: 1.9480e-04\n",
      "Epoch 98/150\n",
      "21/21 [==============================] - 0s 3ms/step - loss: 1.6210e-05 - val_loss: 2.0906e-04\n",
      "Epoch 99/150\n",
      "21/21 [==============================] - 0s 3ms/step - loss: 1.2113e-05 - val_loss: 2.0168e-04\n",
      "Epoch 100/150\n",
      "21/21 [==============================] - 0s 4ms/step - loss: 8.7012e-06 - val_loss: 1.8970e-04\n",
      "Epoch 101/150\n",
      "21/21 [==============================] - 0s 3ms/step - loss: 6.8115e-06 - val_loss: 1.9652e-04\n",
      "Epoch 102/150\n",
      "21/21 [==============================] - 0s 3ms/step - loss: 6.1474e-06 - val_loss: 1.9665e-04\n",
      "Epoch 103/150\n",
      "21/21 [==============================] - 0s 3ms/step - loss: 5.9222e-06 - val_loss: 2.0119e-04\n",
      "Epoch 104/150\n",
      "21/21 [==============================] - 0s 3ms/step - loss: 6.2523e-06 - val_loss: 1.9606e-04\n",
      "Epoch 105/150\n",
      "21/21 [==============================] - 0s 3ms/step - loss: 5.4179e-06 - val_loss: 1.9245e-04\n",
      "Epoch 106/150\n",
      "21/21 [==============================] - 0s 3ms/step - loss: 7.7075e-06 - val_loss: 1.8972e-04\n",
      "Epoch 107/150\n",
      "21/21 [==============================] - 0s 3ms/step - loss: 5.8508e-06 - val_loss: 1.9211e-04\n",
      "Epoch 108/150\n",
      "21/21 [==============================] - 0s 3ms/step - loss: 4.1014e-06 - val_loss: 1.9427e-04\n",
      "Epoch 109/150\n",
      "21/21 [==============================] - 0s 3ms/step - loss: 3.6836e-06 - val_loss: 1.9305e-04\n",
      "Epoch 110/150\n",
      "21/21 [==============================] - 0s 4ms/step - loss: 3.8979e-06 - val_loss: 1.9255e-04\n",
      "Epoch 111/150\n",
      "21/21 [==============================] - 0s 3ms/step - loss: 4.0074e-06 - val_loss: 1.9357e-04\n",
      "Epoch 112/150\n",
      "21/21 [==============================] - 0s 3ms/step - loss: 4.3884e-06 - val_loss: 1.8821e-04\n",
      "Epoch 113/150\n",
      "21/21 [==============================] - 0s 3ms/step - loss: 3.7421e-06 - val_loss: 1.9096e-04\n",
      "Epoch 114/150\n",
      "21/21 [==============================] - 0s 3ms/step - loss: 3.7961e-06 - val_loss: 1.9253e-04\n",
      "Epoch 115/150\n",
      "21/21 [==============================] - 0s 3ms/step - loss: 4.0862e-06 - val_loss: 1.9243e-04\n",
      "Epoch 116/150\n",
      "21/21 [==============================] - 0s 3ms/step - loss: 4.4944e-06 - val_loss: 1.9088e-04\n",
      "Epoch 117/150\n",
      "21/21 [==============================] - 0s 3ms/step - loss: 3.9464e-06 - val_loss: 1.8743e-04\n",
      "Epoch 118/150\n",
      "21/21 [==============================] - 0s 4ms/step - loss: 3.2738e-06 - val_loss: 1.8716e-04\n",
      "Epoch 119/150\n",
      "21/21 [==============================] - 0s 4ms/step - loss: 2.5218e-06 - val_loss: 1.9240e-04\n",
      "Epoch 120/150\n",
      "21/21 [==============================] - 0s 3ms/step - loss: 3.2414e-06 - val_loss: 1.8890e-04\n",
      "Epoch 121/150\n",
      "21/21 [==============================] - 0s 3ms/step - loss: 3.8957e-06 - val_loss: 1.8604e-04\n",
      "Epoch 122/150\n",
      "21/21 [==============================] - 0s 3ms/step - loss: 3.0105e-06 - val_loss: 2.0161e-04\n",
      "Epoch 123/150\n",
      "21/21 [==============================] - 0s 4ms/step - loss: 4.8229e-06 - val_loss: 1.8404e-04\n",
      "Epoch 124/150\n",
      "21/21 [==============================] - 0s 3ms/step - loss: 6.7549e-06 - val_loss: 1.8490e-04\n",
      "Epoch 125/150\n",
      "21/21 [==============================] - 0s 3ms/step - loss: 8.1539e-06 - val_loss: 1.9131e-04\n",
      "Epoch 126/150\n",
      "21/21 [==============================] - 0s 3ms/step - loss: 1.1176e-05 - val_loss: 1.8904e-04\n",
      "Epoch 127/150\n",
      "21/21 [==============================] - 0s 3ms/step - loss: 9.5119e-06 - val_loss: 1.9322e-04\n",
      "Epoch 128/150\n",
      "21/21 [==============================] - 0s 3ms/step - loss: 1.1817e-05 - val_loss: 2.0827e-04\n",
      "Epoch 129/150\n",
      "21/21 [==============================] - 0s 3ms/step - loss: 1.2520e-05 - val_loss: 1.8978e-04\n",
      "Epoch 130/150\n",
      "21/21 [==============================] - 0s 3ms/step - loss: 2.2123e-05 - val_loss: 2.0055e-04\n",
      "Epoch 131/150\n",
      "21/21 [==============================] - 0s 3ms/step - loss: 3.8580e-05 - val_loss: 3.1528e-04\n",
      "Epoch 132/150\n",
      "21/21 [==============================] - 0s 3ms/step - loss: 6.8498e-05 - val_loss: 2.7380e-04\n",
      "Epoch 133/150\n",
      "21/21 [==============================] - 0s 3ms/step - loss: 1.1537e-04 - val_loss: 2.6361e-04\n",
      "Epoch 134/150\n",
      "21/21 [==============================] - 0s 3ms/step - loss: 1.0914e-04 - val_loss: 2.3919e-04\n",
      "Epoch 135/150\n",
      "21/21 [==============================] - 0s 3ms/step - loss: 4.7388e-05 - val_loss: 1.8901e-04\n",
      "Epoch 136/150\n",
      "21/21 [==============================] - 0s 3ms/step - loss: 3.7698e-05 - val_loss: 2.0554e-04\n",
      "Epoch 137/150\n",
      "21/21 [==============================] - 0s 4ms/step - loss: 5.1829e-05 - val_loss: 2.0093e-04\n",
      "Epoch 138/150\n",
      "21/21 [==============================] - 0s 3ms/step - loss: 5.7174e-05 - val_loss: 1.9389e-04\n",
      "Epoch 139/150\n",
      "21/21 [==============================] - 0s 3ms/step - loss: 2.1949e-05 - val_loss: 1.5959e-04\n",
      "Epoch 140/150\n",
      "21/21 [==============================] - 0s 3ms/step - loss: 1.4616e-05 - val_loss: 1.5646e-04\n",
      "Epoch 141/150\n",
      "21/21 [==============================] - 0s 3ms/step - loss: 1.4915e-05 - val_loss: 1.5224e-04\n",
      "Epoch 142/150\n",
      "21/21 [==============================] - 0s 3ms/step - loss: 1.1912e-05 - val_loss: 1.5544e-04\n",
      "Epoch 143/150\n",
      "21/21 [==============================] - 0s 3ms/step - loss: 2.3195e-05 - val_loss: 1.6288e-04\n",
      "Epoch 144/150\n",
      "21/21 [==============================] - 0s 3ms/step - loss: 1.7456e-05 - val_loss: 1.5382e-04\n",
      "Epoch 145/150\n",
      "21/21 [==============================] - 0s 3ms/step - loss: 9.6502e-06 - val_loss: 1.6851e-04\n",
      "Epoch 146/150\n",
      "21/21 [==============================] - 0s 3ms/step - loss: 7.8136e-06 - val_loss: 1.5635e-04\n",
      "Epoch 147/150\n",
      "21/21 [==============================] - 0s 4ms/step - loss: 4.8510e-06 - val_loss: 1.4682e-04\n",
      "Epoch 148/150\n",
      "21/21 [==============================] - 0s 4ms/step - loss: 4.2752e-06 - val_loss: 1.5283e-04\n",
      "Epoch 149/150\n",
      "21/21 [==============================] - 0s 3ms/step - loss: 4.4955e-06 - val_loss: 1.4747e-04\n",
      "Epoch 150/150\n",
      "21/21 [==============================] - 0s 3ms/step - loss: 3.6282e-06 - val_loss: 1.4909e-04\n"
     ]
    },
    {
     "data": {
      "text/plain": [
       "<keras.callbacks.History at 0x18cede18490>"
      ]
     },
     "execution_count": 95,
     "metadata": {},
     "output_type": "execute_result"
    }
   ],
   "source": [
    "model1.fit(X_train1, y_train1, epochs=150, validation_data=(X_test1, y_test1), batch_size=32,callbacks=[early_stopping], verbose=1)"
   ]
  },
  {
   "cell_type": "code",
   "execution_count": 96,
   "id": "5d5f590d",
   "metadata": {},
   "outputs": [
    {
     "name": "stdout",
     "output_type": "stream",
     "text": [
      "Model: \"sequential_1\"\n",
      "_________________________________________________________________\n",
      " Layer (type)                Output Shape              Param #   \n",
      "=================================================================\n",
      " dense_2 (Dense)             (None, 4, 300)            2100      \n",
      "                                                                 \n",
      " conv1d_4 (Conv1D)           (None, 3, 300)            180300    \n",
      "                                                                 \n",
      " conv1d_5 (Conv1D)           (None, 2, 300)            180300    \n",
      "                                                                 \n",
      " conv1d_6 (Conv1D)           (None, 1, 6)              3606      \n",
      "                                                                 \n",
      " conv1d_7 (Conv1D)           (None, 1, 100)            700       \n",
      "                                                                 \n",
      " dense_3 (Dense)             (None, 1, 1)              101       \n",
      "                                                                 \n",
      "=================================================================\n",
      "Total params: 367,107\n",
      "Trainable params: 367,107\n",
      "Non-trainable params: 0\n",
      "_________________________________________________________________\n"
     ]
    }
   ],
   "source": [
    "model1.summary()"
   ]
  },
  {
   "cell_type": "code",
   "execution_count": 97,
   "id": "a190972d",
   "metadata": {},
   "outputs": [
    {
     "data": {
      "text/plain": [
       "0.951761848784593"
      ]
     },
     "execution_count": 97,
     "metadata": {},
     "output_type": "execute_result"
    }
   ],
   "source": [
    "preds1 = model1.predict(X_test1).ravel()\n",
    "r2_score(y_test1, preds1)"
   ]
  },
  {
   "cell_type": "code",
   "execution_count": 98,
   "id": "8e26d49c",
   "metadata": {},
   "outputs": [
    {
     "data": {
      "text/plain": [
       "0.012210365935890598"
      ]
     },
     "execution_count": 98,
     "metadata": {},
     "output_type": "execute_result"
    }
   ],
   "source": [
    "np.sqrt(mean_squared_error(y_test1, preds1))"
   ]
  },
  {
   "cell_type": "code",
   "execution_count": 99,
   "id": "d88f8ccb",
   "metadata": {},
   "outputs": [],
   "source": [
    "def predictor_std(x):\n",
    "    prediction = model1.predict(x.reshape(1, 4, 6))\n",
    "    return prediction.ravel()[0]"
   ]
  },
  {
   "cell_type": "code",
   "execution_count": 100,
   "id": "395fac45",
   "metadata": {},
   "outputs": [
    {
     "data": {
      "text/plain": [
       "0.45715767"
      ]
     },
     "execution_count": 100,
     "metadata": {},
     "output_type": "execute_result"
    }
   ],
   "source": [
    "predictor_std(np.repeat(0, 24))"
   ]
  },
  {
   "cell_type": "markdown",
   "id": "9fe12129",
   "metadata": {},
   "source": [
    "# Define New Optimization function"
   ]
  },
  {
   "cell_type": "markdown",
   "id": "198308ea",
   "metadata": {},
   "source": [
    "For the new optimization function we set the same method to calculate construction costs, but use our model and model1 predict() function to predict energy and standard deviation results (respectively). In the end of the function we write the function execution time, decision variables, and respective results in a csv file with previously defined file name."
   ]
  },
  {
   "cell_type": "code",
   "execution_count": 101,
   "id": "42c91dcf",
   "metadata": {},
   "outputs": [],
   "source": [
    "import time\n",
    "def surr_opt(xs):\n",
    "    startTime = time.time()\n",
    "    cost = []\n",
    "    column_names = []\n",
    "    x1 = []\n",
    "    area = full_area.sum()\n",
    "    for x in xs:\n",
    "        x1 = np.append(x1, round(x))\n",
    "    x = x1.astype(\"int\")\n",
    "    for i, kind in enumerate(x): \n",
    "        if i < len(buildings_str):#range for walls of each building\n",
    "            for wall in walls_per_building[\"Building_\" + str(1 + i)]:\n",
    "                cost = np.append(cost, wall_costs[kind]*wall.area)\n",
    "        elif i < len(buildings_str)*2: #range for roofs of each building\n",
    "            for roof in roofs_per_building[\"Building_\" + str(1 + i - len(buildings_str))]:\n",
    "                cost = np.append(cost, roof_costs[kind]*roof.area)\n",
    "        elif i < len(buildings_str)*3: #range for floors of each building\n",
    "            for floor, ceiling in zip(floors_per_building[\"Building_\" + str(1 + i - len(buildings_str)*2)], \n",
    "                                      ceilings_per_building[\"Building_\" + str(1 + i - len(buildings_str)*2)]):\n",
    "                cost = np.append(cost, floor_costs[kind]*floor.area)\n",
    "        elif i < len(buildings_str)*4: #range for windows of each building\n",
    "            for window in windows_per_building[\"Building_\" + str(1 + i - len(buildings_str)*3)]:\n",
    "                cost = np.append(cost, window_costs[kind]*window.area) #cost\n",
    "      \n",
    "    energy = predictor_energy(x) #energy use surrogate model\n",
    "    std = predictor_std(x) #energy std surrogate model\n",
    "    executionTime = time.time() - startTime #finish counting computing time\n",
    "    df = pd.DataFrame(np.hstack([executionTime, x, energy, std, np.sum(cost)])).T\n",
    "    df.to_csv(fname, mode='a', index=False, header=False) #write_to_file\n",
    "    return [energy, std, cost.sum()]"
   ]
  },
  {
   "cell_type": "markdown",
   "id": "f334d070",
   "metadata": {},
   "source": [
    "# Test optimization - Sanity Check"
   ]
  },
  {
   "cell_type": "markdown",
   "id": "67b1a120",
   "metadata": {},
   "source": [
    "Here we perform one NSGAII run with 500 iterations for our new surrogate optimization function, which instead of taking 25 seconds to perform a simulation, takes 0.25 sec. We compile the non dominated solutions variables DF, and solutions objectives\n",
    "DF. Then, we perform a sanity check with our model-based optimization function, that we run with the non dominated solutions variables, and compared simulated and predicted results."
   ]
  },
  {
   "cell_type": "code",
   "execution_count": 102,
   "id": "d0d4b6df",
   "metadata": {},
   "outputs": [],
   "source": [
    "#[32, 0.6614712928171238, 0.9982519910035073]#optimum results\n",
    "operators = CompoundOperator(SBX(0.998),PM(0.66))"
   ]
  },
  {
   "cell_type": "code",
   "execution_count": null,
   "id": "460492b9",
   "metadata": {
    "scrolled": true
   },
   "outputs": [],
   "source": [
    "problem = Problem(nvars, 3)\n",
    "problem.types[:] = problem_types\n",
    "problem.function = surr_opt\n",
    "\n",
    "fname = \"sanity_check\" + time_str() + '.csv'\n",
    "\n",
    "with open(fname, 'a') as my_new_csv_file:\n",
    "    algorithm = NSGAII(problem,\n",
    "                        population_size=32,\n",
    "                        variator = operators)\n",
    "    algorithm.run(500)"
   ]
  },
  {
   "cell_type": "code",
   "execution_count": null,
   "id": "e448d811",
   "metadata": {},
   "outputs": [],
   "source": [
    "x = [s.objectives[0] for s in algorithm.result]\n",
    "y = [s.objectives[1] for s in algorithm.result]\n",
    "z = [s.objectives[2] for s in algorithm.result]\n",
    "\n",
    "df_NSGAII = pd.DataFrame([x, y, z]).transpose()\n",
    "df_NSGAII.columns = [\"heating & cooling\", \"std\", \"total cost €\"]"
   ]
  },
  {
   "cell_type": "code",
   "execution_count": null,
   "id": "a7e8eab0",
   "metadata": {},
   "outputs": [],
   "source": [
    "variables = pd.DataFrame([s.variables for s in algorithm.result]).round()"
   ]
  },
  {
   "cell_type": "code",
   "execution_count": null,
   "id": "4b9795d9",
   "metadata": {
    "scrolled": true
   },
   "outputs": [],
   "source": [
    "variables"
   ]
  },
  {
   "cell_type": "markdown",
   "id": "874b2340",
   "metadata": {},
   "source": [
    "We can use previous sanity checks from our directory, this piece of code below is just when creating a new sanity check data-set from the non-dominated solutions of a new surrogate model optimization."
   ]
  },
  {
   "cell_type": "code",
   "execution_count": null,
   "id": "50d07965",
   "metadata": {},
   "outputs": [],
   "source": [
    "# fname = \"sanity_check\" + time_str() + \".csv\"\n",
    "# with open(fname, 'a') as my_new_csv_file:\n",
    "#     for i in variables.index:\n",
    "#         opt_output(np.array(variables.iloc[i])) "
   ]
  },
  {
   "cell_type": "code",
   "execution_count": null,
   "id": "d4caa3da",
   "metadata": {},
   "outputs": [],
   "source": [
    "test = pd.read_csv(\"sanity_check2022_6_15_11_27.csv\", header=None)"
   ]
  },
  {
   "cell_type": "code",
   "execution_count": null,
   "id": "e6fdc633",
   "metadata": {},
   "outputs": [],
   "source": [
    "test"
   ]
  },
  {
   "cell_type": "code",
   "execution_count": null,
   "id": "049d21c8",
   "metadata": {},
   "outputs": [],
   "source": [
    "energy_preds = []\n",
    "for i in test.index:\n",
    "    energy_preds.append(model.predict(np.array(test.drop([0, 25, 26, 27], axis=1).iloc[i]).reshape(1, 4, 6)).ravel())"
   ]
  },
  {
   "cell_type": "code",
   "execution_count": null,
   "id": "3c281565",
   "metadata": {},
   "outputs": [],
   "source": [
    "std_preds = []\n",
    "for i in test.index:\n",
    "    std_preds.append(model1.predict(np.array(test.drop([0, 25, 26, 27], axis=1).iloc[i]).reshape(1, 4, 6)).ravel())"
   ]
  },
  {
   "cell_type": "code",
   "execution_count": null,
   "id": "f0fe2ae5",
   "metadata": {},
   "outputs": [],
   "source": [
    "#Coefficient of Determination\n",
    "r2_score(test[25], energy_preds)"
   ]
  },
  {
   "cell_type": "code",
   "execution_count": null,
   "id": "931c8a2c",
   "metadata": {},
   "outputs": [],
   "source": [
    "r2_score(test[26], std_preds)"
   ]
  },
  {
   "cell_type": "code",
   "execution_count": null,
   "id": "c06749a8",
   "metadata": {},
   "outputs": [],
   "source": [
    "#Root Mean Squared Error\n",
    "np.sqrt(mean_squared_error(test[25], energy_preds))"
   ]
  },
  {
   "cell_type": "code",
   "execution_count": null,
   "id": "582e96be",
   "metadata": {
    "scrolled": true
   },
   "outputs": [],
   "source": [
    "np.sqrt(mean_squared_error(test[26], std_preds))"
   ]
  },
  {
   "cell_type": "markdown",
   "id": "9b0b88e3",
   "metadata": {},
   "source": [
    "Below are the hyperparameters optimization for both our CNN and metaheuristics algorithms."
   ]
  },
  {
   "cell_type": "markdown",
   "id": "7d742d03",
   "metadata": {},
   "source": [
    "# Optimize CNN Layers with Bayesian Optimization using Gaussian processes"
   ]
  },
  {
   "cell_type": "markdown",
   "id": "fe1acdcd",
   "metadata": {},
   "source": [
    "In this section we perform a Bayesian Optimization with Gaussian processes. Our objective is to minimize the RMSE of the model, and our decision variables are the nodes of the first 5 layers of our CNN - Integers from 6 to 300 nodes.  "
   ]
  },
  {
   "cell_type": "code",
   "execution_count": null,
   "id": "50add253",
   "metadata": {},
   "outputs": [],
   "source": [
    "X_train, X_test, y_train, y_test = train_test_split(X, y1, test_size=0.33) #HEating & Cooling data set y1"
   ]
  },
  {
   "cell_type": "code",
   "execution_count": null,
   "id": "49e3607d",
   "metadata": {},
   "outputs": [],
   "source": [
    "X_train1, X_test1, y_train1, y_test1 = train_test_split(X, y2, test_size=0.33) #STD data set y2"
   ]
  },
  {
   "cell_type": "code",
   "execution_count": null,
   "id": "1096fe0c",
   "metadata": {},
   "outputs": [],
   "source": [
    "#Lets start to optimize the layers neurons for the STD predictor.\n",
    "def CNN_opt(x):\n",
    "    startTime = time.time()\n",
    "    #Define Model\n",
    "    model = Sequential()\n",
    "    #Set NN Layers\n",
    "    model.add(Dense(x[0], activation=\"relu\"))\n",
    "    model.add(Conv1D(x[1], 2, activation=\"relu\"))\n",
    "    model.add(Conv1D(x[2], 2, activation=\"relu\"))\n",
    "    model.add(Conv1D(x[3], 2, activation=\"relu\"))\n",
    "    model.add(Conv1D(x[4], 1, activation=\"relu\"))\n",
    "\n",
    "    model.add(Dense(1))\n",
    "    #Compile\n",
    "    model.compile(loss=\"mse\", optimizer=\"adam\")\n",
    "    #Define which NN to train according to the objective - Heating & Cooling and STD\n",
    "    model.fit(X_train, y_train, epochs=150, validation_data=(X_test, y_test), batch_size=32, verbose=0, workers=10, use_multiprocessing=True)\n",
    "    \n",
    "    predictions = model.predict(test.drop([0, 25, 26, 27], axis=1).values.reshape(100, 4, 6))\n",
    "    score = r2_score(test[25], predictions.ravel())\n",
    "    mse = np.sqrt(mean_squared_error(test[25], predictions.ravel()))\n",
    "    executionTime = time.time() - startTime\n",
    "    print(x)\n",
    "    print(score)\n",
    "    print(mse)\n",
    "    print(executionTime)\n",
    "    print(\"---\")\n",
    "    return mse"
   ]
  },
  {
   "cell_type": "code",
   "execution_count": null,
   "id": "ecf854d6",
   "metadata": {},
   "outputs": [],
   "source": [
    "from skopt import gp_minimize"
   ]
  },
  {
   "cell_type": "code",
   "execution_count": null,
   "id": "d27ade4d",
   "metadata": {
    "scrolled": true
   },
   "outputs": [],
   "source": [
    "from skopt import gp_minimize\n",
    "from skopt.space import Real, Categorical, Integer\n",
    "search_space = list()\n",
    "search_space.append(Integer(6, 300))\n",
    "search_space.append(Integer(6, 300))\n",
    "search_space.append(Integer(6, 300))\n",
    "search_space.append(Integer(6, 300))\n",
    "search_space.append(Integer(6, 100))\n",
    "\n",
    "\n",
    "\n",
    "res = gp_minimize(CNN_opt,          # the function to minimize        \n",
    "                  search_space,     # the bounds on each dimension of x\n",
    "                  #n_calls=20,\n",
    "                  random_state=1)   # the random seed\n",
    "\n",
    "res.x #Best values"
   ]
  },
  {
   "cell_type": "markdown",
   "id": "f79654f5",
   "metadata": {},
   "source": [
    "# Experiment different algorithms, and optimize their hyperparameters with Surrogate"
   ]
  },
  {
   "cell_type": "code",
   "execution_count": null,
   "id": "9490777d",
   "metadata": {},
   "outputs": [],
   "source": [
    "import time\n",
    "def surr_opt1(xs):\n",
    "    startTime = time.time()\n",
    "    cost = []\n",
    "    column_names = []\n",
    "    x1 = []\n",
    "    area = full_area.sum()\n",
    "    for x in xs:\n",
    "        x1 = np.append(x1, round(x))\n",
    "    x = x1.astype(\"int\")\n",
    "    for i, kind in enumerate(x):\n",
    "        if i < len(buildings_str):\n",
    "            for wall in walls_per_building[\"Building_\" + str(1 + i)]:\n",
    "                cost = np.append(cost, wall_costs[kind]*wall.area)\n",
    "        elif i < len(buildings_str)*2:\n",
    "            for roof in roofs_per_building[\"Building_\" + str(1 + i - len(buildings_str))]:\n",
    "                cost = np.append(cost, roof_costs[kind]*roof.area)\n",
    "        elif i < len(buildings_str)*3:\n",
    "            for floor, ceiling in zip(floors_per_building[\"Building_\" + str(1 + i - len(buildings_str)*2)], \n",
    "                                      ceilings_per_building[\"Building_\" + str(1 + i - len(buildings_str)*2)]):\n",
    "                cost = np.append(cost, floor_costs[kind]*floor.area)\n",
    "        elif i < len(buildings_str)*4:\n",
    "            for window in windows_per_building[\"Building_\" + str(1 + i - len(buildings_str)*3)]:\n",
    "                cost = np.append(cost, window_costs[kind]*window.area)\n",
    "      \n",
    "    energy = predictor_energy(x) #Retrieve Annual heating energy and converts the total sum to Euro\n",
    "    std = predictor_std(x)\n",
    "    executionTime = time.time() - startTime #finish counting computing time\n",
    "#   This time we dont write results into a file since we are testing multiple runs\n",
    "    return [energy, std, cost.sum()]"
   ]
  },
  {
   "cell_type": "markdown",
   "id": "6318b34b",
   "metadata": {},
   "source": [
    "# Optimization hyperparameters tuning"
   ]
  },
  {
   "cell_type": "code",
   "execution_count": null,
   "id": "791836b2",
   "metadata": {},
   "outputs": [],
   "source": [
    "problem = Problem(nvars, 3)\n",
    "problem.types[:] = problem_types\n",
    "problem.function = surr_opt1"
   ]
  },
  {
   "cell_type": "code",
   "execution_count": null,
   "id": "1dd0e918",
   "metadata": {},
   "outputs": [],
   "source": [
    "operators_nsga = CompoundOperator(SBX(1),PM(0.59))\n",
    "operators_ibea = CompoundOperator(SBX(0.66),PM(1))\n",
    "operators_smpso = CompoundOperator(SBX(0.43),PM(0.35))\n",
    "operators_omopso = CompoundOperator(SBX(1),PM(0))"
   ]
  },
  {
   "cell_type": "code",
   "execution_count": null,
   "id": "69be5adb",
   "metadata": {},
   "outputs": [],
   "source": [
    "#This cell compares the optimized metaheuristics from the optimizations performed below\n",
    "from platypus import *\n",
    "import matplotlib.pyplot as plt\n",
    "from mpl_toolkits.mplot3d import Axes3D\n",
    "\n",
    "\n",
    "\n",
    "        \n",
    "algorithms = [(NSGAII, {\"population_size\": 30, \"variator\":operators_nsga}),\n",
    "              (IBEA, {\"population_size\": 32, \"variator\":operators_ibea}),\n",
    "              (OMOPSO, {\"swam_size\":30, \"leader_size\":200, \"max_iterations\":200, \"variator\":operators_omopso, \"epsilons\":[0.001]}),\n",
    "              (SMPSO, {\"swam_size\":68, \"leader_size\":59, \"max_iterations\":67, \"variator\":operators_smpso})]\n",
    "\n",
    "# run the experiment using Python 3's concurrent futures for parallel evaluation\n",
    "results = experiment(algorithms, problem, seeds=1, nfe=500)\n",
    "\n",
    "# display the results\n",
    "fig = plt.figure()\n",
    "\n",
    "for i, algorithm in enumerate(six.iterkeys(results)):\n",
    "    result = results[algorithm][\"Problem\"][0]\n",
    "\n",
    "    ax = fig.add_subplot(2, 5, i+1, projection='3d')\n",
    "    ax.scatter([s.objectives[0] for s in result],\n",
    "               [s.objectives[1] for s in result],\n",
    "               [s.objectives[2] for s in result])\n",
    "    ax.set_title(algorithm)\n",
    "    ax.set_xlim([30, 60])\n",
    "    ax.set_ylim([0.25, 0.50])\n",
    "    ax.set_zlim([400000, 900000])\n",
    "    ax.view_init(elev=30.0, azim=15.0)\n",
    "    ax.locator_params(nbins=4)\n",
    "\n",
    "plt.show()"
   ]
  },
  {
   "cell_type": "code",
   "execution_count": null,
   "id": "39dbf318",
   "metadata": {
    "scrolled": true
   },
   "outputs": [],
   "source": [
    "fig = plt.figure(figsize=(10, 10))\n",
    "for i, algorithm in enumerate(six.iterkeys(results)):\n",
    "    result = results[algorithm][\"Problem\"][0]\n",
    "\n",
    "    ax = fig.add_subplot(2, 2, i+1, projection=\"3d\")\n",
    "    ax.scatter([s.objectives[0] for s in result],\n",
    "               [s.objectives[1] for s in result],\n",
    "               [s.objectives[2] for s in result])\n",
    "    ax.set_title(algorithm)\n",
    "    ax.set_xlim([45, 55])\n",
    "    ax.set_ylim([0.3, 0.40])\n",
    "    ax.set_zlim([400000, 600000])\n",
    "    ax.set_xlabel(\"$f_{1}$ $kWh/m^{1}$\")\n",
    "    ax.set_ylabel(\"$f_{2}$ $kWh/m^{1}$\")\n",
    "    ax.set_zlabel(\"$f_{3}$ €\")\n",
    "    ax.view_init(elev=30.0, azim=225)\n",
    "    ax.locator_params(nbins=6)\n",
    "\n",
    "plt.show()"
   ]
  },
  {
   "cell_type": "markdown",
   "id": "1f6b5578",
   "metadata": {},
   "source": [
    "### NSGAII"
   ]
  },
  {
   "cell_type": "code",
   "execution_count": null,
   "id": "2ebb3548",
   "metadata": {},
   "outputs": [],
   "source": [
    "fname = \"NSGAII_opt\" + time_str() + \".csv\"\n",
    "def NSGAii_opt(x):\n",
    "    startTime = time.time()\n",
    "    n_iters = 500\n",
    "    ps = x[0]\n",
    "    pm = x[1]\n",
    "    sbx = x[2]\n",
    "    operators = CompoundOperator(SBX(sbx),PM(pm))\n",
    "    algorithm = NSGAII(problem, population_size=ps, variator= operators)\n",
    "    algorithm.run(n_iters)\n",
    "    \n",
    "    hyp = Hypervolume(minimum=[30, \n",
    "                       0.25,\n",
    "                       400000],\n",
    "              maximum=[61, \n",
    "                       0.5,\n",
    "                       900000])\n",
    "    \n",
    "    executionTime = time.time() - startTime\n",
    "    df = pd.DataFrame([executionTime, ps, pm, sbx, hyp.calculate(algorithm.result)]).T\n",
    "    df.to_csv(fname, mode='a', index=False, header=False) #write_to_file\n",
    "    print(\"execution time: \" + str(executionTime) + \" s\")\n",
    "    print(ps, pm, sbx)\n",
    "    print(hyp.calculate(algorithm.result))\n",
    "    print(\"---\")\n",
    "    return -hyp.calculate(algorithm.result)"
   ]
  },
  {
   "cell_type": "code",
   "execution_count": null,
   "id": "e62907fa",
   "metadata": {},
   "outputs": [],
   "source": [
    "from skopt import gp_minimize\n",
    "from skopt.space import Real, Categorical, Integer\n",
    "search_space = list()\n",
    "search_space.append(Integer(30, 200)) #population size\n",
    "search_space.append(Real(0, 1)) #polinomial mutation\n",
    "search_space.append(Real(0, 1)) #sbx crossover\n",
    "\n",
    "\n",
    "fname = \"NSGAII_hyp_opt\" + time_str() + \".csv\"\n",
    "with open(fname, \"a\"):\n",
    "    res = gp_minimize(NSGAii_opt,          # the function to minimize        \n",
    "                      search_space,     # the bounds on each dimension of x\n",
    "                      #n_calls=20,\n",
    "                      random_state=1)   # the random seed"
   ]
  },
  {
   "cell_type": "code",
   "execution_count": null,
   "id": "d14e90f1",
   "metadata": {},
   "outputs": [],
   "source": [
    "res.x"
   ]
  },
  {
   "cell_type": "code",
   "execution_count": null,
   "id": "50b7c255",
   "metadata": {},
   "outputs": [],
   "source": [
    "\n",
    "# operators = CompoundOperator(SBX(0.59),PM(1))\n",
    "\n",
    "# fname = \"NSGAII_opt\" + time_str() + '.csv'\n",
    "\n",
    "# with open(fname, 'a') as my_new_csv_file:\n",
    "#     algorithm = NSGAII(problem,\n",
    "#                         population_size=30,\n",
    "#                         variator = operators)\n",
    "#     algorithm.run(500)\n",
    "\n"
   ]
  },
  {
   "cell_type": "markdown",
   "id": "3139e342",
   "metadata": {},
   "source": [
    "### IBEA"
   ]
  },
  {
   "cell_type": "code",
   "execution_count": null,
   "id": "8c364e66",
   "metadata": {},
   "outputs": [],
   "source": [
    "def IBEA_opt(x):\n",
    "    startTime = time.time()\n",
    "    n_iters = 500\n",
    "    ps = x[0]\n",
    "    pm = x[1]\n",
    "    sbx = x[2]\n",
    "    operators = CompoundOperator(SBX(sbx),PM(pm))\n",
    "    algorithm = IBEA(problem, population_size=ps, variator= operators)\n",
    "    algorithm.run(n_iters)\n",
    "    \n",
    "    hyp = Hypervolume(minimum=[30, \n",
    "                       0.25,\n",
    "                       400000],\n",
    "              maximum=[61, \n",
    "                       0.5,\n",
    "                       900000])\n",
    "    \n",
    "    executionTime = time.time() - startTime\n",
    "    df = pd.DataFrame([executionTime, ps, pm, sbx, hyp.calculate(algorithm.result)]).T\n",
    "    df.to_csv(fname, mode='a', index=False, header=False) #write_to_file\n",
    "    print(\"execution time: \" + str(executionTime) + \" s\")\n",
    "    print(ps, pm, sbx)\n",
    "    print(hyp.calculate(algorithm.result))\n",
    "    print(\"---\")\n",
    "    return -hyp.calculate(algorithm.result)"
   ]
  },
  {
   "cell_type": "code",
   "execution_count": null,
   "id": "19719d7a",
   "metadata": {
    "scrolled": true
   },
   "outputs": [],
   "source": [
    "from skopt import gp_minimize\n",
    "from skopt.space import Real, Categorical, Integer\n",
    "search_space = list()\n",
    "search_space.append(Integer(30, 200)) #population size\n",
    "search_space.append(Real(0, 1)) #polinomial mutation\n",
    "search_space.append(Real(0, 1)) #sbx crossover\n",
    "\n",
    "\n",
    "fname = \"IBEA_hyp_opt\" + time_str() + \".csv\"\n",
    "with open(fname, \"a\"):\n",
    "    res = gp_minimize(IBEA_opt,          # the function to minimize        \n",
    "                      search_space,     # the bounds on each dimension of x\n",
    "                      #n_calls=20,\n",
    "                      random_state=1)   # the random seed"
   ]
  },
  {
   "cell_type": "code",
   "execution_count": null,
   "id": "f2fac93d",
   "metadata": {},
   "outputs": [],
   "source": [
    "res.x"
   ]
  },
  {
   "cell_type": "markdown",
   "id": "c90ec9c2",
   "metadata": {},
   "source": [
    "### OMOPSO"
   ]
  },
  {
   "cell_type": "code",
   "execution_count": null,
   "id": "58a0fe1e",
   "metadata": {},
   "outputs": [],
   "source": [
    "def OMOPSO_opt(x):\n",
    "    startTime = time.time()\n",
    "    n_iters = 500\n",
    "    ss = x[0]\n",
    "    ls = x[1]\n",
    "    max_iter = x[2]\n",
    "    pm = x[3]\n",
    "    sbx = x[4]\n",
    "    ep = x[5]\n",
    "    operators = CompoundOperator(SBX(sbx),PM(pm))\n",
    "    algorithm = OMOPSO(problem, epsilons=ep, swarm_size=ss, leader_size=ls, max_iterations=max_iter, variator= operators)\n",
    "    algorithm.run(n_iters)\n",
    "    \n",
    "    hyp = Hypervolume(minimum=[30, \n",
    "                       0.25,\n",
    "                       400000],\n",
    "              maximum=[61, \n",
    "                       0.5,\n",
    "                       900000])\n",
    "    \n",
    "    executionTime = time.time() - startTime\n",
    "    df = pd.DataFrame([executionTime, ss, ls, max_iter, pm, sbx, ep, hyp.calculate(algorithm.result)]).T\n",
    "    df.to_csv(fname, mode='a', index=False, header=False) #write_to_file\n",
    "    print(\"execution time: \" + str(executionTime) + \" s\")\n",
    "    print(ss, ls, max_iter, pm, sbx, ep)\n",
    "    print(hyp.calculate(algorithm.result))\n",
    "    print(\"---\")\n",
    "    return -hyp.calculate(algorithm.result)"
   ]
  },
  {
   "cell_type": "code",
   "execution_count": null,
   "id": "61d0ad93",
   "metadata": {
    "scrolled": true
   },
   "outputs": [],
   "source": [
    "from skopt import gp_minimize\n",
    "from skopt.space import Real, Categorical, Integer\n",
    "search_space = list()\n",
    "search_space.append(Integer(30, 200)) #swarm size\n",
    "search_space.append(Integer(30, 200)) #leader size\n",
    "search_space.append(Integer(30, 200)) #max_iter\n",
    "search_space.append(Real(0, 1)) #polinomial mutation\n",
    "search_space.append(Real(0, 1)) #sbx crossover\n",
    "search_space.append(Real(0.001, 1)) #Epsilons\n",
    "\n",
    "fname = \"OMOPSO_hyp_opt\" + time_str() + \".csv\"\n",
    "with open(fname, \"a\"):\n",
    "    res = gp_minimize(OMOPSO_opt,          # the function to minimize        \n",
    "                      search_space,     # the bounds on each dimension of x\n",
    "                      #n_calls=20,\n",
    "                      random_state=1)   # the random seed"
   ]
  },
  {
   "cell_type": "code",
   "execution_count": null,
   "id": "75b5459a",
   "metadata": {},
   "outputs": [],
   "source": [
    "res.x #NSGAII optimal"
   ]
  },
  {
   "cell_type": "markdown",
   "id": "c87029b1",
   "metadata": {},
   "source": [
    "### SMPSO"
   ]
  },
  {
   "cell_type": "code",
   "execution_count": null,
   "id": "fadf3f0a",
   "metadata": {},
   "outputs": [],
   "source": [
    "def SMPSO_opt(x):\n",
    "    startTime = time.time()\n",
    "    n_iters = 500\n",
    "    ss = x[0]\n",
    "    ls = x[1]\n",
    "    max_iter = x[2]\n",
    "    pm = x[3]\n",
    "    sbx = x[4]\n",
    "    operators = CompoundOperator(SBX(sbx),PM(pm))\n",
    "    algorithm = SMPSO(problem, swarm_size=ss, leader_size=ls, max_iterations=max_iter, variator= operators)\n",
    "    algorithm.run(n_iters)\n",
    "    \n",
    "    hyp = Hypervolume(minimum=[30, \n",
    "                       0.25,\n",
    "                       400000],\n",
    "              maximum=[61, \n",
    "                       0.5,\n",
    "                       900000])\n",
    "    \n",
    "    executionTime = time.time() - startTime\n",
    "    df = pd.DataFrame([executionTime, ss, ls, max_iter, pm, sbx, hyp.calculate(algorithm.result)]).T\n",
    "    df.to_csv(fname, mode='a', index=False, header=False) #write_to_file\n",
    "    print(\"execution time: \" + str(executionTime) + \" s\")\n",
    "    print(ss, ls, max_iter, pm, sbx)\n",
    "    print(hyp.calculate(algorithm.result))\n",
    "    print(\"---\")\n",
    "    return -hyp.calculate(algorithm.result)"
   ]
  },
  {
   "cell_type": "code",
   "execution_count": null,
   "id": "a02c2802",
   "metadata": {
    "scrolled": true
   },
   "outputs": [],
   "source": [
    "from skopt import gp_minimize\n",
    "from skopt.space import Real, Categorical, Integer\n",
    "search_space = list()\n",
    "search_space.append(Integer(30, 200)) #swarm size\n",
    "search_space.append(Integer(30, 200)) #leader size\n",
    "search_space.append(Integer(30, 200)) #max_iter\n",
    "search_space.append(Real(0, 1)) #polinomial mutation\n",
    "search_space.append(Real(0, 1)) #sbx crossover\n",
    "\n",
    "fname = \"SMPSO_hyp_opt\" + time_str() + \".csv\"\n",
    "with open(fname, \"a\"):\n",
    "    res1 = gp_minimize(SMPSO_opt,          # the function to minimize        \n",
    "                      search_space,     # the bounds on each dimension of x\n",
    "                      #n_calls=20,\n",
    "                      random_state=1)   # the random seed"
   ]
  },
  {
   "cell_type": "code",
   "execution_count": null,
   "id": "338e150b",
   "metadata": {},
   "outputs": [],
   "source": [
    "res1.x #NSGAII optimal"
   ]
  },
  {
   "cell_type": "markdown",
   "id": "a895187c",
   "metadata": {},
   "source": [
    "# Final Results"
   ]
  },
  {
   "cell_type": "code",
   "execution_count": null,
   "id": "59caf877",
   "metadata": {},
   "outputs": [],
   "source": [
    "problem = Problem(nvars, 3)\n",
    "problem.types[:] = problem_types\n",
    "problem.function = surr_opt\n",
    "\n",
    "fname = \"FINAL_NSGAII\" + time_str() + '.csv'\n",
    "\n",
    "with open(fname, 'a') as my_new_csv_file:\n",
    "    algorithm = NSGAII(problem,\n",
    "                        population_size=600,\n",
    "                        variator = operators_nsga)\n",
    "    algorithm.run(10000)"
   ]
  },
  {
   "cell_type": "code",
   "execution_count": null,
   "id": "70e3f0ec",
   "metadata": {},
   "outputs": [],
   "source": [
    "hyp = Hypervolume(minimum=[30, \n",
    "                       0.25,\n",
    "                       400000],\n",
    "              maximum=[61, \n",
    "                       0.5,\n",
    "                       900000])\n",
    "hyp.calculate(algorithm.result)"
   ]
  },
  {
   "cell_type": "code",
   "execution_count": null,
   "id": "eb470b31",
   "metadata": {},
   "outputs": [],
   "source": [
    "x = [s.objectives[0] for s in algorithm.result]\n",
    "y = [s.objectives[1] for s in algorithm.result]\n",
    "z = [s.objectives[2] for s in algorithm.result]\n",
    "\n",
    "df_NSGAII = pd.DataFrame([x, y, z]).transpose()\n",
    "df_NSGAII.columns = [\"heating & cooling\", \"std\", \"total cost €\"]"
   ]
  },
  {
   "cell_type": "code",
   "execution_count": null,
   "id": "7e2223c4",
   "metadata": {
    "scrolled": true
   },
   "outputs": [],
   "source": [
    "### Visualize Surrogate Non-Dominated solutions\n",
    "import plotly.graph_objects as go\n",
    "fig = go.Figure()\n",
    "dfs = {\"NSGAII\" : df_NSGAII}\n",
    "\n",
    "for i in dfs:\n",
    "    fig = fig.add_trace(go.Scatter3d(#data_frame = dfs[i],\n",
    "                                    x = dfs[i][\"heating & cooling\"],\n",
    "                                    y = dfs[i][\"std\"],\n",
    "                                    z = dfs[i][\"total cost €\"],\n",
    "                                    name = i,\n",
    "                                    opacity = 0.7,\n",
    "                                    #line = None,\n",
    "                                    mode = \"markers\",\n",
    "                                    marker = dict(size = 0),\n",
    "                                    #alphahull =0,\n",
    "                                    showlegend= True))\n",
    "    \n",
    "\n",
    "\n",
    "fig = fig.add_trace(go.Scatter3d(#data_frame = dfs[i],\n",
    "                                    x = np.array(surr_opt1(x2)[0]),\n",
    "                                    y = np.array(surr_opt1(x2)[1]),\n",
    "                                    z = np.array(surr_opt1(x2)[2]),\n",
    "                                    name = \"Most Expensive\",\n",
    "                                    opacity = 1,\n",
    "                                    #line = None,\n",
    "                                    mode = \"markers\",\n",
    "                                    marker = dict(size = 0),\n",
    "                                    #alphahull =0,\n",
    "                                    showlegend= True))\n",
    "\n",
    "fig.update_layout(\n",
    "    scene=dict(\n",
    "        xaxis_title='f<sub>1</sub> kWh/m<sup>2</sup>',\n",
    "        yaxis_title='f<sub>2</sub> kWh/m<sup>2</sup>',\n",
    "        zaxis_title='f<sub>3</sub> €',\n",
    "    ),\n",
    ")\n",
    "    \n",
    "fig.show()"
   ]
  },
  {
   "cell_type": "code",
   "execution_count": null,
   "id": "28de8eda",
   "metadata": {},
   "outputs": [],
   "source": [
    "import numpy as np\n",
    "import pandas as pd\n",
    "import matplotlib.pyplot as plt\n",
    "import seaborn as sns"
   ]
  },
  {
   "cell_type": "code",
   "execution_count": null,
   "id": "445e98ff",
   "metadata": {},
   "outputs": [],
   "source": [
    "sorts = pd.read_csv(\"sorts.csv\")"
   ]
  },
  {
   "cell_type": "code",
   "execution_count": null,
   "id": "e7c91004",
   "metadata": {},
   "outputs": [],
   "source": [
    "sorts"
   ]
  },
  {
   "cell_type": "code",
   "execution_count": null,
   "id": "bbe4b7ce",
   "metadata": {},
   "outputs": [],
   "source": [
    "g = sns.lineplot(x = sorts.index, y=sorts[\"OMOPSO\"])\n",
    "sns.lineplot(x = sorts.index, y=sorts[\"SMPSO\"])\n",
    "sns.lineplot(x = sorts.index, y=sorts[\"NSGAII\"])\n",
    "sns.lineplot(x = sorts.index, y=sorts[\"IBEA\"])\n",
    "g.legend([\"OMOPSO\", \"SMPSO\", \"NSGAII\", \"IBEA\"])"
   ]
  },
  {
   "cell_type": "code",
   "execution_count": null,
   "id": "3d803318",
   "metadata": {},
   "outputs": [],
   "source": []
  },
  {
   "cell_type": "code",
   "execution_count": null,
   "id": "0c6a8a3b",
   "metadata": {},
   "outputs": [],
   "source": []
  },
  {
   "cell_type": "code",
   "execution_count": null,
   "id": "a981a394",
   "metadata": {},
   "outputs": [],
   "source": []
  },
  {
   "cell_type": "markdown",
   "id": "78913839",
   "metadata": {},
   "source": [
    "This work was supported by international funds through Fundo Europeu de Desenvolvimento Regional (FEDER) with reference <i> POCI-01-0247-FEDER-045919 </i>, national funds through PhD grant under contract of FCT with reference <i>2021.04849.BD.</i><p>\n",
    "If you use this notebook for research purposes please cite: <p>\n",
    "<i>G. Araujo, L. Santos, A. Leitão, and R. Gomes, “Ad-based surrogate models for simulation and optimization of large urban areas,” in 27th International Conference of the Association for Computer-Aided Architectural Design Research in Asia (CAADRIA 2022)"
   ]
  }
 ],
 "metadata": {
  "kernelspec": {
   "display_name": "Python 3",
   "language": "python",
   "name": "python3"
  },
  "language_info": {
   "codemirror_mode": {
    "name": "ipython",
    "version": 3
   },
   "file_extension": ".py",
   "mimetype": "text/x-python",
   "name": "python",
   "nbconvert_exporter": "python",
   "pygments_lexer": "ipython3",
   "version": "3.8.8"
  }
 },
 "nbformat": 4,
 "nbformat_minor": 5
}
